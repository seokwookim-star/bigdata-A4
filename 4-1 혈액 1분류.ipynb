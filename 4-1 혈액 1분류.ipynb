{
 "cells": [
  {
   "cell_type": "code",
   "execution_count": 1,
   "metadata": {},
   "outputs": [],
   "source": [
    "# 데이터 구성 패키지 : Series, DataFrame\n",
    "import pandas as pd\n",
    "# 행렬 연산 패키지\n",
    "import numpy as np\n",
    "# export_graphviz : 나무 구조 생성 및 저장\n",
    "from sklearn.tree import export_graphviz\n",
    "# grapviz : 나무 구조 시각화 (.dot 확장자 파일 불러오기 등)\n",
    "import graphviz\n",
    "# matplotlib 이용한 Background 그래프 실행 및 결과 확인\n",
    "import matplotlib\n",
    "import matplotlib.pyplot as plt\n",
    "import seaborn as sns\n",
    "# 데이터 분할 : train, test\n",
    "from sklearn.model_selection import train_test_split\n",
    "# 예측/회귀 Decision Tree/RandomForest/그래디언트 부스팅\n",
    "from sklearn.tree import DecisionTreeRegressor\n",
    "from sklearn.ensemble import RandomForestRegressor\n",
    "from sklearn.ensemble import GradientBoostingRegressor\n",
    "# 모델 성능 평가 라이브러리\n",
    "from sklearn.tree import DecisionTreeClassifier\n",
    "from sklearn.ensemble import RandomForestClassifier\n",
    "from sklearn.ensemble import GradientBoostingClassifier\n",
    "# 최적 모델, 파라미터 탐색\n",
    "from sklearn.model_selection import GridSearchCV\n",
    "from statsmodels.stats.outliers_influence import variance_inflation_factor\n",
    "#변수선택법 (후진제거법)\n",
    "from sklearn.feature_selection import RFE\n",
    "# mse와 mae 비교 / 주성분분석 / \n",
    "from sklearn.metrics import mean_squared_error\n",
    "from sklearn.metrics import mean_absolute_error\n",
    "from sklearn.decomposition import PCA\n",
    "import pandas as pd\n",
    "import numpy as np\n",
    "pd.set_option('display.max_rows', 500)\n",
    "# 최대 열 수 설정df_raw\n",
    "pd.set_option('display.max_columns', 500)\n",
    "# 표시할 가로의 길이\n",
    "pd.set_option('display.width', 1000)\n",
    "from sklearn.preprocessing import StandardScaler\n",
    "from sklearn.neural_network import MLPClassifier\n",
    "from sklearn.neighbors import KNeighborsClassifier\n",
    "#confusion matrix\n",
    "from sklearn.metrics import confusion_matrix\n",
    "#stats model\n",
    "from statsmodels.formula.api import ols\n",
    "from statsmodels.api import qqplot, add_constant\n",
    "from statsmodels.tools.eval_measures import rmse\n",
    "import statsmodels.formula.api as smf\n",
    "import statsmodels.api as sm8\n",
    "#선형 회귀모형\n",
    "from sklearn.linear_model import LinearRegression\n",
    "import graphviz\n",
    "import os\n",
    "from sklearn.metrics import confusion_matrix\n",
    "from scipy.stats import chi2_contingency\n",
    "from scipy import stats\n",
    "#한글 폰트(나눔 고딕) 리눅스 환경이라 새로 설치를 했습니다.\n",
    "matplotlib.rc('font', family = 'NanumGothic')\n",
    "plt.rcParams['axes.unicode_minus'] = False\n",
    "# 폰트 사이즈\n",
    "plt.rcParams['font.size'] = 10.\n",
    "# x축 라벨사이즈\n",
    "plt.rcParams['xtick.labelsize'] = 10.\n",
    "# y축 라벨사이즈\n",
    "from sklearn.metrics import confusion_matrix\n",
    "from statsmodels.stats.proportion import proportions_ztest\n",
    "from sklearn.metrics import f1_score,roc_curve,auc,precision_score,recall_score\n",
    "#한글 폰트(나눔 고딕) 리눅스 환경이라 새로 설치를 했습니다.\n",
    "matplotlib.rc('font', family = 'NanumGothic')\n",
    "plt.rcParams['axes.unicode_minus'] = False\n",
    "# 폰트 사이즈\n",
    "plt.rcParams['font.size'] = 10.\n",
    "# x축 라벨사이즈\n",
    "plt.rcParams['xtick.labelsize'] = 10.\n",
    "# y축 라벨사이즈\n",
    "plt.rcParams['ytick.labelsize'] = 10.\n",
    "#그래프 축 폰트사이즈\n",
    "plt.rcParams['axes.labelsize'] = 10.\n",
    "\n",
    "plt.rcParams['ytick.labelsize'] = 10.\n",
    "#그래프 축 폰트사이즈\n",
    "plt.rcParams['axes.labelsize'] = 10.\n",
    "\n",
    "os.environ[\"PATH\"] += os.pathsep + \"./graphviz/bin\"\n",
    "\n",
    "#로지스틱 회귀분석\n",
    "from statsmodels.api import Logit\n",
    "from sklearn.metrics import accuracy_score\n",
    "\n",
    "#분류SVM\n",
    "from sklearn.svm import SVC\n",
    "\n",
    "from sklearn.metrics import confusion_matrix\n",
    "\n",
    "\n",
    "%matplotlib inline"
   ]
  },
  {
   "cell_type": "code",
   "execution_count": 2,
   "metadata": {},
   "outputs": [],
   "source": [
    "df_raw = pd.read_csv('review_1.csv',encoding='euckr')"
   ]
  },
  {
   "cell_type": "code",
   "execution_count": 3,
   "metadata": {},
   "outputs": [
    {
     "data": {
      "text/plain": [
       "Unnamed: 0           0\n",
       "Unnamed: 0.1         0\n",
       "customer_id          0\n",
       "review_cat           0\n",
       "judge                0\n",
       "review_date          0\n",
       "gender               0\n",
       "age                  0\n",
       "height               0\n",
       "weight               0\n",
       "bust                 0\n",
       "waist                0\n",
       "bp_min               0\n",
       "bp_max               0\n",
       "pulse_count          0\n",
       "bt_chol              0\n",
       "bt_crea              0\n",
       "bt_gluc              0\n",
       "bt_hb                0\n",
       "bt_hbsa              0\n",
       "bt_hct               0\n",
       "bt_mch               0\n",
       "bt_mchc              0\n",
       "bt_mvc               0\n",
       "bt_plat              0\n",
       "bt_rbc               0\n",
       "bt_wbc               0\n",
       "bt_rgpt              0\n",
       "bt_sgot              0\n",
       "bt_sgpt              0\n",
       "bt_trig              0\n",
       "judge_score          0\n",
       "bp_judge             0\n",
       "pulse_count_judge    0\n",
       "bt_chol_judge        0\n",
       "bt_crea_judge        0\n",
       "bt_gluc_judge        0\n",
       "bt_hb_judge          0\n",
       "bt_hbsa_judge        0\n",
       "bt_hct_judge         0\n",
       "bt_mch_judge         0\n",
       "bt_mchc_judge        0\n",
       "bt_mvc_judge         0\n",
       "bt_plat_judge        0\n",
       "bt_rbc_judge         0\n",
       "bt_wbc_judge         0\n",
       "bt_rgpt_judge        0\n",
       "bt_sgot_judge        0\n",
       "bt_sgpt_judge        0\n",
       "bt_trig_judge        0\n",
       "bmi                  0\n",
       "whtr                 0\n",
       "rfm                  0\n",
       "risk                 0\n",
       "dtype: int64"
      ]
     },
     "execution_count": 3,
     "metadata": {},
     "output_type": "execute_result"
    }
   ],
   "source": [
    "df_raw.isna().sum()"
   ]
  },
  {
   "cell_type": "code",
   "execution_count": 4,
   "metadata": {},
   "outputs": [],
   "source": [
    "bl_raw = df_raw[df_raw['review_cat'] == '혈액검사']"
   ]
  },
  {
   "cell_type": "code",
   "execution_count": 5,
   "metadata": {},
   "outputs": [
    {
     "data": {
      "text/plain": [
       "Unnamed: 0           0\n",
       "Unnamed: 0.1         0\n",
       "customer_id          0\n",
       "review_cat           0\n",
       "judge                0\n",
       "review_date          0\n",
       "gender               0\n",
       "age                  0\n",
       "height               0\n",
       "weight               0\n",
       "bust                 0\n",
       "waist                0\n",
       "bp_min               0\n",
       "bp_max               0\n",
       "pulse_count          0\n",
       "bt_chol              0\n",
       "bt_crea              0\n",
       "bt_gluc              0\n",
       "bt_hb                0\n",
       "bt_hbsa              0\n",
       "bt_hct               0\n",
       "bt_mch               0\n",
       "bt_mchc              0\n",
       "bt_mvc               0\n",
       "bt_plat              0\n",
       "bt_rbc               0\n",
       "bt_wbc               0\n",
       "bt_rgpt              0\n",
       "bt_sgot              0\n",
       "bt_sgpt              0\n",
       "bt_trig              0\n",
       "judge_score          0\n",
       "bp_judge             0\n",
       "pulse_count_judge    0\n",
       "bt_chol_judge        0\n",
       "bt_crea_judge        0\n",
       "bt_gluc_judge        0\n",
       "bt_hb_judge          0\n",
       "bt_hbsa_judge        0\n",
       "bt_hct_judge         0\n",
       "bt_mch_judge         0\n",
       "bt_mchc_judge        0\n",
       "bt_mvc_judge         0\n",
       "bt_plat_judge        0\n",
       "bt_rbc_judge         0\n",
       "bt_wbc_judge         0\n",
       "bt_rgpt_judge        0\n",
       "bt_sgot_judge        0\n",
       "bt_sgpt_judge        0\n",
       "bt_trig_judge        0\n",
       "bmi                  0\n",
       "whtr                 0\n",
       "rfm                  0\n",
       "risk                 0\n",
       "dtype: int64"
      ]
     },
     "execution_count": 5,
     "metadata": {},
     "output_type": "execute_result"
    }
   ],
   "source": [
    "bl_raw.isna().sum() # 989개 데이터 활용 증가, 혈액, 일반 분리하여 모델 진행"
   ]
  },
  {
   "cell_type": "markdown",
   "metadata": {},
   "source": [
    "# 탐색적 분석"
   ]
  },
  {
   "cell_type": "code",
   "execution_count": 6,
   "metadata": {},
   "outputs": [],
   "source": [
    "def myhist(data,var):\n",
    "    plt.hist(data[data['risk']==0][var],label = '수익', alpha = 0.5)\n",
    "    plt.hist(data[data['risk']==1][var],label = '위험', alpha = 0.5)\n",
    "    plt.legend()\n",
    "    \n",
    "def mycrosstab(data,var) : \n",
    "    print(pd.crosstab(index = data['risk'], columns = data[var]))\n",
    "    print()\n",
    "    print(pd.crosstab(index = data['risk'], columns = data[var],normalize = 'columns').round(3))"
   ]
  },
  {
   "cell_type": "code",
   "execution_count": 7,
   "metadata": {},
   "outputs": [],
   "source": [
    "def my_t(data,var):\n",
    "    k = stats.levene(data[data['risk']==0][var],data[data['risk']==1][var])\n",
    "    t_result = stats.ttest_ind(data[data['risk']==0][[var]],\n",
    "                               data[data['risk']==1][[var]],equal_var=True) # 2 sample 비교 명령어\n",
    "\n",
    "    t,p = t_result\n",
    "    print(k,p)"
   ]
  },
  {
   "cell_type": "code",
   "execution_count": 8,
   "metadata": {},
   "outputs": [
    {
     "data": {
      "image/png": "[encoded data removed]",
      "text/plain": [
       "<Figure size 432x288 with 1 Axes>"
      ]
     },
     "metadata": {
      "needs_background": "light"
     },
     "output_type": "display_data"
    }
   ],
   "source": [
    "myhist(bl_raw,'gender')"
   ]
  },
  {
   "cell_type": "code",
   "execution_count": 9,
   "metadata": {},
   "outputs": [
    {
     "name": "stdout",
     "output_type": "stream",
     "text": [
      "gender     1     2\n",
      "risk              \n",
      "0.0      127   199\n",
      "1.0     1268  1937\n",
      "\n",
      "gender      1      2\n",
      "risk                \n",
      "0.0     0.091  0.093\n",
      "1.0     0.909  0.907\n"
     ]
    }
   ],
   "source": [
    "mycrosstab(bl_raw,'gender')"
   ]
  },
  {
   "cell_type": "code",
   "execution_count": 10,
   "metadata": {},
   "outputs": [
    {
     "name": "stdout",
     "output_type": "stream",
     "text": [
      "p-value는 0.756, 따라서 5%에서 유의하지않다\n"
     ]
    }
   ],
   "source": [
    "count = np.array([127,201])\n",
    "num = np.array([127+1270,201+1937])\n",
    "\n",
    "stat, p_value = proportions_ztest(count,num)\n",
    "print('p-value는 {:.3f}, 따라서 5%에서 유의하지않다'.format(p_value.round(3)))"
   ]
  },
  {
   "cell_type": "code",
   "execution_count": 11,
   "metadata": {},
   "outputs": [
    {
     "data": {
      "image/png": "[encoded data removed]",
      "text/plain": [
       "<Figure size 432x288 with 1 Axes>"
      ]
     },
     "metadata": {
      "needs_background": "light"
     },
     "output_type": "display_data"
    }
   ],
   "source": [
    "myhist(bl_raw,'bt_hbsa')"
   ]
  },
  {
   "cell_type": "code",
   "execution_count": 12,
   "metadata": {},
   "outputs": [
    {
     "name": "stdout",
     "output_type": "stream",
     "text": [
      "bt_hbsa   0.0  1.0\n",
      "risk              \n",
      "0.0       293   33\n",
      "1.0      2815  390\n",
      "\n",
      "bt_hbsa    0.0    1.0\n",
      "risk                 \n",
      "0.0      0.094  0.078\n",
      "1.0      0.906  0.922\n"
     ]
    }
   ],
   "source": [
    "mycrosstab(bl_raw,'bt_hbsa')"
   ]
  },
  {
   "cell_type": "code",
   "execution_count": 13,
   "metadata": {},
   "outputs": [
    {
     "name": "stdout",
     "output_type": "stream",
     "text": [
      "p-value는 0.333, 따라서 5%에서 유의하지않다\n"
     ]
    }
   ],
   "source": [
    "count = np.array([294,34])\n",
    "num = np.array([2816+294,391+34])\n",
    "\n",
    "stat, p_value = proportions_ztest(count,num)\n",
    "print('p-value는 {:.3f}, 따라서 5%에서 유의하지않다'.format(p_value.round(3)))"
   ]
  },
  {
   "cell_type": "code",
   "execution_count": 14,
   "metadata": {},
   "outputs": [],
   "source": [
    "bl_set = bl_raw[['age', 'height', 'weight', 'bust', 'waist', 'bmi', 'whtr', 'rfm',\n",
    "       'bp_min', 'bp_max', 'pulse_count', 'bt_chol', 'bt_gluc',\n",
    "       'bt_sgpt', 'judge_score',\n",
    "       'bp_judge', 'pulse_count_judge', 'bt_chol_judge', 'bt_crea_judge',\n",
    "       'bt_gluc_judge', 'bt_hb_judge', 'bt_hbsa_judge', 'bt_hct_judge',\n",
    "       'bt_mch_judge', 'bt_mchc_judge', 'bt_mvc_judge', 'bt_plat_judge',\n",
    "       'bt_rbc_judge', 'bt_wbc_judge', 'bt_rgpt_judge', 'bt_sgot_judge',\n",
    "       'bt_sgpt_judge', 'bt_trig_judge', 'risk']]"
   ]
  },
  {
   "cell_type": "code",
   "execution_count": 15,
   "metadata": {},
   "outputs": [
    {
     "name": "stdout",
     "output_type": "stream",
     "text": [
      "age+height+weight+bust+waist+bmi+whtr+rfm+bp_min+bp_max+pulse_count+bt_chol+bt_gluc+bt_sgpt+judge_score+bp_judge+pulse_count_judge+bt_chol_judge+bt_crea_judge+bt_gluc_judge+bt_hb_judge+bt_hbsa_judge+bt_hct_judge+bt_mch_judge+bt_mchc_judge+bt_mvc_judge+bt_plat_judge+bt_rbc_judge+bt_wbc_judge+bt_rgpt_judge+bt_sgot_judge+bt_sgpt_judge+bt_trig_judge+risk+\n"
     ]
    }
   ],
   "source": [
    "st = ''\n",
    "for i in bl_set.columns :\n",
    "    st += i\n",
    "    st += \"+\"\n",
    "print(st)"
   ]
  },
  {
   "cell_type": "code",
   "execution_count": 16,
   "metadata": {},
   "outputs": [
    {
     "name": "stdout",
     "output_type": "stream",
     "text": [
      "Warning: Maximum number of iterations has been exceeded.\n",
      "         Current function value: 0.302142\n",
      "         Iterations: 35\n",
      "                           Logit Regression Results                           \n",
      "==============================================================================\n",
      "Dep. Variable:                   risk   No. Observations:                 3531\n",
      "Model:                          Logit   Df Residuals:                     3498\n",
      "Method:                           MLE   Df Model:                           32\n",
      "Date:                Tue, 16 Mar 2021   Pseudo R-squ.:                 0.01865\n",
      "Time:                        10:59:48   Log-Likelihood:                -1066.9\n",
      "converged:                      False   LL-Null:                       -1087.1\n",
      "Covariance Type:            nonrobust   LLR p-value:                    0.1428\n",
      "=====================================================================================\n",
      "                        coef    std err          z      P>|z|      [0.025      0.975]\n",
      "-------------------------------------------------------------------------------------\n",
      "Intercept            19.4113     13.970      1.389      0.165      -7.970      46.792\n",
      "age                  -0.0050      0.007     -0.694      0.488      -0.019       0.009\n",
      "height               -0.0952      0.086     -1.111      0.267      -0.263       0.073\n",
      "rfm                  -0.0179      0.017     -1.046      0.295      -0.051       0.016\n",
      "weight               -0.0382      0.109     -0.350      0.726      -0.252       0.176\n",
      "bust                 -0.0079      0.016     -0.496      0.620      -0.039       0.023\n",
      "waist                 0.2319      0.224      1.037      0.300      -0.206       0.670\n",
      "bmi                   0.1114      0.295      0.378      0.706      -0.466       0.689\n",
      "whtr                 -0.3570      0.363     -0.985      0.325      -1.068       0.354\n",
      "bp_min               -0.0334      0.018     -1.898      0.058      -0.068       0.001\n",
      "bp_max                0.0143      0.015      0.959      0.337      -0.015       0.044\n",
      "pulse_count          -0.0035      0.012     -0.295      0.768      -0.026       0.020\n",
      "bt_chol              -0.0016      0.002     -0.784      0.433      -0.006       0.002\n",
      "bt_gluc               0.0011      0.006      0.186      0.852      -0.011       0.013\n",
      "bt_sgpt               0.0018      0.007      0.265      0.791      -0.011       0.015\n",
      "judge_score           1.8152   2.57e+06   7.07e-07      1.000   -5.03e+06    5.03e+06\n",
      "bp_judge              0.3137      0.207      1.517      0.129      -0.092       0.719\n",
      "pulse_count_judge    15.3816   2.57e+06   5.99e-06      1.000   -5.03e+06    5.03e+06\n",
      "bt_chol_judge        -1.8152   2.57e+06  -7.07e-07      1.000   -5.03e+06    5.03e+06\n",
      "bt_crea_judge        -1.2031   2.57e+06  -4.69e-07      1.000   -5.03e+06    5.03e+06\n",
      "bt_gluc_judge        -2.7310   2.57e+06  -1.06e-06      1.000   -5.03e+06    5.03e+06\n",
      "bt_hb_judge          -1.4552   2.57e+06  -5.67e-07      1.000   -5.03e+06    5.03e+06\n",
      "bt_hbsa_judge        -1.6527   2.57e+06  -6.44e-07      1.000   -5.03e+06    5.03e+06\n",
      "bt_hct_judge         -2.1132   2.57e+06  -8.23e-07      1.000   -5.03e+06    5.03e+06\n",
      "bt_mch_judge         -1.6113   2.57e+06  -6.28e-07      1.000   -5.03e+06    5.03e+06\n",
      "bt_mchc_judge        -2.6013   2.57e+06  -1.01e-06      1.000   -5.03e+06    5.03e+06\n",
      "bt_mvc_judge         -1.9488   2.57e+06  -7.59e-07      1.000   -5.03e+06    5.03e+06\n",
      "bt_plat_judge        13.6700   2.57e+06   5.33e-06      1.000   -5.03e+06    5.03e+06\n",
      "bt_rbc_judge         -1.0487   2.57e+06  -4.09e-07      1.000   -5.03e+06    5.03e+06\n",
      "bt_wbc_judge         -1.4444   2.57e+06  -5.63e-07      1.000   -5.03e+06    5.03e+06\n",
      "bt_rgpt_judge        -2.1177   2.57e+06  -8.25e-07      1.000   -5.03e+06    5.03e+06\n",
      "bt_sgot_judge        -1.7895   2.57e+06  -6.97e-07      1.000   -5.03e+06    5.03e+06\n",
      "bt_sgpt_judge        -1.8577   2.57e+06  -7.24e-07      1.000   -5.03e+06    5.03e+06\n",
      "bt_trig_judge        -1.8465   2.57e+06   -7.2e-07      1.000   -5.03e+06    5.03e+06\n",
      "=====================================================================================\n"
     ]
    },
    {
     "name": "stderr",
     "output_type": "stream",
     "text": [
      "/home/piai/anaconda3/lib/python3.8/site-packages/statsmodels/base/model.py:566: ConvergenceWarning: Maximum Likelihood optimization failed to converge. Check mle_retvals\n",
      "  warnings.warn(\"Maximum Likelihood optimization failed to \"\n"
     ]
    }
   ],
   "source": [
    "log_model = Logit.from_formula(''' risk ~ age+height+rfm+weight+bust+waist+bmi+whtr+bp_min+bp_max+pulse_count+bt_chol+bt_gluc+bt_sgpt+judge_score+bp_judge+pulse_count_judge+bt_chol_judge+bt_crea_judge+bt_gluc_judge+bt_hb_judge+bt_hbsa_judge+bt_hct_judge+bt_mch_judge+bt_mchc_judge+bt_mvc_judge+bt_plat_judge+bt_rbc_judge+bt_wbc_judge+bt_rgpt_judge+bt_sgot_judge+bt_sgpt_judge+bt_trig_judge ''',data = bl_set)\n",
    "log_result = log_model.fit()\n",
    "print(log_result.summary())\n",
    "\n",
    "# 판정은 0 아니면 1 따라서, 스케일은 진행하지 X"
   ]
  },
  {
   "cell_type": "code",
   "execution_count": 17,
   "metadata": {},
   "outputs": [
    {
     "data": {
      "text/html": [
       "<div>\n",
       "<style scoped>\n",
       "    .dataframe tbody tr th:only-of-type {\n",
       "        vertical-align: middle;\n",
       "    }\n",
       "\n",
       "    .dataframe tbody tr th {\n",
       "        vertical-align: top;\n",
       "    }\n",
       "\n",
       "    .dataframe thead th {\n",
       "        text-align: right;\n",
       "    }\n",
       "</style>\n",
       "<table border=\"1\" class=\"dataframe\">\n",
       "  <thead>\n",
       "    <tr style=\"text-align: right;\">\n",
       "      <th></th>\n",
       "      <th>variable</th>\n",
       "      <th>VIF</th>\n",
       "    </tr>\n",
       "  </thead>\n",
       "  <tbody>\n",
       "    <tr>\n",
       "      <th>14</th>\n",
       "      <td>pulse_count_judge</td>\n",
       "      <td>1.007</td>\n",
       "    </tr>\n",
       "    <tr>\n",
       "      <th>9</th>\n",
       "      <td>pulse_count</td>\n",
       "      <td>1.022</td>\n",
       "    </tr>\n",
       "    <tr>\n",
       "      <th>26</th>\n",
       "      <td>bt_wbc_judge</td>\n",
       "      <td>1.033</td>\n",
       "    </tr>\n",
       "    <tr>\n",
       "      <th>16</th>\n",
       "      <td>bt_crea_judge</td>\n",
       "      <td>1.050</td>\n",
       "    </tr>\n",
       "    <tr>\n",
       "      <th>24</th>\n",
       "      <td>bt_plat_judge</td>\n",
       "      <td>1.082</td>\n",
       "    </tr>\n",
       "    <tr>\n",
       "      <th>19</th>\n",
       "      <td>bt_hbsa_judge</td>\n",
       "      <td>1.092</td>\n",
       "    </tr>\n",
       "    <tr>\n",
       "      <th>30</th>\n",
       "      <td>bt_trig_judge</td>\n",
       "      <td>1.145</td>\n",
       "    </tr>\n",
       "    <tr>\n",
       "      <th>25</th>\n",
       "      <td>bt_rbc_judge</td>\n",
       "      <td>1.177</td>\n",
       "    </tr>\n",
       "    <tr>\n",
       "      <th>27</th>\n",
       "      <td>bt_rgpt_judge</td>\n",
       "      <td>1.206</td>\n",
       "    </tr>\n",
       "    <tr>\n",
       "      <th>15</th>\n",
       "      <td>bt_chol_judge</td>\n",
       "      <td>1.384</td>\n",
       "    </tr>\n",
       "    <tr>\n",
       "      <th>28</th>\n",
       "      <td>bt_sgot_judge</td>\n",
       "      <td>1.384</td>\n",
       "    </tr>\n",
       "    <tr>\n",
       "      <th>1</th>\n",
       "      <td>age</td>\n",
       "      <td>1.387</td>\n",
       "    </tr>\n",
       "    <tr>\n",
       "      <th>22</th>\n",
       "      <td>bt_mchc_judge</td>\n",
       "      <td>1.397</td>\n",
       "    </tr>\n",
       "    <tr>\n",
       "      <th>17</th>\n",
       "      <td>bt_gluc_judge</td>\n",
       "      <td>1.526</td>\n",
       "    </tr>\n",
       "    <tr>\n",
       "      <th>10</th>\n",
       "      <td>bt_chol</td>\n",
       "      <td>1.527</td>\n",
       "    </tr>\n",
       "    <tr>\n",
       "      <th>11</th>\n",
       "      <td>bt_gluc</td>\n",
       "      <td>1.637</td>\n",
       "    </tr>\n",
       "    <tr>\n",
       "      <th>23</th>\n",
       "      <td>bt_mvc_judge</td>\n",
       "      <td>2.037</td>\n",
       "    </tr>\n",
       "    <tr>\n",
       "      <th>29</th>\n",
       "      <td>bt_sgpt_judge</td>\n",
       "      <td>2.058</td>\n",
       "    </tr>\n",
       "    <tr>\n",
       "      <th>13</th>\n",
       "      <td>bp_judge</td>\n",
       "      <td>2.162</td>\n",
       "    </tr>\n",
       "    <tr>\n",
       "      <th>12</th>\n",
       "      <td>bt_sgpt</td>\n",
       "      <td>2.594</td>\n",
       "    </tr>\n",
       "    <tr>\n",
       "      <th>21</th>\n",
       "      <td>bt_mch_judge</td>\n",
       "      <td>2.728</td>\n",
       "    </tr>\n",
       "    <tr>\n",
       "      <th>4</th>\n",
       "      <td>bmi</td>\n",
       "      <td>2.999</td>\n",
       "    </tr>\n",
       "    <tr>\n",
       "      <th>20</th>\n",
       "      <td>bt_hct_judge</td>\n",
       "      <td>3.127</td>\n",
       "    </tr>\n",
       "    <tr>\n",
       "      <th>7</th>\n",
       "      <td>bp_min</td>\n",
       "      <td>3.165</td>\n",
       "    </tr>\n",
       "    <tr>\n",
       "      <th>6</th>\n",
       "      <td>rfm</td>\n",
       "      <td>3.350</td>\n",
       "    </tr>\n",
       "    <tr>\n",
       "      <th>2</th>\n",
       "      <td>height</td>\n",
       "      <td>3.522</td>\n",
       "    </tr>\n",
       "    <tr>\n",
       "      <th>5</th>\n",
       "      <td>whtr</td>\n",
       "      <td>4.028</td>\n",
       "    </tr>\n",
       "    <tr>\n",
       "      <th>3</th>\n",
       "      <td>bust</td>\n",
       "      <td>4.037</td>\n",
       "    </tr>\n",
       "    <tr>\n",
       "      <th>18</th>\n",
       "      <td>bt_hb_judge</td>\n",
       "      <td>4.172</td>\n",
       "    </tr>\n",
       "    <tr>\n",
       "      <th>8</th>\n",
       "      <td>bp_max</td>\n",
       "      <td>4.918</td>\n",
       "    </tr>\n",
       "    <tr>\n",
       "      <th>0</th>\n",
       "      <td>const</td>\n",
       "      <td>1946.841</td>\n",
       "    </tr>\n",
       "  </tbody>\n",
       "</table>\n",
       "</div>"
      ],
      "text/plain": [
       "             variable       VIF\n",
       "14  pulse_count_judge     1.007\n",
       "9         pulse_count     1.022\n",
       "26       bt_wbc_judge     1.033\n",
       "16      bt_crea_judge     1.050\n",
       "24      bt_plat_judge     1.082\n",
       "19      bt_hbsa_judge     1.092\n",
       "30      bt_trig_judge     1.145\n",
       "25       bt_rbc_judge     1.177\n",
       "27      bt_rgpt_judge     1.206\n",
       "15      bt_chol_judge     1.384\n",
       "28      bt_sgot_judge     1.384\n",
       "1                 age     1.387\n",
       "22      bt_mchc_judge     1.397\n",
       "17      bt_gluc_judge     1.526\n",
       "10            bt_chol     1.527\n",
       "11            bt_gluc     1.637\n",
       "23       bt_mvc_judge     2.037\n",
       "29      bt_sgpt_judge     2.058\n",
       "13           bp_judge     2.162\n",
       "12            bt_sgpt     2.594\n",
       "21       bt_mch_judge     2.728\n",
       "4                 bmi     2.999\n",
       "20       bt_hct_judge     3.127\n",
       "7              bp_min     3.165\n",
       "6                 rfm     3.350\n",
       "2              height     3.522\n",
       "5                whtr     4.028\n",
       "3                bust     4.037\n",
       "18        bt_hb_judge     4.172\n",
       "8              bp_max     4.918\n",
       "0               const  1946.841"
      ]
     },
     "execution_count": 17,
     "metadata": {},
     "output_type": "execute_result"
    }
   ],
   "source": [
    "df_x = bl_set.drop(['risk','judge_score','waist','weight'],axis = 1)\n",
    "df_x # 종속 변수 빼고 새롭게 데이터 프레임 생성\n",
    "df_x_const = add_constant(df_x) # const열 생성\n",
    "\n",
    "df_vif = pd.DataFrame()\n",
    "df_vif['variable'] = df_x_const.columns\n",
    "df_vif['VIF'] = [variance_inflation_factor(df_x_const.values,i) for i in range(df_x_const.shape[1])]\n",
    "df_vif.sort_values('VIF',inplace=True)\n",
    "df_vif.round(3) # 다중공선성 존재 X -> 회귀식 자체로 판단"
   ]
  },
  {
   "cell_type": "markdown",
   "metadata": {},
   "source": [
    "# 5% 유의수준 설정"
   ]
  },
  {
   "cell_type": "code",
   "execution_count": 18,
   "metadata": {},
   "outputs": [
    {
     "name": "stdout",
     "output_type": "stream",
     "text": [
      "Optimization terminated successfully.\n",
      "         Current function value: 0.307685\n",
      "         Iterations 6\n",
      "                           Logit Regression Results                           \n",
      "==============================================================================\n",
      "Dep. Variable:                   risk   No. Observations:                 3531\n",
      "Model:                          Logit   Df Residuals:                     3526\n",
      "Method:                           MLE   Df Model:                            4\n",
      "Date:                Tue, 16 Mar 2021   Pseudo R-squ.:               0.0006487\n",
      "Time:                        10:59:48   Log-Likelihood:                -1086.4\n",
      "converged:                       True   LL-Null:                       -1087.1\n",
      "Covariance Type:            nonrobust   LLR p-value:                    0.8424\n",
      "===============================================================================\n",
      "                  coef    std err          z      P>|z|      [0.025      0.975]\n",
      "-------------------------------------------------------------------------------\n",
      "Intercept       2.6322      0.937      2.810      0.005       0.796       4.468\n",
      "bp_max          0.0040      0.007      0.556      0.578      -0.010       0.018\n",
      "bt_hb_judge    -0.1052      0.272     -0.387      0.699      -0.638       0.427\n",
      "bust           -0.0107      0.011     -0.972      0.331      -0.032       0.011\n",
      "whtr            0.0035      0.018      0.199      0.842      -0.031       0.039\n",
      "===============================================================================\n"
     ]
    }
   ],
   "source": [
    "log_model = Logit.from_formula('''\n",
    "        risk ~ bp_max+\n",
    "        bt_hb_judge+\n",
    "        bust+\n",
    "        whtr\n",
    "         ''',data = bl_set)\n",
    "log_result = log_model.fit()\n",
    "print(log_result.summary())\n",
    "\n",
    "# 판정은 0 아니면 1 따라서, 스케일은 진행하지 X"
   ]
  },
  {
   "cell_type": "code",
   "execution_count": 19,
   "metadata": {},
   "outputs": [
    {
     "name": "stdout",
     "output_type": "stream",
     "text": [
      "select variables :  Index(['pulse_count_judge', 'bt_crea_judge', 'bt_gluc_judge', 'bt_hb_judge', 'bt_hct_judge', 'bt_mchc_judge', 'bt_plat_judge', 'bt_rbc_judge', 'bt_wbc_judge', 'bt_rgpt_judge'], dtype='object')\n",
      "removed variable :  Index(['age', 'height', 'bust', 'bmi', 'whtr', 'rfm', 'bp_min', 'bp_max', 'pulse_count', 'bt_chol', 'bt_gluc', 'bt_sgpt', 'bp_judge', 'bt_chol_judge', 'bt_hbsa_judge', 'bt_mch_judge', 'bt_mvc_judge', 'bt_sgot_judge', 'bt_sgpt_judge', 'bt_trig_judge'], dtype='object')\n"
     ]
    }
   ],
   "source": [
    "df_y = bl_set['risk']\n",
    "model = LinearRegression()\n",
    "rfe = RFE(estimator = model, n_features_to_select = 10).fit(df_x,df_y)\n",
    "# df_x는 다중 공선성으로 제거 후 남은 x인자만 존재\n",
    "selected_cols = df_x.columns[rfe.support_]\n",
    "removed_cols = df_x.columns[~rfe.support_]\n",
    "\n",
    "print(\"select variables : \",selected_cols)\n",
    "print(\"removed variable : \",removed_cols)"
   ]
  },
  {
   "cell_type": "code",
   "execution_count": 20,
   "metadata": {},
   "outputs": [
    {
     "name": "stdout",
     "output_type": "stream",
     "text": [
      "pulse_count_judge+bt_crea_judge+bt_gluc_judge+bt_hb_judge+bt_hct_judge+bt_mchc_judge+bt_plat_judge+bt_rbc_judge+bt_wbc_judge+bt_rgpt_judge+\n"
     ]
    }
   ],
   "source": [
    "st = ''\n",
    "for i in ['pulse_count_judge', 'bt_crea_judge', 'bt_gluc_judge', 'bt_hb_judge', 'bt_hct_judge', 'bt_mchc_judge', 'bt_plat_judge', 'bt_rbc_judge', 'bt_wbc_judge', 'bt_rgpt_judge'] :\n",
    "    st += i\n",
    "    st += \"+\"\n",
    "print(st)"
   ]
  },
  {
   "cell_type": "code",
   "execution_count": 21,
   "metadata": {},
   "outputs": [
    {
     "name": "stdout",
     "output_type": "stream",
     "text": [
      "Warning: Maximum number of iterations has been exceeded.\n",
      "         Current function value: 0.304176\n",
      "         Iterations: 35\n",
      "                           Logit Regression Results                           \n",
      "==============================================================================\n",
      "Dep. Variable:                   risk   No. Observations:                 3531\n",
      "Model:                          Logit   Df Residuals:                     3520\n",
      "Method:                           MLE   Df Model:                           10\n",
      "Date:                Tue, 16 Mar 2021   Pseudo R-squ.:                 0.01205\n",
      "Time:                        10:59:48   Log-Likelihood:                -1074.0\n",
      "converged:                      False   LL-Null:                       -1087.1\n",
      "Covariance Type:            nonrobust   LLR p-value:                  0.003491\n",
      "=====================================================================================\n",
      "                        coef    std err          z      P>|z|      [0.025      0.975]\n",
      "-------------------------------------------------------------------------------------\n",
      "Intercept             2.3769      0.065     36.425      0.000       2.249       2.505\n",
      "pulse_count_judge    17.1441   9557.273      0.002      0.999   -1.87e+04    1.87e+04\n",
      "bt_crea_judge         0.6008      0.754      0.796      0.426      -0.878       2.079\n",
      "bt_gluc_judge        -0.8356      0.248     -3.375      0.001      -1.321      -0.350\n",
      "bt_hb_judge           0.4101      0.548      0.748      0.454      -0.664       1.484\n",
      "bt_hct_judge         -0.3066      0.613     -0.500      0.617      -1.508       0.894\n",
      "bt_mchc_judge        -0.8185      0.222     -3.686      0.000      -1.254      -0.383\n",
      "bt_plat_judge        26.1164   6.15e+05   4.24e-05      1.000   -1.21e+06    1.21e+06\n",
      "bt_rbc_judge          0.7970      1.058      0.754      0.451      -1.276       2.870\n",
      "bt_wbc_judge          0.4272      0.609      0.701      0.483      -0.767       1.621\n",
      "bt_rgpt_judge        -0.2547      0.230     -1.109      0.268      -0.705       0.196\n",
      "=====================================================================================\n"
     ]
    },
    {
     "name": "stderr",
     "output_type": "stream",
     "text": [
      "/home/piai/anaconda3/lib/python3.8/site-packages/statsmodels/base/model.py:566: ConvergenceWarning: Maximum Likelihood optimization failed to converge. Check mle_retvals\n",
      "  warnings.warn(\"Maximum Likelihood optimization failed to \"\n"
     ]
    }
   ],
   "source": [
    "log_model = Logit.from_formula(''' risk ~ pulse_count_judge+bt_crea_judge+bt_gluc_judge+bt_hb_judge+bt_hct_judge+bt_mchc_judge+bt_plat_judge+bt_rbc_judge+bt_wbc_judge+bt_rgpt_judge''',data = bl_set)\n",
    "log_result = log_model.fit()\n",
    "print(log_result.summary())\n",
    "\n",
    "# 판정은 0 아니면 1 따라서, 스케일은 진행하지 X"
   ]
  },
  {
   "cell_type": "code",
   "execution_count": 22,
   "metadata": {},
   "outputs": [
    {
     "data": {
      "text/plain": [
       "<AxesSubplot:>"
      ]
     },
     "execution_count": 22,
     "metadata": {},
     "output_type": "execute_result"
    },
    {
     "data": {
      "image/png": "[encoded data removed]",
      "text/plain": [
       "<Figure size 432x288 with 1 Axes>"
      ]
     },
     "metadata": {
      "needs_background": "light"
     },
     "output_type": "display_data"
    }
   ],
   "source": [
    "df_logistic_coef = pd.DataFrame({'Coef':log_result.params.values[1:]},index = log_model.exog_names[1:])\n",
    "df_logistic_coef.plot.barh(y = 'Coef')"
   ]
  },
  {
   "cell_type": "markdown",
   "metadata": {},
   "source": [
    "# Score 탐색적 분석"
   ]
  },
  {
   "cell_type": "code",
   "execution_count": 23,
   "metadata": {},
   "outputs": [
    {
     "data": {
      "text/plain": [
       "Index(['age', 'height', 'weight', 'bust', 'waist', 'bmi', 'whtr', 'rfm', 'bp_min', 'bp_max', 'pulse_count', 'bt_chol', 'bt_gluc', 'bt_sgpt', 'judge_score', 'bp_judge', 'pulse_count_judge', 'bt_chol_judge', 'bt_crea_judge', 'bt_gluc_judge', 'bt_hb_judge', 'bt_hbsa_judge', 'bt_hct_judge', 'bt_mch_judge', 'bt_mchc_judge', 'bt_mvc_judge', 'bt_plat_judge', 'bt_rbc_judge', 'bt_wbc_judge', 'bt_rgpt_judge', 'bt_sgot_judge', 'bt_sgpt_judge', 'bt_trig_judge', 'risk'], dtype='object')"
      ]
     },
     "execution_count": 23,
     "metadata": {},
     "output_type": "execute_result"
    }
   ],
   "source": [
    "bl_set.columns"
   ]
  },
  {
   "cell_type": "markdown",
   "metadata": {},
   "source": [
    "### T 검정"
   ]
  },
  {
   "cell_type": "code",
   "execution_count": 24,
   "metadata": {},
   "outputs": [
    {
     "name": "stdout",
     "output_type": "stream",
     "text": [
      "age에 대한 T검정\n",
      "LeveneResult(statistic=5.158992574526426, pvalue=0.02318627646152752) [0.47105784]\n",
      "\n",
      "height에 대한 T검정\n",
      "LeveneResult(statistic=0.04459894966336369, pvalue=0.8327553944306695) [0.52756297]\n",
      "\n",
      "weight에 대한 T검정\n",
      "LeveneResult(statistic=1.7588555201437155, pvalue=0.1848531561214135) [0.51703053]\n",
      "\n",
      "bust에 대한 T검정\n",
      "LeveneResult(statistic=1.0762517982714899, pvalue=0.2996086470208456) [0.35202461]\n",
      "\n",
      "waist에 대한 T검정\n",
      "LeveneResult(statistic=0.5295781504615937, pvalue=0.4668325452662) [0.51626161]\n",
      "\n",
      "bmi에 대한 T검정\n",
      "LeveneResult(statistic=4.53839665618844, pvalue=0.03321159217953327) [0.66876974]\n",
      "\n",
      "whtr에 대한 T검정\n",
      "LeveneResult(statistic=0.21337606670959167, pvalue=0.644162522487943) [0.65584797]\n",
      "\n",
      "rfm에 대한 T검정\n",
      "LeveneResult(statistic=0.020007823430016974, pvalue=0.8875233099475585) [0.72162043]\n",
      "\n",
      "bp_min에 대한 T검정\n",
      "LeveneResult(statistic=0.005024777473280398, pvalue=0.9434927690959983) [0.20844495]\n",
      "\n",
      "bp_max에 대한 T검정\n",
      "LeveneResult(statistic=2.2554329025434607, pvalue=0.13323568490975843) [0.80386845]\n",
      "\n",
      "pulse_count에 대한 T검정\n",
      "LeveneResult(statistic=0.00039258387477745176, pvalue=0.9841930856366834) [0.67047484]\n",
      "\n",
      "bt_chol에 대한 T검정\n",
      "LeveneResult(statistic=0.0086351876872591, pvalue=0.9259678548513672) [0.21825716]\n",
      "\n",
      "bt_gluc에 대한 T검정\n",
      "LeveneResult(statistic=3.5939339600290814, pvalue=0.05807243475161673) [0.09455909]\n",
      "\n",
      "bt_sgpt에 대한 T검정\n",
      "LeveneResult(statistic=0.008083701673370544, pvalue=0.9283643070361394) [0.76923058]\n",
      "\n",
      "judge_score에 대한 T검정\n",
      "LeveneResult(statistic=4.998291397388495, pvalue=0.02543464825480329) [0.02543465]\n",
      "\n",
      "bp_judge에 대한 T검정\n",
      "LeveneResult(statistic=2.230414714910833, pvalue=0.13540692051923103) [0.13540692]\n",
      "\n",
      "pulse_count_judge에 대한 T검정\n",
      "LeveneResult(statistic=0.3052611022104388, pvalue=0.5806378176348881) [0.58063782]\n",
      "\n",
      "bt_chol_judge에 대한 T검정\n",
      "LeveneResult(statistic=0.9920883302947089, pvalue=0.3193007926664444) [0.31930079]\n",
      "\n",
      "bt_crea_judge에 대한 T검정\n",
      "LeveneResult(statistic=0.045616032397179804, pvalue=0.830887636117887) [0.83088764]\n",
      "\n",
      "bt_gluc_judge에 대한 T검정\n",
      "LeveneResult(statistic=12.943747101054258, pvalue=0.00032539611898224104) [0.0003254]\n",
      "\n",
      "bt_hb_judge에 대한 T검정\n",
      "LeveneResult(statistic=0.10010397240561389, pvalue=0.7517236113556913) [0.75172361]\n",
      "\n",
      "bt_hbsa_judge에 대한 T검정\n",
      "LeveneResult(statistic=1.1741980958236602, pvalue=0.2786143482869331) [0.27861435]\n",
      "\n",
      "bt_hct_judge에 대한 T검정\n",
      "LeveneResult(statistic=0.4689691058541834, pvalue=0.4935067840082594) [0.49350678]\n",
      "\n",
      "bt_mch_judge에 대한 T검정\n",
      "LeveneResult(statistic=0.7738566857624819, pvalue=0.37908649118464666) [0.37908649]\n",
      "\n",
      "bt_mchc_judge에 대한 T검정\n",
      "LeveneResult(statistic=10.587664386668335, pvalue=0.001149180665572729) [0.00114918]\n",
      "\n",
      "bt_mvc_judge에 대한 T검정\n",
      "LeveneResult(statistic=2.7534858638574815, pvalue=0.09713150445585222) [0.0971315]\n",
      "\n",
      "bt_plat_judge에 대한 T검정\n",
      "LeveneResult(statistic=0.5090864839988671, pvalue=0.47558175885999776) [0.47558176]\n",
      "\n",
      "bt_rbc_judge에 대한 T검정\n",
      "LeveneResult(statistic=0.5036265915327148, pvalue=0.4779578343325247) [0.47795783]\n",
      "\n",
      "bt_wbc_judge에 대한 T검정\n",
      "LeveneResult(statistic=0.30976592911693346, pvalue=0.5778591462925141) [0.57785915]\n",
      "\n",
      "bt_rgpt_judge에 대한 T검정\n",
      "LeveneResult(statistic=2.167106133091927, pvalue=0.14108050420021653) [0.1410805]\n",
      "\n",
      "bt_sgot_judge에 대한 T검정\n",
      "LeveneResult(statistic=0.033933458325681065, pvalue=0.8538590130819734) [0.85385901]\n",
      "\n",
      "bt_sgpt_judge에 대한 T검정\n",
      "LeveneResult(statistic=0.08103582086475913, pvalue=0.7759152784086892) [0.77591528]\n",
      "\n",
      "bt_trig_judge에 대한 T검정\n",
      "LeveneResult(statistic=0.7370811079887872, pvalue=0.39065581802320115) [0.39065582]\n",
      "\n"
     ]
    }
   ],
   "source": [
    "for col in bl_set :\n",
    "    if col != 'risk' :\n",
    "        print(col+\"에 대한 T검정\")\n",
    "        my_t(bl_raw,col)\n",
    "        print()"
   ]
  },
  {
   "cell_type": "markdown",
   "metadata": {},
   "source": [
    "### Z 검정"
   ]
  },
  {
   "cell_type": "code",
   "execution_count": 25,
   "metadata": {},
   "outputs": [
    {
     "name": "stdout",
     "output_type": "stream",
     "text": [
      "bt_crea_judge   0.0  1.0\n",
      "risk                    \n",
      "0.0             324    2\n",
      "1.0            3182   23\n",
      "\n",
      "bt_crea_judge    0.0   1.0\n",
      "risk                      \n",
      "0.0            0.092  0.08\n",
      "1.0            0.908  0.92\n"
     ]
    }
   ],
   "source": [
    "mycrosstab(bl_raw,'bt_crea_judge')"
   ]
  },
  {
   "cell_type": "code",
   "execution_count": 26,
   "metadata": {},
   "outputs": [
    {
     "name": "stdout",
     "output_type": "stream",
     "text": [
      "p-value는 0.825\n"
     ]
    }
   ],
   "source": [
    "count = np.array([326,2])\n",
    "num = np.array([3184+326,2+23])\n",
    "\n",
    "stat, p_value = proportions_ztest(count,num)\n",
    "print('p-value는 {:.3f}'.format(p_value.round(3)))"
   ]
  },
  {
   "cell_type": "code",
   "execution_count": 27,
   "metadata": {},
   "outputs": [
    {
     "name": "stdout",
     "output_type": "stream",
     "text": [
      "bt_hbsa_judge   0.0  1.0\n",
      "risk                    \n",
      "0.0             293   33\n",
      "1.0            2815  390\n",
      "\n",
      "bt_hbsa_judge    0.0    1.0\n",
      "risk                       \n",
      "0.0            0.094  0.078\n",
      "1.0            0.906  0.922\n"
     ]
    }
   ],
   "source": [
    "mycrosstab(bl_raw,'bt_hbsa_judge')"
   ]
  },
  {
   "cell_type": "code",
   "execution_count": 28,
   "metadata": {},
   "outputs": [
    {
     "name": "stdout",
     "output_type": "stream",
     "text": [
      "p-value는 0.333\n"
     ]
    }
   ],
   "source": [
    "count = np.array([294,34])\n",
    "num = np.array([2816+294,34+391])\n",
    "\n",
    "stat, p_value = proportions_ztest(count,num)\n",
    "print('p-value는 {:.3f}'.format(p_value.round(3)))"
   ]
  },
  {
   "cell_type": "code",
   "execution_count": 29,
   "metadata": {
    "scrolled": true
   },
   "outputs": [
    {
     "name": "stdout",
     "output_type": "stream",
     "text": [
      "bt_hct_judge   0.0  1.0\n",
      "risk                   \n",
      "0.0            314   12\n",
      "1.0           3109   96\n",
      "\n",
      "bt_hct_judge    0.0    1.0\n",
      "risk                      \n",
      "0.0           0.092  0.111\n",
      "1.0           0.908  0.889\n"
     ]
    }
   ],
   "source": [
    "mycrosstab(bl_raw,'bt_hct_judge')"
   ]
  },
  {
   "cell_type": "code",
   "execution_count": 30,
   "metadata": {},
   "outputs": [
    {
     "name": "stdout",
     "output_type": "stream",
     "text": [
      "p-value는 0.505\n"
     ]
    }
   ],
   "source": [
    "a = 316 ; b = 12 ; c = 3111 ; d = 96\n",
    "\n",
    "count = np.array([a,b])\n",
    "num = np.array([a+c,b+d])\n",
    "\n",
    "stat, p_value = proportions_ztest(count,num)\n",
    "print('p-value는 {:.3f}'.format(p_value.round(3)))"
   ]
  },
  {
   "cell_type": "code",
   "execution_count": 31,
   "metadata": {},
   "outputs": [
    {
     "name": "stdout",
     "output_type": "stream",
     "text": [
      "bt_mch_judge   0.0  1.0\n",
      "risk                   \n",
      "0.0            317    9\n",
      "1.0           3140   65\n",
      "\n",
      "bt_mch_judge    0.0    1.0\n",
      "risk                      \n",
      "0.0           0.092  0.122\n",
      "1.0           0.908  0.878\n"
     ]
    }
   ],
   "source": [
    "mycrosstab(bl_raw,'bt_mch_judge')"
   ]
  },
  {
   "cell_type": "code",
   "execution_count": 32,
   "metadata": {},
   "outputs": [
    {
     "name": "stdout",
     "output_type": "stream",
     "text": [
      "p-value는 0.388\n"
     ]
    }
   ],
   "source": [
    "a = 319 ; b = 9 ; c = 3142 ; d = 65\n",
    "\n",
    "count = np.array([a,b])\n",
    "num = np.array([a+c,b+d])\n",
    "\n",
    "stat, p_value = proportions_ztest(count,num)\n",
    "print('p-value는 {:.3f}'.format(p_value.round(3)))"
   ]
  },
  {
   "cell_type": "code",
   "execution_count": 33,
   "metadata": {},
   "outputs": [
    {
     "name": "stdout",
     "output_type": "stream",
     "text": [
      "bt_mchc_judge   0.0  1.0\n",
      "risk                    \n",
      "0.0             294   32\n",
      "1.0            3032  173\n",
      "\n",
      "bt_mchc_judge    0.0    1.0\n",
      "risk                       \n",
      "0.0            0.088  0.156\n",
      "1.0            0.912  0.844\n"
     ]
    }
   ],
   "source": [
    "mycrosstab(bl_raw,'bt_mchc_judge')"
   ]
  },
  {
   "cell_type": "code",
   "execution_count": 34,
   "metadata": {},
   "outputs": [
    {
     "name": "stdout",
     "output_type": "stream",
     "text": [
      "p-value는 0.001\n"
     ]
    }
   ],
   "source": [
    "a = 296 ; b = 32 ; c = 3034 ; d = 173\n",
    "\n",
    "count = np.array([a,b])\n",
    "num = np.array([a+c,b+d])\n",
    "\n",
    "stat, p_value = proportions_ztest(count,num)\n",
    "print('p-value는 {:.3f}'.format(p_value.round(3))) # 유의"
   ]
  },
  {
   "cell_type": "code",
   "execution_count": 35,
   "metadata": {},
   "outputs": [
    {
     "name": "stdout",
     "output_type": "stream",
     "text": [
      "bt_mvc_judge   0.0  1.0\n",
      "risk                   \n",
      "0.0            311   15\n",
      "1.0           3111   94\n",
      "\n",
      "bt_mvc_judge    0.0    1.0\n",
      "risk                      \n",
      "0.0           0.091  0.138\n",
      "1.0           0.909  0.862\n"
     ]
    }
   ],
   "source": [
    "mycrosstab(bl_raw,'bt_mvc_judge')"
   ]
  },
  {
   "cell_type": "code",
   "execution_count": 36,
   "metadata": {},
   "outputs": [
    {
     "name": "stdout",
     "output_type": "stream",
     "text": [
      "p-value는 0.101\n"
     ]
    }
   ],
   "source": [
    "a = 313 ; b = 15 ; c = 3113 ; d = 94\n",
    "\n",
    "count = np.array([a,b])\n",
    "num = np.array([a+c,b+d])\n",
    "\n",
    "stat, p_value = proportions_ztest(count,num)\n",
    "print('p-value는 {:.3f}'.format(p_value.round(3))) # 보류"
   ]
  },
  {
   "cell_type": "code",
   "execution_count": 37,
   "metadata": {},
   "outputs": [
    {
     "name": "stdout",
     "output_type": "stream",
     "text": [
      "bt_plat_judge   0.0  1.0\n",
      "risk                    \n",
      "0.0             326    0\n",
      "1.0            3200    5\n",
      "\n",
      "bt_plat_judge    0.0  1.0\n",
      "risk                     \n",
      "0.0            0.092  0.0\n",
      "1.0            0.908  1.0\n"
     ]
    }
   ],
   "source": [
    "mycrosstab(bl_raw,'bt_plat_judge')"
   ]
  },
  {
   "cell_type": "code",
   "execution_count": 38,
   "metadata": {},
   "outputs": [
    {
     "name": "stdout",
     "output_type": "stream",
     "text": [
      "p-value는 0.474\n"
     ]
    }
   ],
   "source": [
    "a = 328 ; b = 0 ; c = 3202 ; d = 5\n",
    "\n",
    "count = np.array([a,b])\n",
    "num = np.array([a+c,b+d])\n",
    "\n",
    "stat, p_value = proportions_ztest(count,num)\n",
    "print('p-value는 {:.3f}'.format(p_value.round(3)))"
   ]
  },
  {
   "cell_type": "code",
   "execution_count": 39,
   "metadata": {},
   "outputs": [
    {
     "name": "stdout",
     "output_type": "stream",
     "text": [
      "bt_rbc_judge   0.0  1.0\n",
      "risk                   \n",
      "0.0            325    1\n",
      "1.0           3185   20\n",
      "\n",
      "bt_rbc_judge    0.0    1.0\n",
      "risk                      \n",
      "0.0           0.093  0.048\n",
      "1.0           0.907  0.952\n"
     ]
    }
   ],
   "source": [
    "mycrosstab(bl_raw,'bt_rbc_judge')"
   ]
  },
  {
   "cell_type": "code",
   "execution_count": 40,
   "metadata": {},
   "outputs": [
    {
     "name": "stdout",
     "output_type": "stream",
     "text": [
      "p-value는 0.474\n"
     ]
    }
   ],
   "source": [
    "a = 327 ; b = 1 ; c = 3187 ; d = 20\n",
    "\n",
    "count = np.array([a,b])\n",
    "num = np.array([a+c,b+d])\n",
    "\n",
    "stat, p_value = proportions_ztest(count,num)\n",
    "print('p-value는 {:.3f}'.format(p_value.round(3)))"
   ]
  },
  {
   "cell_type": "code",
   "execution_count": 41,
   "metadata": {},
   "outputs": [
    {
     "name": "stdout",
     "output_type": "stream",
     "text": [
      "bt_wbc_judge   0.0  1.0\n",
      "risk                   \n",
      "0.0            323    3\n",
      "1.0           3164   41\n",
      "\n",
      "bt_wbc_judge    0.0    1.0\n",
      "risk                      \n",
      "0.0           0.093  0.068\n",
      "1.0           0.907  0.932\n"
     ]
    }
   ],
   "source": [
    "mycrosstab(bl_raw,'bt_wbc_judge')"
   ]
  },
  {
   "cell_type": "code",
   "execution_count": 42,
   "metadata": {},
   "outputs": [
    {
     "name": "stdout",
     "output_type": "stream",
     "text": [
      "p-value는 0.571\n"
     ]
    }
   ],
   "source": [
    "a = 325 ; b = 3 ; c = 3166 ; d = 41\n",
    "\n",
    "count = np.array([a,b])\n",
    "num = np.array([a+c,b+d])\n",
    "\n",
    "stat, p_value = proportions_ztest(count,num)\n",
    "print('p-value는 {:.3f}'.format(p_value.round(3)))"
   ]
  },
  {
   "cell_type": "code",
   "execution_count": 43,
   "metadata": {},
   "outputs": [
    {
     "name": "stdout",
     "output_type": "stream",
     "text": [
      "bt_rgpt_judge   0.0  1.0\n",
      "risk                    \n",
      "0.0             302   24\n",
      "1.0            3032  173\n",
      "\n",
      "bt_rgpt_judge    0.0    1.0\n",
      "risk                       \n",
      "0.0            0.091  0.122\n",
      "1.0            0.909  0.878\n"
     ]
    }
   ],
   "source": [
    "mycrosstab(bl_raw,'bt_rgpt_judge')"
   ]
  },
  {
   "cell_type": "code",
   "execution_count": 44,
   "metadata": {},
   "outputs": [
    {
     "name": "stdout",
     "output_type": "stream",
     "text": [
      "p-value는 0.156\n"
     ]
    }
   ],
   "source": [
    "a = 304 ; b = 24 ; c = 3033 ; d = 174\n",
    "\n",
    "count = np.array([a,b])\n",
    "num = np.array([a+c,b+d])\n",
    "\n",
    "stat, p_value = proportions_ztest(count,num)\n",
    "print('p-value는 {:.3f}'.format(p_value.round(3)))"
   ]
  },
  {
   "cell_type": "code",
   "execution_count": 45,
   "metadata": {},
   "outputs": [
    {
     "name": "stdout",
     "output_type": "stream",
     "text": [
      "bt_sgot_judge   0.0  1.0\n",
      "risk                    \n",
      "0.0             319    7\n",
      "1.0            3141   64\n",
      "\n",
      "bt_sgot_judge    0.0    1.0\n",
      "risk                       \n",
      "0.0            0.092  0.099\n",
      "1.0            0.908  0.901\n"
     ]
    }
   ],
   "source": [
    "mycrosstab(bl_raw,'bt_sgot_judge')"
   ]
  },
  {
   "cell_type": "code",
   "execution_count": 46,
   "metadata": {},
   "outputs": [
    {
     "name": "stdout",
     "output_type": "stream",
     "text": [
      "p-value는 0.865\n"
     ]
    }
   ],
   "source": [
    "a = 321 ; b = 7 ; c = 3143 ; d = 64\n",
    "\n",
    "count = np.array([a,b])\n",
    "num = np.array([a+c,b+d])\n",
    "\n",
    "stat, p_value = proportions_ztest(count,num)\n",
    "print('p-value는 {:.3f}'.format(p_value.round(3)))"
   ]
  },
  {
   "cell_type": "code",
   "execution_count": 47,
   "metadata": {},
   "outputs": [
    {
     "name": "stdout",
     "output_type": "stream",
     "text": [
      "bt_trig_judge   0.0  1.0\n",
      "risk                    \n",
      "0.0             288   38\n",
      "1.0            2880  325\n",
      "\n",
      "bt_trig_judge    0.0    1.0\n",
      "risk                       \n",
      "0.0            0.091  0.105\n",
      "1.0            0.909  0.895\n"
     ]
    }
   ],
   "source": [
    "mycrosstab(bl_raw,'bt_trig_judge')"
   ]
  },
  {
   "cell_type": "code",
   "execution_count": 48,
   "metadata": {},
   "outputs": [
    {
     "name": "stdout",
     "output_type": "stream",
     "text": [
      "p-value는 0.319\n"
     ]
    }
   ],
   "source": [
    "a = 289 ; b = 39 ; c = 2882 ; d = 325\n",
    "\n",
    "count = np.array([a,b])\n",
    "num = np.array([a+c,b+d])\n",
    "\n",
    "stat, p_value = proportions_ztest(count,num)\n",
    "print('p-value는 {:.3f}'.format(p_value.round(3)))"
   ]
  },
  {
   "cell_type": "code",
   "execution_count": 49,
   "metadata": {},
   "outputs": [
    {
     "name": "stdout",
     "output_type": "stream",
     "text": [
      "bt_gluc_judge   0.0  1.0\n",
      "risk                    \n",
      "0.0             304   22\n",
      "1.0            3109   96\n",
      "\n",
      "bt_gluc_judge    0.0    1.0\n",
      "risk                       \n",
      "0.0            0.089  0.186\n",
      "1.0            0.911  0.814\n"
     ]
    }
   ],
   "source": [
    "mycrosstab(bl_raw,'bt_gluc_judge')"
   ]
  },
  {
   "cell_type": "code",
   "execution_count": 50,
   "metadata": {},
   "outputs": [
    {
     "name": "stdout",
     "output_type": "stream",
     "text": [
      "p-value는 0.000\n"
     ]
    }
   ],
   "source": [
    "a = 305 ; b = 23 ; c = 3110 ; d = 97\n",
    "\n",
    "count = np.array([a,b])\n",
    "num = np.array([a+c,b+d])\n",
    "\n",
    "stat, p_value = proportions_ztest(count,num)\n",
    "print('p-value는 {:.3f}'.format(p_value.round(3))) # 유의"
   ]
  },
  {
   "cell_type": "markdown",
   "metadata": {},
   "source": [
    "# Case 정리\n",
    "\n",
    "- 'pulse_count', 'bt_gluc_judge', 'bt_mchc_judge', 'bt_plat_judge','bt_rbc_judge','gender'\n",
    "- 설명력 0.913, 분류 good 97, 정밀도 0.916 F1 0.955\n",
    "- 'pulse_count', 'bt_gluc_judge', 'bt_mchc_judge', 'bt_plat_judge','bt_rbc_judge'\n",
    "- 설명력 0.914  good 64 정밀도 0.918\n",
    "- 'bp_judge', 'bp_min', 'bt_gluc', 'bt_mchc_judge'\n",
    "- 설명력 0.913 good 74 정밀도 0.918\n",
    "- 'bt_chol','bp_judge','bt_gluc_judge','bt_mchc_judge','gender'\n",
    "- 설명력 0.916 good 76 정밀도 0.919\n",
    "- 검정 : 'age', 'bmi', 'bt_gluc', 'bt_mchc_judge', 'bt_mvc_judge' 0.913, 54 => 컨퓨전 분류 X"
   ]
  },
  {
   "cell_type": "markdown",
   "metadata": {},
   "source": [
    "=> 최종 변수 선택 : 'bt_chol','bp_judge','bt_gluc_judge','bt_mchc_judge','gender'"
   ]
  },
  {
   "cell_type": "code",
   "execution_count": 51,
   "metadata": {},
   "outputs": [],
   "source": [
    "ensem_x = bl_raw[['bt_chol','bp_judge','bt_gluc_judge','bt_mchc_judge','gender']]\n",
    "ensem_y = bl_raw[['risk']]\n",
    "\n",
    "# ensem_x = pd.get_dummies(ensem_x)\n",
    "\n",
    "# scaler = StandardScaler()\n",
    "# en_sc = scaler.fit_transform(ensem_x)\n",
    "# ensem_x = pd.DataFrame(en_sc,columns=ensem_x.columns)\n",
    "\n",
    "# 데이터 분할 1 : 학습용과 시험용\n",
    "\n",
    "train_x, test_x, train_y, test_y = train_test_split(ensem_x,ensem_y,test_size=0.3,random_state = 1234)\n",
    "# 학습용 데이터를 밸리데이션과 학습용으로 분할함으로써 CV진행 준비\n",
    "train_x, val_x, train_y, val_y = train_test_split(train_x,train_y,test_size = 3/7, random_state = 1234)"
   ]
  },
  {
   "cell_type": "code",
   "execution_count": 52,
   "metadata": {},
   "outputs": [
    {
     "name": "stdout",
     "output_type": "stream",
     "text": [
      "\n",
      "최종 모델의 train data의 설명력 : 0.917\n",
      "최종 모델의 validation data의 설명력 : 0.912\n",
      "최종 모델의 test data의 설명력 : 0.895\n"
     ]
    },
    {
     "name": "stderr",
     "output_type": "stream",
     "text": [
      "/home/piai/anaconda3/lib/python3.8/site-packages/sklearn/utils/validation.py:72: DataConversionWarning: A column-vector y was passed when a 1d array was expected. Please change the shape of y to (n_samples, ), for example using ravel().\n",
      "  return f(**kwargs)\n"
     ]
    }
   ],
   "source": [
    "gb_final = GradientBoostingClassifier(random_state=1234)\n",
    "gb_final.fit(train_x,train_y)\n",
    "\n",
    "print()\n",
    "print('최종 모델의 train data의 설명력 : {:.3f}'.format(gb_final.score(train_x,train_y)))\n",
    "print('최종 모델의 validation data의 설명력 : {:.3f}'.format(gb_final.score(val_x,val_y)))\n",
    "print('최종 모델의 test data의 설명력 : {:.3f}'.format(gb_final.score(test_x,test_y)))"
   ]
  },
  {
   "cell_type": "markdown",
   "metadata": {},
   "source": [
    "# GB 모델 사용\n",
    "\n",
    "- Scale 모델의 경우, 거절 고객의 분류 X\n",
    "- DT, RF, GB 중 과적합이 적고, 초기 설명력이 높은 GB 사용\n",
    "- 파라미터 설정 X => 파라미터 설정 유무에 설명력이 큰 영향 X"
   ]
  },
  {
   "cell_type": "code",
   "execution_count": 53,
   "metadata": {},
   "outputs": [
    {
     "name": "stdout",
     "output_type": "stream",
     "text": [
      "Accuracy:0.895\n",
      "\n"
     ]
    },
    {
     "name": "stderr",
     "output_type": "stream",
     "text": [
      "/home/piai/anaconda3/lib/python3.8/site-packages/sklearn/utils/validation.py:72: DataConversionWarning: A column-vector y was passed when a 1d array was expected. Please change the shape of y to (n_samples, ), for example using ravel().\n",
      "  return f(**kwargs)\n"
     ]
    },
    {
     "name": "stdout",
     "output_type": "stream",
     "text": [
      "Confusion matrix:\n",
      "[[  2 110]\n",
      " [  1 947]]\n"
     ]
    },
    {
     "data": {
      "text/html": [
       "<div>\n",
       "<style scoped>\n",
       "    .dataframe tbody tr th:only-of-type {\n",
       "        vertical-align: middle;\n",
       "    }\n",
       "\n",
       "    .dataframe tbody tr th {\n",
       "        vertical-align: top;\n",
       "    }\n",
       "\n",
       "    .dataframe thead th {\n",
       "        text-align: right;\n",
       "    }\n",
       "</style>\n",
       "<table border=\"1\" class=\"dataframe\">\n",
       "  <thead>\n",
       "    <tr style=\"text-align: right;\">\n",
       "      <th></th>\n",
       "      <th>TrainAccuracy</th>\n",
       "      <th>TestAccuracy</th>\n",
       "      <th>F1Score</th>\n",
       "      <th>AUC</th>\n",
       "      <th>PrecisionScore</th>\n",
       "      <th>RecallScore</th>\n",
       "    </tr>\n",
       "  </thead>\n",
       "  <tbody>\n",
       "    <tr>\n",
       "      <th>GradientBoosting</th>\n",
       "      <td>0.917</td>\n",
       "      <td>0.895</td>\n",
       "      <td>0.945</td>\n",
       "      <td>0.508</td>\n",
       "      <td>0.896</td>\n",
       "      <td>0.999</td>\n",
       "    </tr>\n",
       "  </tbody>\n",
       "</table>\n",
       "</div>"
      ],
      "text/plain": [
       "                  TrainAccuracy  TestAccuracy  F1Score    AUC  PrecisionScore  RecallScore\n",
       "GradientBoosting          0.917         0.895    0.945  0.508           0.896        0.999"
      ]
     },
     "execution_count": 53,
     "metadata": {},
     "output_type": "execute_result"
    }
   ],
   "source": [
    "y_pred=gb_final.predict(test_x)\n",
    "print('Accuracy:{0:.3f}\\n'.format(gb_final.score(test_x,test_y)))\n",
    "print('Confusion matrix:\\n{}'.format(confusion_matrix(test_y,y_pred)))\n",
    "\n",
    "#분석 모델\n",
    "model=['GradientBoosting']\n",
    "#정확도 저장\n",
    "train_accuracy=[]; test_accuracy=[]\n",
    "#f1 score 저장\n",
    "model_f1_score=[]\n",
    "#auc score 저장\n",
    "model_auc=[]\n",
    "#precision score저장\n",
    "model_precision_score=[]\n",
    "#recall score 저장\n",
    "model_recall_score=[]\n",
    "\n",
    "#최종 모델\n",
    "gb_model=GradientBoostingClassifier(random_state=1234)\n",
    "gb_model.fit(train_x,train_y)\n",
    "# train 정확도\n",
    "train_accuracy.append(gb_model.score(train_x, train_y))\n",
    "# test 정확도\n",
    "test_accuracy.append(gb_model.score(test_x, test_y))\n",
    "#최종 모델을 이용한 분류 예측\n",
    "y_pred=gb_model.predict(test_x)\n",
    "#roc_curve(실제값,예측값) fpr=(FP)/(FP+TN):거짓 양성 비율, tpr=TP/(TP+FN):진짜 양성비율(재현율)\n",
    "fpr,tpr,thresholds=roc_curve(test_y,y_pred)\n",
    "roc_auc=auc(fpr,tpr)\n",
    "#auc 저장\n",
    "model_auc.append(roc_auc)\n",
    "\n",
    "#f1스코어\n",
    "model_f1_score.append(f1_score(test_y,y_pred))\n",
    "#precision 스코어\n",
    "model_precision_score.append(precision_score(test_y,y_pred))\n",
    "#recall 스코어\n",
    "model_recall_score.append(recall_score(test_y,y_pred))\n",
    "\n",
    "df_eval=pd.DataFrame(index=model)\n",
    "df_eval['TrainAccuracy']=train_accuracy\n",
    "df_eval['TestAccuracy']=test_accuracy\n",
    "df_eval['F1Score']=model_f1_score\n",
    "df_eval['AUC']=model_auc\n",
    "df_eval['PrecisionScore']=model_precision_score\n",
    "df_eval['RecallScore']=model_recall_score\n",
    "df_eval.round(3)"
   ]
  },
  {
   "cell_type": "markdown",
   "metadata": {},
   "source": [
    "정확도와 정밀도가 높은 변수 선택"
   ]
  },
  {
   "cell_type": "code",
   "execution_count": 54,
   "metadata": {},
   "outputs": [],
   "source": [
    "df_eval=pd.DataFrame(index=model)\n",
    "df_eval['Train_1']=0.908\n",
    "df_eval['Test_1']=0.916\n",
    "df_eval['Precision_1']=0.919\n",
    "df_eval['Train_2']=0.867\n",
    "df_eval['Test_2']=0.864\n",
    "df_eval['Precision_2']=0.778"
   ]
  },
  {
   "cell_type": "code",
   "execution_count": 55,
   "metadata": {},
   "outputs": [
    {
     "data": {
      "image/png": "[encoded data removed]",
      "text/plain": [
       "<Figure size 432x288 with 1 Axes>"
      ]
     },
     "metadata": {
      "needs_background": "light"
     },
     "output_type": "display_data"
    }
   ],
   "source": [
    "#정확도 bar plot 생성\n",
    "df_eval.plot.bar(rot=0)\n",
    "plt.legend(loc='lower left')\n",
    "plt.grid(axis='y')\n",
    "#인공신경망 모델이 가장 높은 정확도와 f1,auc를 보임\n",
    "#neural_net>gradient boosting>decisiontree>randomforest"
   ]
  },
  {
   "cell_type": "code",
   "execution_count": 56,
   "metadata": {},
   "outputs": [],
   "source": [
    "df_eval=pd.DataFrame(index=model)\n",
    "df_eval['Train_1']=1 76\n",
    "df_eval['Test_1']=0.865\n",
    "df_eval['Precision_1']=0.871\n",
    "df_eval['Train_2']=1\n",
    "df_eval['Test_2']=0.825\n",
    "df_eval['Precision_2']=0.625"
   ]
  },
  {
   "cell_type": "code",
   "execution_count": 57,
   "metadata": {},
   "outputs": [
    {
     "data": {
      "image/png": "[encoded data removed]",
      "text/plain": [
       "<Figure size 432x288 with 1 Axes>"
      ]
     },
     "metadata": {
      "needs_background": "light"
     },
     "output_type": "display_data"
    }
   ],
   "source": [
    "#정확도 bar plot 생성\n",
    "df_eval.plot.bar(rot=0)\n",
    "plt.legend(loc='lower left')\n",
    "plt.grid(axis='y')\n",
    "#인공신경망 모델이 가장 높은 정확도와 f1,auc를 보임\n",
    "#neural_net>gradient boosting>decisiontree>randomforest"
   ]
  },
  {
   "cell_type": "markdown",
   "metadata": {},
   "source": [
    "# 1분류 거절 고객 분류"
   ]
  },
  {
   "cell_type": "code",
   "execution_count": 58,
   "metadata": {},
   "outputs": [],
   "source": [
    "df_raw = pd.read_csv('insu_pre_review.csv',encoding='euckr')\n",
    "df_test = df_raw[df_raw['judge']=='거절']\n",
    "df_test = df_test[df_test['review_cat'] == '혈액검사']\n",
    "df_reject = df_test[['bt_chol','bp_judge','bt_gluc_judge','bt_mchc_judge','gender']]\n",
    "\n",
    "# df_reject = pd.get_dummies(df_reject)\n",
    "# en_sc_2 = scaler.fit_transform(df_reject)\n",
    "# df_reject = pd.DataFrame(en_sc_2,columns=df_reject.columns)"
   ]
  },
  {
   "cell_type": "code",
   "execution_count": 59,
   "metadata": {},
   "outputs": [
    {
     "name": "stderr",
     "output_type": "stream",
     "text": [
      "<ipython-input-59-82cbb77c127c>:2: SettingWithCopyWarning: \n",
      "A value is trying to be set on a copy of a slice from a DataFrame.\n",
      "Try using .loc[row_indexer,col_indexer] = value instead\n",
      "\n",
      "See the caveats in the documentation: https://pandas.pydata.org/pandas-docs/stable/user_guide/indexing.html#returning-a-view-versus-a-copy\n",
      "  df_reject['risk'] = pred\n",
      "<ipython-input-59-82cbb77c127c>:3: SettingWithCopyWarning: \n",
      "A value is trying to be set on a copy of a slice from a DataFrame.\n",
      "Try using .loc[row_indexer,col_indexer] = value instead\n",
      "\n",
      "See the caveats in the documentation: https://pandas.pydata.org/pandas-docs/stable/user_guide/indexing.html#returning-a-view-versus-a-copy\n",
      "  df_reject['customer_id'] = df_test['customer_id']\n"
     ]
    }
   ],
   "source": [
    "pred = gb_final.predict(df_reject)\n",
    "df_reject['risk'] = pred\n",
    "df_reject['customer_id'] = df_test['customer_id']"
   ]
  },
  {
   "cell_type": "code",
   "execution_count": 60,
   "metadata": {},
   "outputs": [
    {
     "data": {
      "text/html": [
       "<div>\n",
       "<style scoped>\n",
       "    .dataframe tbody tr th:only-of-type {\n",
       "        vertical-align: middle;\n",
       "    }\n",
       "\n",
       "    .dataframe tbody tr th {\n",
       "        vertical-align: top;\n",
       "    }\n",
       "\n",
       "    .dataframe thead th {\n",
       "        text-align: right;\n",
       "    }\n",
       "</style>\n",
       "<table border=\"1\" class=\"dataframe\">\n",
       "  <thead>\n",
       "    <tr style=\"text-align: right;\">\n",
       "      <th></th>\n",
       "      <th>bt_chol</th>\n",
       "      <th>bp_judge</th>\n",
       "      <th>bt_gluc_judge</th>\n",
       "      <th>bt_mchc_judge</th>\n",
       "      <th>gender</th>\n",
       "      <th>customer_id</th>\n",
       "    </tr>\n",
       "    <tr>\n",
       "      <th>risk</th>\n",
       "      <th></th>\n",
       "      <th></th>\n",
       "      <th></th>\n",
       "      <th></th>\n",
       "      <th></th>\n",
       "      <th></th>\n",
       "    </tr>\n",
       "  </thead>\n",
       "  <tbody>\n",
       "    <tr>\n",
       "      <th>0.0</th>\n",
       "      <td>29</td>\n",
       "      <td>29</td>\n",
       "      <td>29</td>\n",
       "      <td>29</td>\n",
       "      <td>29</td>\n",
       "      <td>29</td>\n",
       "    </tr>\n",
       "    <tr>\n",
       "      <th>1.0</th>\n",
       "      <td>2315</td>\n",
       "      <td>2315</td>\n",
       "      <td>2315</td>\n",
       "      <td>2315</td>\n",
       "      <td>2315</td>\n",
       "      <td>2315</td>\n",
       "    </tr>\n",
       "  </tbody>\n",
       "</table>\n",
       "</div>"
      ],
      "text/plain": [
       "      bt_chol  bp_judge  bt_gluc_judge  bt_mchc_judge  gender  customer_id\n",
       "risk                                                                      \n",
       "0.0        29        29             29             29      29           29\n",
       "1.0      2315      2315           2315           2315    2315         2315"
      ]
     },
     "execution_count": 60,
     "metadata": {},
     "output_type": "execute_result"
    }
   ],
   "source": [
    "df_reject.groupby('risk').count()"
   ]
  },
  {
   "cell_type": "markdown",
   "metadata": {},
   "source": [
    "### 총 수익 고객 76명, 위험 고객 2268명 -> 혈액 검사 기준\n",
    "### 위험 고객은 2분류 이동, 저위험 고위험으로 분류"
   ]
  },
  {
   "cell_type": "code",
   "execution_count": 61,
   "metadata": {},
   "outputs": [],
   "source": [
    "# 데이터 내보내기\n",
    "\n",
    "df_profit = df_reject[df_reject['risk'] == 0][['customer_id','risk']]\n",
    "df_danger = df_reject[df_reject['risk'] == 1][['customer_id','risk']]\n",
    "\n",
    "df_profit.to_csv('profit_reject.csv',encoding='euckr')\n",
    "df_danger.to_csv('danger_reject.csv',encoding='euckr')"
   ]
  },
  {
   "cell_type": "markdown",
   "metadata": {},
   "source": [
    "### screen 데이터 predict"
   ]
  },
  {
   "cell_type": "code",
   "execution_count": 62,
   "metadata": {},
   "outputs": [
    {
     "data": {
      "text/html": [
       "<div>\n",
       "<style scoped>\n",
       "    .dataframe tbody tr th:only-of-type {\n",
       "        vertical-align: middle;\n",
       "    }\n",
       "\n",
       "    .dataframe tbody tr th {\n",
       "        vertical-align: top;\n",
       "    }\n",
       "\n",
       "    .dataframe thead th {\n",
       "        text-align: right;\n",
       "    }\n",
       "</style>\n",
       "<table border=\"1\" class=\"dataframe\">\n",
       "  <thead>\n",
       "    <tr style=\"text-align: right;\">\n",
       "      <th></th>\n",
       "      <th>index</th>\n",
       "      <th>bp_max</th>\n",
       "      <th>bp_min</th>\n",
       "      <th>bp_gluc</th>\n",
       "      <th>bt_mch</th>\n",
       "      <th>bt_chol</th>\n",
       "      <th>gender</th>\n",
       "      <th>smoke_flag</th>\n",
       "      <th>drinking_flag</th>\n",
       "      <th>bp_judge</th>\n",
       "      <th>bt_gluc_judge</th>\n",
       "      <th>bt_mchc_judge</th>\n",
       "    </tr>\n",
       "  </thead>\n",
       "  <tbody>\n",
       "    <tr>\n",
       "      <th>0</th>\n",
       "      <td>11565</td>\n",
       "      <td>119.0</td>\n",
       "      <td>73.0</td>\n",
       "      <td>89.0</td>\n",
       "      <td>15.3</td>\n",
       "      <td>197.0</td>\n",
       "      <td>1.0</td>\n",
       "      <td>1.0</td>\n",
       "      <td>0.0</td>\n",
       "      <td>0</td>\n",
       "      <td>0</td>\n",
       "      <td>0</td>\n",
       "    </tr>\n",
       "    <tr>\n",
       "      <th>1</th>\n",
       "      <td>23186</td>\n",
       "      <td>109.0</td>\n",
       "      <td>61.0</td>\n",
       "      <td>84.0</td>\n",
       "      <td>15.4</td>\n",
       "      <td>229.0</td>\n",
       "      <td>1.0</td>\n",
       "      <td>1.0</td>\n",
       "      <td>0.0</td>\n",
       "      <td>0</td>\n",
       "      <td>0</td>\n",
       "      <td>0</td>\n",
       "    </tr>\n",
       "    <tr>\n",
       "      <th>2</th>\n",
       "      <td>127414</td>\n",
       "      <td>134.0</td>\n",
       "      <td>80.0</td>\n",
       "      <td>90.0</td>\n",
       "      <td>17.2</td>\n",
       "      <td>196.0</td>\n",
       "      <td>1.0</td>\n",
       "      <td>1.0</td>\n",
       "      <td>0.0</td>\n",
       "      <td>1</td>\n",
       "      <td>0</td>\n",
       "      <td>0</td>\n",
       "    </tr>\n",
       "    <tr>\n",
       "      <th>3</th>\n",
       "      <td>35119</td>\n",
       "      <td>132.0</td>\n",
       "      <td>83.0</td>\n",
       "      <td>91.0</td>\n",
       "      <td>14.9</td>\n",
       "      <td>180.0</td>\n",
       "      <td>1.0</td>\n",
       "      <td>3.0</td>\n",
       "      <td>1.0</td>\n",
       "      <td>1</td>\n",
       "      <td>0</td>\n",
       "      <td>0</td>\n",
       "    </tr>\n",
       "    <tr>\n",
       "      <th>4</th>\n",
       "      <td>141647</td>\n",
       "      <td>121.0</td>\n",
       "      <td>90.0</td>\n",
       "      <td>98.0</td>\n",
       "      <td>14.8</td>\n",
       "      <td>212.0</td>\n",
       "      <td>1.0</td>\n",
       "      <td>2.0</td>\n",
       "      <td>0.0</td>\n",
       "      <td>1</td>\n",
       "      <td>0</td>\n",
       "      <td>0</td>\n",
       "    </tr>\n",
       "    <tr>\n",
       "      <th>...</th>\n",
       "      <td>...</td>\n",
       "      <td>...</td>\n",
       "      <td>...</td>\n",
       "      <td>...</td>\n",
       "      <td>...</td>\n",
       "      <td>...</td>\n",
       "      <td>...</td>\n",
       "      <td>...</td>\n",
       "      <td>...</td>\n",
       "      <td>...</td>\n",
       "      <td>...</td>\n",
       "      <td>...</td>\n",
       "    </tr>\n",
       "    <tr>\n",
       "      <th>35416</th>\n",
       "      <td>161781</td>\n",
       "      <td>118.0</td>\n",
       "      <td>85.0</td>\n",
       "      <td>88.0</td>\n",
       "      <td>13.3</td>\n",
       "      <td>195.0</td>\n",
       "      <td>2.0</td>\n",
       "      <td>1.0</td>\n",
       "      <td>0.0</td>\n",
       "      <td>0</td>\n",
       "      <td>0</td>\n",
       "      <td>0</td>\n",
       "    </tr>\n",
       "    <tr>\n",
       "      <th>35417</th>\n",
       "      <td>174466</td>\n",
       "      <td>105.0</td>\n",
       "      <td>65.0</td>\n",
       "      <td>103.0</td>\n",
       "      <td>13.3</td>\n",
       "      <td>224.0</td>\n",
       "      <td>2.0</td>\n",
       "      <td>1.0</td>\n",
       "      <td>0.0</td>\n",
       "      <td>0</td>\n",
       "      <td>1</td>\n",
       "      <td>0</td>\n",
       "    </tr>\n",
       "    <tr>\n",
       "      <th>35418</th>\n",
       "      <td>122883</td>\n",
       "      <td>120.0</td>\n",
       "      <td>84.0</td>\n",
       "      <td>103.0</td>\n",
       "      <td>12.8</td>\n",
       "      <td>194.0</td>\n",
       "      <td>2.0</td>\n",
       "      <td>1.0</td>\n",
       "      <td>0.0</td>\n",
       "      <td>0</td>\n",
       "      <td>1</td>\n",
       "      <td>0</td>\n",
       "    </tr>\n",
       "    <tr>\n",
       "      <th>35419</th>\n",
       "      <td>107700</td>\n",
       "      <td>121.0</td>\n",
       "      <td>70.0</td>\n",
       "      <td>89.0</td>\n",
       "      <td>12.7</td>\n",
       "      <td>241.0</td>\n",
       "      <td>2.0</td>\n",
       "      <td>1.0</td>\n",
       "      <td>0.0</td>\n",
       "      <td>0</td>\n",
       "      <td>0</td>\n",
       "      <td>0</td>\n",
       "    </tr>\n",
       "    <tr>\n",
       "      <th>35420</th>\n",
       "      <td>22859</td>\n",
       "      <td>115.0</td>\n",
       "      <td>75.0</td>\n",
       "      <td>98.0</td>\n",
       "      <td>13.0</td>\n",
       "      <td>190.0</td>\n",
       "      <td>2.0</td>\n",
       "      <td>1.0</td>\n",
       "      <td>0.0</td>\n",
       "      <td>0</td>\n",
       "      <td>0</td>\n",
       "      <td>0</td>\n",
       "    </tr>\n",
       "  </tbody>\n",
       "</table>\n",
       "<p>35421 rows × 12 columns</p>\n",
       "</div>"
      ],
      "text/plain": [
       "        index  bp_max  bp_min  bp_gluc  bt_mch  bt_chol  gender  smoke_flag  drinking_flag  bp_judge  bt_gluc_judge  bt_mchc_judge\n",
       "0       11565   119.0    73.0     89.0    15.3    197.0     1.0         1.0            0.0         0              0              0\n",
       "1       23186   109.0    61.0     84.0    15.4    229.0     1.0         1.0            0.0         0              0              0\n",
       "2      127414   134.0    80.0     90.0    17.2    196.0     1.0         1.0            0.0         1              0              0\n",
       "3       35119   132.0    83.0     91.0    14.9    180.0     1.0         3.0            1.0         1              0              0\n",
       "4      141647   121.0    90.0     98.0    14.8    212.0     1.0         2.0            0.0         1              0              0\n",
       "...       ...     ...     ...      ...     ...      ...     ...         ...            ...       ...            ...            ...\n",
       "35416  161781   118.0    85.0     88.0    13.3    195.0     2.0         1.0            0.0         0              0              0\n",
       "35417  174466   105.0    65.0    103.0    13.3    224.0     2.0         1.0            0.0         0              1              0\n",
       "35418  122883   120.0    84.0    103.0    12.8    194.0     2.0         1.0            0.0         0              1              0\n",
       "35419  107700   121.0    70.0     89.0    12.7    241.0     2.0         1.0            0.0         0              0              0\n",
       "35420   22859   115.0    75.0     98.0    13.0    190.0     2.0         1.0            0.0         0              0              0\n",
       "\n",
       "[35421 rows x 12 columns]"
      ]
     },
     "execution_count": 62,
     "metadata": {},
     "output_type": "execute_result"
    }
   ],
   "source": [
    "df = pd.read_csv('screen_1.csv',encoding='euckr')\n",
    "df = df.drop('Unnamed: 0',axis=1)\n",
    "df"
   ]
  },
  {
   "cell_type": "code",
   "execution_count": 63,
   "metadata": {},
   "outputs": [
    {
     "data": {
      "text/html": [
       "<div>\n",
       "<style scoped>\n",
       "    .dataframe tbody tr th:only-of-type {\n",
       "        vertical-align: middle;\n",
       "    }\n",
       "\n",
       "    .dataframe tbody tr th {\n",
       "        vertical-align: top;\n",
       "    }\n",
       "\n",
       "    .dataframe thead th {\n",
       "        text-align: right;\n",
       "    }\n",
       "</style>\n",
       "<table border=\"1\" class=\"dataframe\">\n",
       "  <thead>\n",
       "    <tr style=\"text-align: right;\">\n",
       "      <th></th>\n",
       "      <th>bt_chol</th>\n",
       "      <th>bp_judge</th>\n",
       "      <th>bt_gluc_judge</th>\n",
       "      <th>bt_mchc_judge</th>\n",
       "      <th>gender</th>\n",
       "    </tr>\n",
       "  </thead>\n",
       "  <tbody>\n",
       "    <tr>\n",
       "      <th>0</th>\n",
       "      <td>197.0</td>\n",
       "      <td>0</td>\n",
       "      <td>0</td>\n",
       "      <td>0</td>\n",
       "      <td>1.0</td>\n",
       "    </tr>\n",
       "    <tr>\n",
       "      <th>1</th>\n",
       "      <td>229.0</td>\n",
       "      <td>0</td>\n",
       "      <td>0</td>\n",
       "      <td>0</td>\n",
       "      <td>1.0</td>\n",
       "    </tr>\n",
       "    <tr>\n",
       "      <th>2</th>\n",
       "      <td>196.0</td>\n",
       "      <td>1</td>\n",
       "      <td>0</td>\n",
       "      <td>0</td>\n",
       "      <td>1.0</td>\n",
       "    </tr>\n",
       "    <tr>\n",
       "      <th>3</th>\n",
       "      <td>180.0</td>\n",
       "      <td>1</td>\n",
       "      <td>0</td>\n",
       "      <td>0</td>\n",
       "      <td>1.0</td>\n",
       "    </tr>\n",
       "    <tr>\n",
       "      <th>4</th>\n",
       "      <td>212.0</td>\n",
       "      <td>1</td>\n",
       "      <td>0</td>\n",
       "      <td>0</td>\n",
       "      <td>1.0</td>\n",
       "    </tr>\n",
       "    <tr>\n",
       "      <th>...</th>\n",
       "      <td>...</td>\n",
       "      <td>...</td>\n",
       "      <td>...</td>\n",
       "      <td>...</td>\n",
       "      <td>...</td>\n",
       "    </tr>\n",
       "    <tr>\n",
       "      <th>35416</th>\n",
       "      <td>195.0</td>\n",
       "      <td>0</td>\n",
       "      <td>0</td>\n",
       "      <td>0</td>\n",
       "      <td>2.0</td>\n",
       "    </tr>\n",
       "    <tr>\n",
       "      <th>35417</th>\n",
       "      <td>224.0</td>\n",
       "      <td>0</td>\n",
       "      <td>1</td>\n",
       "      <td>0</td>\n",
       "      <td>2.0</td>\n",
       "    </tr>\n",
       "    <tr>\n",
       "      <th>35418</th>\n",
       "      <td>194.0</td>\n",
       "      <td>0</td>\n",
       "      <td>1</td>\n",
       "      <td>0</td>\n",
       "      <td>2.0</td>\n",
       "    </tr>\n",
       "    <tr>\n",
       "      <th>35419</th>\n",
       "      <td>241.0</td>\n",
       "      <td>0</td>\n",
       "      <td>0</td>\n",
       "      <td>0</td>\n",
       "      <td>2.0</td>\n",
       "    </tr>\n",
       "    <tr>\n",
       "      <th>35420</th>\n",
       "      <td>190.0</td>\n",
       "      <td>0</td>\n",
       "      <td>0</td>\n",
       "      <td>0</td>\n",
       "      <td>2.0</td>\n",
       "    </tr>\n",
       "  </tbody>\n",
       "</table>\n",
       "<p>35421 rows × 5 columns</p>\n",
       "</div>"
      ],
      "text/plain": [
       "       bt_chol  bp_judge  bt_gluc_judge  bt_mchc_judge  gender\n",
       "0        197.0         0              0              0     1.0\n",
       "1        229.0         0              0              0     1.0\n",
       "2        196.0         1              0              0     1.0\n",
       "3        180.0         1              0              0     1.0\n",
       "4        212.0         1              0              0     1.0\n",
       "...        ...       ...            ...            ...     ...\n",
       "35416    195.0         0              0              0     2.0\n",
       "35417    224.0         0              1              0     2.0\n",
       "35418    194.0         0              1              0     2.0\n",
       "35419    241.0         0              0              0     2.0\n",
       "35420    190.0         0              0              0     2.0\n",
       "\n",
       "[35421 rows x 5 columns]"
      ]
     },
     "execution_count": 63,
     "metadata": {},
     "output_type": "execute_result"
    }
   ],
   "source": [
    "df_test = df[['bt_chol','bp_judge','bt_gluc_judge','bt_mchc_judge','gender']]\n",
    "df_test"
   ]
  },
  {
   "cell_type": "code",
   "execution_count": 64,
   "metadata": {},
   "outputs": [
    {
     "name": "stderr",
     "output_type": "stream",
     "text": [
      "<ipython-input-64-bf22d0351361>:2: SettingWithCopyWarning: \n",
      "A value is trying to be set on a copy of a slice from a DataFrame.\n",
      "Try using .loc[row_indexer,col_indexer] = value instead\n",
      "\n",
      "See the caveats in the documentation: https://pandas.pydata.org/pandas-docs/stable/user_guide/indexing.html#returning-a-view-versus-a-copy\n",
      "  df_test['risk'] = test_pred\n"
     ]
    },
    {
     "data": {
      "text/html": [
       "<div>\n",
       "<style scoped>\n",
       "    .dataframe tbody tr th:only-of-type {\n",
       "        vertical-align: middle;\n",
       "    }\n",
       "\n",
       "    .dataframe tbody tr th {\n",
       "        vertical-align: top;\n",
       "    }\n",
       "\n",
       "    .dataframe thead th {\n",
       "        text-align: right;\n",
       "    }\n",
       "</style>\n",
       "<table border=\"1\" class=\"dataframe\">\n",
       "  <thead>\n",
       "    <tr style=\"text-align: right;\">\n",
       "      <th></th>\n",
       "      <th>bt_chol</th>\n",
       "      <th>bp_judge</th>\n",
       "      <th>bt_gluc_judge</th>\n",
       "      <th>bt_mchc_judge</th>\n",
       "      <th>gender</th>\n",
       "    </tr>\n",
       "    <tr>\n",
       "      <th>risk</th>\n",
       "      <th></th>\n",
       "      <th></th>\n",
       "      <th></th>\n",
       "      <th></th>\n",
       "      <th></th>\n",
       "    </tr>\n",
       "  </thead>\n",
       "  <tbody>\n",
       "    <tr>\n",
       "      <th>0.0</th>\n",
       "      <td>720</td>\n",
       "      <td>720</td>\n",
       "      <td>720</td>\n",
       "      <td>720</td>\n",
       "      <td>720</td>\n",
       "    </tr>\n",
       "    <tr>\n",
       "      <th>1.0</th>\n",
       "      <td>34701</td>\n",
       "      <td>34701</td>\n",
       "      <td>34701</td>\n",
       "      <td>34701</td>\n",
       "      <td>34701</td>\n",
       "    </tr>\n",
       "  </tbody>\n",
       "</table>\n",
       "</div>"
      ],
      "text/plain": [
       "      bt_chol  bp_judge  bt_gluc_judge  bt_mchc_judge  gender\n",
       "risk                                                         \n",
       "0.0       720       720            720            720     720\n",
       "1.0     34701     34701          34701          34701   34701"
      ]
     },
     "execution_count": 64,
     "metadata": {},
     "output_type": "execute_result"
    }
   ],
   "source": [
    "test_pred = gb_final.predict(df_test)\n",
    "df_test['risk'] = test_pred\n",
    "df_test.groupby('risk').count()"
   ]
  },
  {
   "cell_type": "code",
   "execution_count": 65,
   "metadata": {},
   "outputs": [
    {
     "name": "stderr",
     "output_type": "stream",
     "text": [
      "<ipython-input-65-eb5ca622d659>:1: SettingWithCopyWarning: \n",
      "A value is trying to be set on a copy of a slice from a DataFrame.\n",
      "Try using .loc[row_indexer,col_indexer] = value instead\n",
      "\n",
      "See the caveats in the documentation: https://pandas.pydata.org/pandas-docs/stable/user_guide/indexing.html#returning-a-view-versus-a-copy\n",
      "  df_test['index'] = df['index']\n"
     ]
    }
   ],
   "source": [
    "df_test['index'] = df['index']\n",
    "df_test.to_csv('result_1.csv',encoding='euckr')"
   ]
  },
  {
   "cell_type": "code",
   "execution_count": null,
   "metadata": {},
   "outputs": [],
   "source": []
  },
  {
   "cell_type": "code",
   "execution_count": null,
   "metadata": {},
   "outputs": [],
   "source": []
  }
 ],
 "metadata": {
  "kernelspec": {
   "display_name": "Python 3",
   "language": "python",
   "name": "python3"
  },
  "language_info": {
   "codemirror_mode": {
    "name": "ipython",
    "version": 3
   },
   "file_extension": ".py",
   "mimetype": "text/x-python",
   "name": "python",
   "nbconvert_exporter": "python",
   "pygments_lexer": "ipython3",
   "version": "3.8.5"
  }
 },
 "nbformat": 4,
 "nbformat_minor": 4
}
