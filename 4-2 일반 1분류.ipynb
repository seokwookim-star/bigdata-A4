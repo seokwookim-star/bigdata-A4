{
 "cells": [
  {
   "cell_type": "code",
   "execution_count": 1,
   "metadata": {},
   "outputs": [],
   "source": [
    "import pandas as pd\n",
    "import numpy as np\n",
    "# import pydot\n",
    "\n",
    "import matplotlib.pyplot as plt\n",
    "import matplotlib\n",
    "import seaborn as sns\n",
    "from sklearn.model_selection import train_test_split\n",
    "\n",
    "import statsmodels.formula.api as smf\n",
    "from sklearn.tree import DecisionTreeRegressor\n",
    "from sklearn.ensemble import RandomForestRegressor\n",
    "from sklearn.ensemble import GradientBoostingRegressor\n",
    "\n",
    "from sklearn.metrics import mean_squared_error\n",
    "from sklearn.metrics import mean_absolute_error\n",
    "\n",
    "from sklearn.tree import DecisionTreeClassifier\n",
    "from sklearn.ensemble import RandomForestClassifier\n",
    "from sklearn.ensemble import GradientBoostingClassifier\n",
    "from sklearn.neural_network import MLPClassifier\n",
    "\n",
    "from sklearn.svm import SVC\n",
    "\n",
    "from sklearn.metrics import f1_score,roc_curve,auc,precision_score,recall_score\n",
    "\n",
    "from sklearn.metrics import confusion_matrix\n",
    "\n",
    "import seaborn as sns\n",
    "from scipy import stats\n",
    "import scipy.stats\n",
    "import statsmodels.api as smd\n",
    "from statsmodels.stats.proportion import proportions_ztest\n",
    "\n",
    "# 가설검정, 분산분석하는 패키지\n",
    "from statsmodels.formula.api import ols # 분산분석하기? 모델링?\n",
    "from statsmodels.stats.anova import anova_lm # 아노바 데이터프레임 형태 출력\n",
    "from scipy.stats import shapiro\n",
    "%matplotlib inline\n",
    "from sklearn.preprocessing import scale,minmax_scale,robust_scale\n",
    "from scipy.stats import probplot\n",
    "from sklearn.model_selection import train_test_split\n",
    "from statsmodels.api import Logit\n",
    "\n",
    "# # font_path = 'C:/Windows/Fonts/gulim.ttc'\n",
    "# font_path = 'C:/Windows/Fonts/gulim.ttc'\n",
    "# font_name = matplotlib.font_manager.FontProperties(fname=font_path).get_name()\n",
    "# matplotlib.rc('font', family = font_name)\n",
    "\n",
    "from matplotlib import font_manager,rc\n",
    "\n",
    "from statsmodels.stats.outliers_influence import variance_inflation_factor\n",
    "from sklearn.linear_model import LinearRegression\n",
    "from sklearn.feature_selection import RFE\n",
    "from sklearn.preprocessing import StandardScaler\n",
    "from statsmodels.api import qqplot, add_constant\n",
    "\n",
    "# from sklearn.tree import export_graphviz\n",
    "# import graphviz\n",
    "\n",
    "from sklearn.metrics import mean_squared_error\n",
    "from sklearn.metrics import mean_absolute_error\n",
    "import numpy as np\n",
    "# import pydot\n",
    "\n",
    "import matplotlib.pyplot as plt\n",
    "import matplotlib\n",
    "import seaborn as sns\n",
    "from sklearn.model_selection import train_test_split\n",
    "\n",
    "import statsmodels.formula.api as smf\n",
    "from sklearn.tree import DecisionTreeRegressor\n",
    "from sklearn.ensemble import RandomForestRegressor\n",
    "from sklearn.ensemble import GradientBoostingRegressor\n",
    "\n",
    "from sklearn.metrics import mean_squared_error\n",
    "from sklearn.metrics import mean_absolute_error\n",
    "\n",
    "from sklearn.tree import DecisionTreeClassifier\n",
    "from sklearn.ensemble import RandomForestClassifier\n",
    "from sklearn.ensemble import GradientBoostingClassifier\n",
    "from sklearn.neural_network import MLPClassifier\n",
    "\n",
    "from sklearn.svm import SVC\n",
    "\n",
    "from sklearn.metrics import f1_score,roc_curve,auc,precision_score,recall_score\n",
    "\n",
    "from sklearn.metrics import confusion_matrix\n",
    "\n",
    "import seaborn as sns\n",
    "from scipy import stats\n",
    "import scipy.stats\n",
    "import statsmodels.api as smd\n",
    "from statsmodels.stats.proportion import proportions_ztest\n",
    "\n",
    "# 가설검정, 분산분석하는 패키지\n",
    "from statsmodels.formula.api import ols # 분산분석하기? 모델링?\n",
    "from statsmodels.stats.anova import anova_lm # 아노바 데이터프레임 형태 출력\n",
    "from scipy.stats import shapiro\n",
    "%matplotlib inline\n",
    "from sklearn.preprocessing import scale,minmax_scale,robust_scale\n",
    "from scipy.stats import probplot\n",
    "from sklearn.model_selection import train_test_split\n",
    "from statsmodels.api import Logit\n",
    "\n",
    "# # font_path = 'C:/Windows/Fonts/gulim.ttc'\n",
    "# font_path = '/usr/share/fonts/opentype/noto/NotoSerifCJK-ExtraLight.ttc'\n",
    "# font_name = matplotlib.font_manager.FontProperties(fname=font_path).get_name()\n",
    "# matplotlib.rc('font', family = font_name)\n",
    "\n",
    "from matplotlib import font_manager,rc\n",
    "\n",
    "from statsmodels.stats.outliers_influence import variance_inflation_factor\n",
    "from sklearn.linear_model import LinearRegression\n",
    "from sklearn.feature_selection import RFE\n",
    "from sklearn.preprocessing import StandardScaler\n",
    "from statsmodels.api import qqplot, add_constant\n",
    "\n",
    "# from sklearn.tree import export_graphviz\n",
    "# import graphviz\n",
    "\n",
    "from sklearn.metrics import mean_squared_error\n",
    "from sklearn.metrics import mean_absolute_error"
   ]
  },
  {
   "cell_type": "code",
   "execution_count": 2,
   "metadata": {},
   "outputs": [],
   "source": [
    "df_raw = pd.read_csv('review_1.csv',encoding='euckr')"
   ]
  },
  {
   "cell_type": "code",
   "execution_count": 3,
   "metadata": {},
   "outputs": [
    {
     "data": {
      "text/plain": [
       "Unnamed: 0           0\n",
       "Unnamed: 0.1         0\n",
       "customer_id          0\n",
       "review_cat           0\n",
       "judge                0\n",
       "review_date          0\n",
       "gender               0\n",
       "age                  0\n",
       "height               0\n",
       "weight               0\n",
       "bust                 0\n",
       "waist                0\n",
       "bp_min               0\n",
       "bp_max               0\n",
       "pulse_count          0\n",
       "bt_chol              0\n",
       "bt_crea              0\n",
       "bt_gluc              0\n",
       "bt_hb                0\n",
       "bt_hbsa              0\n",
       "bt_hct               0\n",
       "bt_mch               0\n",
       "bt_mchc              0\n",
       "bt_mvc               0\n",
       "bt_plat              0\n",
       "bt_rbc               0\n",
       "bt_wbc               0\n",
       "bt_rgpt              0\n",
       "bt_sgot              0\n",
       "bt_sgpt              0\n",
       "bt_trig              0\n",
       "judge_score          0\n",
       "bp_judge             0\n",
       "pulse_count_judge    0\n",
       "bt_chol_judge        0\n",
       "bt_crea_judge        0\n",
       "bt_gluc_judge        0\n",
       "bt_hb_judge          0\n",
       "bt_hbsa_judge        0\n",
       "bt_hct_judge         0\n",
       "bt_mch_judge         0\n",
       "bt_mchc_judge        0\n",
       "bt_mvc_judge         0\n",
       "bt_plat_judge        0\n",
       "bt_rbc_judge         0\n",
       "bt_wbc_judge         0\n",
       "bt_rgpt_judge        0\n",
       "bt_sgot_judge        0\n",
       "bt_sgpt_judge        0\n",
       "bt_trig_judge        0\n",
       "bmi                  0\n",
       "whtr                 0\n",
       "rfm                  0\n",
       "risk                 0\n",
       "dtype: int64"
      ]
     },
     "execution_count": 3,
     "metadata": {},
     "output_type": "execute_result"
    }
   ],
   "source": [
    "df_raw.isna().sum()"
   ]
  },
  {
   "cell_type": "code",
   "execution_count": 4,
   "metadata": {},
   "outputs": [
    {
     "data": {
      "text/html": [
       "<div>\n",
       "<style scoped>\n",
       "    .dataframe tbody tr th:only-of-type {\n",
       "        vertical-align: middle;\n",
       "    }\n",
       "\n",
       "    .dataframe tbody tr th {\n",
       "        vertical-align: top;\n",
       "    }\n",
       "\n",
       "    .dataframe thead th {\n",
       "        text-align: right;\n",
       "    }\n",
       "</style>\n",
       "<table border=\"1\" class=\"dataframe\">\n",
       "  <thead>\n",
       "    <tr style=\"text-align: right;\">\n",
       "      <th></th>\n",
       "      <th>Unnamed: 0.1</th>\n",
       "      <th>customer_id</th>\n",
       "      <th>review_cat</th>\n",
       "      <th>judge</th>\n",
       "      <th>review_date</th>\n",
       "      <th>gender</th>\n",
       "      <th>age</th>\n",
       "      <th>height</th>\n",
       "      <th>weight</th>\n",
       "      <th>bust</th>\n",
       "      <th>...</th>\n",
       "      <th>bt_rbc_judge</th>\n",
       "      <th>bt_wbc_judge</th>\n",
       "      <th>bt_rgpt_judge</th>\n",
       "      <th>bt_sgot_judge</th>\n",
       "      <th>bt_sgpt_judge</th>\n",
       "      <th>bt_trig_judge</th>\n",
       "      <th>bmi</th>\n",
       "      <th>whtr</th>\n",
       "      <th>rfm</th>\n",
       "      <th>risk</th>\n",
       "    </tr>\n",
       "  </thead>\n",
       "  <tbody>\n",
       "    <tr>\n",
       "      <th>2</th>\n",
       "      <td>38</td>\n",
       "      <td>C112411</td>\n",
       "      <td>일반검진</td>\n",
       "      <td>재검</td>\n",
       "      <td>2015-09-20</td>\n",
       "      <td>1</td>\n",
       "      <td>69</td>\n",
       "      <td>165</td>\n",
       "      <td>70</td>\n",
       "      <td>92.0</td>\n",
       "      <td>...</td>\n",
       "      <td>-1.0</td>\n",
       "      <td>-1.0</td>\n",
       "      <td>-1.0</td>\n",
       "      <td>-1.0</td>\n",
       "      <td>-1.0</td>\n",
       "      <td>-1.0</td>\n",
       "      <td>25.7</td>\n",
       "      <td>53.3</td>\n",
       "      <td>26.5</td>\n",
       "      <td>1.0</td>\n",
       "    </tr>\n",
       "    <tr>\n",
       "      <th>3</th>\n",
       "      <td>138</td>\n",
       "      <td>C112570</td>\n",
       "      <td>일반검진</td>\n",
       "      <td>재검</td>\n",
       "      <td>2015-05-27</td>\n",
       "      <td>1</td>\n",
       "      <td>67</td>\n",
       "      <td>165</td>\n",
       "      <td>75</td>\n",
       "      <td>95.0</td>\n",
       "      <td>...</td>\n",
       "      <td>-1.0</td>\n",
       "      <td>-1.0</td>\n",
       "      <td>-1.0</td>\n",
       "      <td>-1.0</td>\n",
       "      <td>-1.0</td>\n",
       "      <td>-1.0</td>\n",
       "      <td>27.5</td>\n",
       "      <td>53.9</td>\n",
       "      <td>26.9</td>\n",
       "      <td>1.0</td>\n",
       "    </tr>\n",
       "    <tr>\n",
       "      <th>4</th>\n",
       "      <td>236</td>\n",
       "      <td>C112727</td>\n",
       "      <td>일반검진</td>\n",
       "      <td>승인</td>\n",
       "      <td>2015-06-24</td>\n",
       "      <td>1</td>\n",
       "      <td>65</td>\n",
       "      <td>160</td>\n",
       "      <td>50</td>\n",
       "      <td>89.0</td>\n",
       "      <td>...</td>\n",
       "      <td>-1.0</td>\n",
       "      <td>-1.0</td>\n",
       "      <td>-1.0</td>\n",
       "      <td>-1.0</td>\n",
       "      <td>-1.0</td>\n",
       "      <td>-1.0</td>\n",
       "      <td>19.5</td>\n",
       "      <td>41.2</td>\n",
       "      <td>15.5</td>\n",
       "      <td>1.0</td>\n",
       "    </tr>\n",
       "    <tr>\n",
       "      <th>5</th>\n",
       "      <td>239</td>\n",
       "      <td>C112730</td>\n",
       "      <td>일반검진</td>\n",
       "      <td>승인</td>\n",
       "      <td>2015-09-01</td>\n",
       "      <td>1</td>\n",
       "      <td>65</td>\n",
       "      <td>164</td>\n",
       "      <td>64</td>\n",
       "      <td>97.0</td>\n",
       "      <td>...</td>\n",
       "      <td>-1.0</td>\n",
       "      <td>-1.0</td>\n",
       "      <td>-1.0</td>\n",
       "      <td>-1.0</td>\n",
       "      <td>-1.0</td>\n",
       "      <td>-1.0</td>\n",
       "      <td>23.8</td>\n",
       "      <td>48.8</td>\n",
       "      <td>23.0</td>\n",
       "      <td>1.0</td>\n",
       "    </tr>\n",
       "    <tr>\n",
       "      <th>6</th>\n",
       "      <td>249</td>\n",
       "      <td>C112742</td>\n",
       "      <td>일반검진</td>\n",
       "      <td>승인</td>\n",
       "      <td>2015-09-02</td>\n",
       "      <td>1</td>\n",
       "      <td>65</td>\n",
       "      <td>169</td>\n",
       "      <td>62</td>\n",
       "      <td>89.0</td>\n",
       "      <td>...</td>\n",
       "      <td>-1.0</td>\n",
       "      <td>-1.0</td>\n",
       "      <td>-1.0</td>\n",
       "      <td>-1.0</td>\n",
       "      <td>-1.0</td>\n",
       "      <td>-1.0</td>\n",
       "      <td>21.7</td>\n",
       "      <td>42.6</td>\n",
       "      <td>17.1</td>\n",
       "      <td>1.0</td>\n",
       "    </tr>\n",
       "  </tbody>\n",
       "</table>\n",
       "<p>5 rows × 53 columns</p>\n",
       "</div>"
      ],
      "text/plain": [
       "   Unnamed: 0.1 customer_id review_cat judge review_date  gender  age  height  \\\n",
       "2            38     C112411       일반검진    재검  2015-09-20       1   69     165   \n",
       "3           138     C112570       일반검진    재검  2015-05-27       1   67     165   \n",
       "4           236     C112727       일반검진    승인  2015-06-24       1   65     160   \n",
       "5           239     C112730       일반검진    승인  2015-09-01       1   65     164   \n",
       "6           249     C112742       일반검진    승인  2015-09-02       1   65     169   \n",
       "\n",
       "   weight  bust  ...  bt_rbc_judge  bt_wbc_judge  bt_rgpt_judge  \\\n",
       "2      70  92.0  ...          -1.0          -1.0           -1.0   \n",
       "3      75  95.0  ...          -1.0          -1.0           -1.0   \n",
       "4      50  89.0  ...          -1.0          -1.0           -1.0   \n",
       "5      64  97.0  ...          -1.0          -1.0           -1.0   \n",
       "6      62  89.0  ...          -1.0          -1.0           -1.0   \n",
       "\n",
       "   bt_sgot_judge  bt_sgpt_judge  bt_trig_judge   bmi  whtr   rfm  risk  \n",
       "2           -1.0           -1.0           -1.0  25.7  53.3  26.5   1.0  \n",
       "3           -1.0           -1.0           -1.0  27.5  53.9  26.9   1.0  \n",
       "4           -1.0           -1.0           -1.0  19.5  41.2  15.5   1.0  \n",
       "5           -1.0           -1.0           -1.0  23.8  48.8  23.0   1.0  \n",
       "6           -1.0           -1.0           -1.0  21.7  42.6  17.1   1.0  \n",
       "\n",
       "[5 rows x 53 columns]"
      ]
     },
     "execution_count": 4,
     "metadata": {},
     "output_type": "execute_result"
    }
   ],
   "source": [
    "g_raw = df_raw[df_raw['review_cat'] != '혈액검사'].drop('Unnamed: 0',axis=1)\n",
    "g_raw.head()"
   ]
  },
  {
   "cell_type": "code",
   "execution_count": 5,
   "metadata": {},
   "outputs": [
    {
     "data": {
      "text/plain": [
       "Unnamed: 0.1         0\n",
       "customer_id          0\n",
       "review_cat           0\n",
       "judge                0\n",
       "review_date          0\n",
       "gender               0\n",
       "age                  0\n",
       "height               0\n",
       "weight               0\n",
       "bust                 0\n",
       "waist                0\n",
       "bp_min               0\n",
       "bp_max               0\n",
       "pulse_count          0\n",
       "bt_chol              0\n",
       "bt_crea              0\n",
       "bt_gluc              0\n",
       "bt_hb                0\n",
       "bt_hbsa              0\n",
       "bt_hct               0\n",
       "bt_mch               0\n",
       "bt_mchc              0\n",
       "bt_mvc               0\n",
       "bt_plat              0\n",
       "bt_rbc               0\n",
       "bt_wbc               0\n",
       "bt_rgpt              0\n",
       "bt_sgot              0\n",
       "bt_sgpt              0\n",
       "bt_trig              0\n",
       "judge_score          0\n",
       "bp_judge             0\n",
       "pulse_count_judge    0\n",
       "bt_chol_judge        0\n",
       "bt_crea_judge        0\n",
       "bt_gluc_judge        0\n",
       "bt_hb_judge          0\n",
       "bt_hbsa_judge        0\n",
       "bt_hct_judge         0\n",
       "bt_mch_judge         0\n",
       "bt_mchc_judge        0\n",
       "bt_mvc_judge         0\n",
       "bt_plat_judge        0\n",
       "bt_rbc_judge         0\n",
       "bt_wbc_judge         0\n",
       "bt_rgpt_judge        0\n",
       "bt_sgot_judge        0\n",
       "bt_sgpt_judge        0\n",
       "bt_trig_judge        0\n",
       "bmi                  0\n",
       "whtr                 0\n",
       "rfm                  0\n",
       "risk                 0\n",
       "dtype: int64"
      ]
     },
     "execution_count": 5,
     "metadata": {},
     "output_type": "execute_result"
    }
   ],
   "source": [
    "g_raw.isna().sum()"
   ]
  },
  {
   "cell_type": "code",
   "execution_count": 6,
   "metadata": {},
   "outputs": [
    {
     "data": {
      "text/html": [
       "<div>\n",
       "<style scoped>\n",
       "    .dataframe tbody tr th:only-of-type {\n",
       "        vertical-align: middle;\n",
       "    }\n",
       "\n",
       "    .dataframe tbody tr th {\n",
       "        vertical-align: top;\n",
       "    }\n",
       "\n",
       "    .dataframe thead th {\n",
       "        text-align: right;\n",
       "    }\n",
       "</style>\n",
       "<table border=\"1\" class=\"dataframe\">\n",
       "  <thead>\n",
       "    <tr style=\"text-align: right;\">\n",
       "      <th></th>\n",
       "      <th>Unnamed: 0.1</th>\n",
       "      <th>customer_id</th>\n",
       "      <th>review_cat</th>\n",
       "      <th>judge</th>\n",
       "      <th>review_date</th>\n",
       "      <th>gender</th>\n",
       "      <th>age</th>\n",
       "      <th>height</th>\n",
       "      <th>weight</th>\n",
       "      <th>bust</th>\n",
       "      <th>...</th>\n",
       "      <th>bt_rbc_judge</th>\n",
       "      <th>bt_wbc_judge</th>\n",
       "      <th>bt_rgpt_judge</th>\n",
       "      <th>bt_sgot_judge</th>\n",
       "      <th>bt_sgpt_judge</th>\n",
       "      <th>bt_trig_judge</th>\n",
       "      <th>bmi</th>\n",
       "      <th>whtr</th>\n",
       "      <th>rfm</th>\n",
       "      <th>risk</th>\n",
       "    </tr>\n",
       "  </thead>\n",
       "  <tbody>\n",
       "    <tr>\n",
       "      <th>2</th>\n",
       "      <td>38</td>\n",
       "      <td>C112411</td>\n",
       "      <td>일반검진</td>\n",
       "      <td>재검</td>\n",
       "      <td>2015-09-20</td>\n",
       "      <td>1</td>\n",
       "      <td>69</td>\n",
       "      <td>165</td>\n",
       "      <td>70</td>\n",
       "      <td>92.0</td>\n",
       "      <td>...</td>\n",
       "      <td>-1.0</td>\n",
       "      <td>-1.0</td>\n",
       "      <td>-1.0</td>\n",
       "      <td>-1.0</td>\n",
       "      <td>-1.0</td>\n",
       "      <td>-1.0</td>\n",
       "      <td>25.7</td>\n",
       "      <td>53.3</td>\n",
       "      <td>26.5</td>\n",
       "      <td>1.0</td>\n",
       "    </tr>\n",
       "    <tr>\n",
       "      <th>3</th>\n",
       "      <td>138</td>\n",
       "      <td>C112570</td>\n",
       "      <td>일반검진</td>\n",
       "      <td>재검</td>\n",
       "      <td>2015-05-27</td>\n",
       "      <td>1</td>\n",
       "      <td>67</td>\n",
       "      <td>165</td>\n",
       "      <td>75</td>\n",
       "      <td>95.0</td>\n",
       "      <td>...</td>\n",
       "      <td>-1.0</td>\n",
       "      <td>-1.0</td>\n",
       "      <td>-1.0</td>\n",
       "      <td>-1.0</td>\n",
       "      <td>-1.0</td>\n",
       "      <td>-1.0</td>\n",
       "      <td>27.5</td>\n",
       "      <td>53.9</td>\n",
       "      <td>26.9</td>\n",
       "      <td>1.0</td>\n",
       "    </tr>\n",
       "    <tr>\n",
       "      <th>4</th>\n",
       "      <td>236</td>\n",
       "      <td>C112727</td>\n",
       "      <td>일반검진</td>\n",
       "      <td>승인</td>\n",
       "      <td>2015-06-24</td>\n",
       "      <td>1</td>\n",
       "      <td>65</td>\n",
       "      <td>160</td>\n",
       "      <td>50</td>\n",
       "      <td>89.0</td>\n",
       "      <td>...</td>\n",
       "      <td>-1.0</td>\n",
       "      <td>-1.0</td>\n",
       "      <td>-1.0</td>\n",
       "      <td>-1.0</td>\n",
       "      <td>-1.0</td>\n",
       "      <td>-1.0</td>\n",
       "      <td>19.5</td>\n",
       "      <td>41.2</td>\n",
       "      <td>15.5</td>\n",
       "      <td>1.0</td>\n",
       "    </tr>\n",
       "    <tr>\n",
       "      <th>5</th>\n",
       "      <td>239</td>\n",
       "      <td>C112730</td>\n",
       "      <td>일반검진</td>\n",
       "      <td>승인</td>\n",
       "      <td>2015-09-01</td>\n",
       "      <td>1</td>\n",
       "      <td>65</td>\n",
       "      <td>164</td>\n",
       "      <td>64</td>\n",
       "      <td>97.0</td>\n",
       "      <td>...</td>\n",
       "      <td>-1.0</td>\n",
       "      <td>-1.0</td>\n",
       "      <td>-1.0</td>\n",
       "      <td>-1.0</td>\n",
       "      <td>-1.0</td>\n",
       "      <td>-1.0</td>\n",
       "      <td>23.8</td>\n",
       "      <td>48.8</td>\n",
       "      <td>23.0</td>\n",
       "      <td>1.0</td>\n",
       "    </tr>\n",
       "    <tr>\n",
       "      <th>6</th>\n",
       "      <td>249</td>\n",
       "      <td>C112742</td>\n",
       "      <td>일반검진</td>\n",
       "      <td>승인</td>\n",
       "      <td>2015-09-02</td>\n",
       "      <td>1</td>\n",
       "      <td>65</td>\n",
       "      <td>169</td>\n",
       "      <td>62</td>\n",
       "      <td>89.0</td>\n",
       "      <td>...</td>\n",
       "      <td>-1.0</td>\n",
       "      <td>-1.0</td>\n",
       "      <td>-1.0</td>\n",
       "      <td>-1.0</td>\n",
       "      <td>-1.0</td>\n",
       "      <td>-1.0</td>\n",
       "      <td>21.7</td>\n",
       "      <td>42.6</td>\n",
       "      <td>17.1</td>\n",
       "      <td>1.0</td>\n",
       "    </tr>\n",
       "    <tr>\n",
       "      <th>...</th>\n",
       "      <td>...</td>\n",
       "      <td>...</td>\n",
       "      <td>...</td>\n",
       "      <td>...</td>\n",
       "      <td>...</td>\n",
       "      <td>...</td>\n",
       "      <td>...</td>\n",
       "      <td>...</td>\n",
       "      <td>...</td>\n",
       "      <td>...</td>\n",
       "      <td>...</td>\n",
       "      <td>...</td>\n",
       "      <td>...</td>\n",
       "      <td>...</td>\n",
       "      <td>...</td>\n",
       "      <td>...</td>\n",
       "      <td>...</td>\n",
       "      <td>...</td>\n",
       "      <td>...</td>\n",
       "      <td>...</td>\n",
       "      <td>...</td>\n",
       "    </tr>\n",
       "    <tr>\n",
       "      <th>4492</th>\n",
       "      <td>14846</td>\n",
       "      <td>C134065</td>\n",
       "      <td>일반검진</td>\n",
       "      <td>재검</td>\n",
       "      <td>2015-06-15</td>\n",
       "      <td>2</td>\n",
       "      <td>53</td>\n",
       "      <td>158</td>\n",
       "      <td>54</td>\n",
       "      <td>88.0</td>\n",
       "      <td>...</td>\n",
       "      <td>-1.0</td>\n",
       "      <td>-1.0</td>\n",
       "      <td>-1.0</td>\n",
       "      <td>-1.0</td>\n",
       "      <td>-1.0</td>\n",
       "      <td>-1.0</td>\n",
       "      <td>21.6</td>\n",
       "      <td>49.4</td>\n",
       "      <td>35.5</td>\n",
       "      <td>1.0</td>\n",
       "    </tr>\n",
       "    <tr>\n",
       "      <th>4499</th>\n",
       "      <td>14866</td>\n",
       "      <td>C134107</td>\n",
       "      <td>일반검진</td>\n",
       "      <td>재검</td>\n",
       "      <td>2015-07-12</td>\n",
       "      <td>2</td>\n",
       "      <td>55</td>\n",
       "      <td>158</td>\n",
       "      <td>63</td>\n",
       "      <td>98.0</td>\n",
       "      <td>...</td>\n",
       "      <td>-1.0</td>\n",
       "      <td>-1.0</td>\n",
       "      <td>-1.0</td>\n",
       "      <td>-1.0</td>\n",
       "      <td>-1.0</td>\n",
       "      <td>-1.0</td>\n",
       "      <td>25.2</td>\n",
       "      <td>50.6</td>\n",
       "      <td>36.5</td>\n",
       "      <td>1.0</td>\n",
       "    </tr>\n",
       "    <tr>\n",
       "      <th>4515</th>\n",
       "      <td>14911</td>\n",
       "      <td>C134186</td>\n",
       "      <td>일반검진</td>\n",
       "      <td>승인</td>\n",
       "      <td>2015-05-12</td>\n",
       "      <td>2</td>\n",
       "      <td>38</td>\n",
       "      <td>161</td>\n",
       "      <td>65</td>\n",
       "      <td>94.0</td>\n",
       "      <td>...</td>\n",
       "      <td>-1.0</td>\n",
       "      <td>-1.0</td>\n",
       "      <td>-1.0</td>\n",
       "      <td>-1.0</td>\n",
       "      <td>-1.0</td>\n",
       "      <td>-1.0</td>\n",
       "      <td>25.1</td>\n",
       "      <td>49.7</td>\n",
       "      <td>35.8</td>\n",
       "      <td>1.0</td>\n",
       "    </tr>\n",
       "    <tr>\n",
       "      <th>4518</th>\n",
       "      <td>14931</td>\n",
       "      <td>C134250</td>\n",
       "      <td>일반검진</td>\n",
       "      <td>승인</td>\n",
       "      <td>2015-09-16</td>\n",
       "      <td>2</td>\n",
       "      <td>52</td>\n",
       "      <td>164</td>\n",
       "      <td>60</td>\n",
       "      <td>90.0</td>\n",
       "      <td>...</td>\n",
       "      <td>-1.0</td>\n",
       "      <td>-1.0</td>\n",
       "      <td>-1.0</td>\n",
       "      <td>-1.0</td>\n",
       "      <td>-1.0</td>\n",
       "      <td>-1.0</td>\n",
       "      <td>22.3</td>\n",
       "      <td>40.2</td>\n",
       "      <td>26.3</td>\n",
       "      <td>1.0</td>\n",
       "    </tr>\n",
       "    <tr>\n",
       "      <th>4519</th>\n",
       "      <td>14932</td>\n",
       "      <td>C134251</td>\n",
       "      <td>일반검진</td>\n",
       "      <td>재검</td>\n",
       "      <td>2015-06-21</td>\n",
       "      <td>2</td>\n",
       "      <td>57</td>\n",
       "      <td>157</td>\n",
       "      <td>48</td>\n",
       "      <td>89.0</td>\n",
       "      <td>...</td>\n",
       "      <td>-1.0</td>\n",
       "      <td>-1.0</td>\n",
       "      <td>-1.0</td>\n",
       "      <td>-1.0</td>\n",
       "      <td>-1.0</td>\n",
       "      <td>-1.0</td>\n",
       "      <td>19.5</td>\n",
       "      <td>45.9</td>\n",
       "      <td>32.4</td>\n",
       "      <td>1.0</td>\n",
       "    </tr>\n",
       "  </tbody>\n",
       "</table>\n",
       "<p>989 rows × 53 columns</p>\n",
       "</div>"
      ],
      "text/plain": [
       "      Unnamed: 0.1 customer_id review_cat judge review_date  gender  age  \\\n",
       "2               38     C112411       일반검진    재검  2015-09-20       1   69   \n",
       "3              138     C112570       일반검진    재검  2015-05-27       1   67   \n",
       "4              236     C112727       일반검진    승인  2015-06-24       1   65   \n",
       "5              239     C112730       일반검진    승인  2015-09-01       1   65   \n",
       "6              249     C112742       일반검진    승인  2015-09-02       1   65   \n",
       "...            ...         ...        ...   ...         ...     ...  ...   \n",
       "4492         14846     C134065       일반검진    재검  2015-06-15       2   53   \n",
       "4499         14866     C134107       일반검진    재검  2015-07-12       2   55   \n",
       "4515         14911     C134186       일반검진    승인  2015-05-12       2   38   \n",
       "4518         14931     C134250       일반검진    승인  2015-09-16       2   52   \n",
       "4519         14932     C134251       일반검진    재검  2015-06-21       2   57   \n",
       "\n",
       "      height  weight  bust  ...  bt_rbc_judge  bt_wbc_judge  bt_rgpt_judge  \\\n",
       "2        165      70  92.0  ...          -1.0          -1.0           -1.0   \n",
       "3        165      75  95.0  ...          -1.0          -1.0           -1.0   \n",
       "4        160      50  89.0  ...          -1.0          -1.0           -1.0   \n",
       "5        164      64  97.0  ...          -1.0          -1.0           -1.0   \n",
       "6        169      62  89.0  ...          -1.0          -1.0           -1.0   \n",
       "...      ...     ...   ...  ...           ...           ...            ...   \n",
       "4492     158      54  88.0  ...          -1.0          -1.0           -1.0   \n",
       "4499     158      63  98.0  ...          -1.0          -1.0           -1.0   \n",
       "4515     161      65  94.0  ...          -1.0          -1.0           -1.0   \n",
       "4518     164      60  90.0  ...          -1.0          -1.0           -1.0   \n",
       "4519     157      48  89.0  ...          -1.0          -1.0           -1.0   \n",
       "\n",
       "      bt_sgot_judge  bt_sgpt_judge  bt_trig_judge   bmi  whtr   rfm  risk  \n",
       "2              -1.0           -1.0           -1.0  25.7  53.3  26.5   1.0  \n",
       "3              -1.0           -1.0           -1.0  27.5  53.9  26.9   1.0  \n",
       "4              -1.0           -1.0           -1.0  19.5  41.2  15.5   1.0  \n",
       "5              -1.0           -1.0           -1.0  23.8  48.8  23.0   1.0  \n",
       "6              -1.0           -1.0           -1.0  21.7  42.6  17.1   1.0  \n",
       "...             ...            ...            ...   ...   ...   ...   ...  \n",
       "4492           -1.0           -1.0           -1.0  21.6  49.4  35.5   1.0  \n",
       "4499           -1.0           -1.0           -1.0  25.2  50.6  36.5   1.0  \n",
       "4515           -1.0           -1.0           -1.0  25.1  49.7  35.8   1.0  \n",
       "4518           -1.0           -1.0           -1.0  22.3  40.2  26.3   1.0  \n",
       "4519           -1.0           -1.0           -1.0  19.5  45.9  32.4   1.0  \n",
       "\n",
       "[989 rows x 53 columns]"
      ]
     },
     "execution_count": 6,
     "metadata": {},
     "output_type": "execute_result"
    }
   ],
   "source": [
    "g_raw"
   ]
  },
  {
   "cell_type": "code",
   "execution_count": 7,
   "metadata": {},
   "outputs": [
    {
     "data": {
      "text/html": [
       "<div>\n",
       "<style scoped>\n",
       "    .dataframe tbody tr th:only-of-type {\n",
       "        vertical-align: middle;\n",
       "    }\n",
       "\n",
       "    .dataframe tbody tr th {\n",
       "        vertical-align: top;\n",
       "    }\n",
       "\n",
       "    .dataframe thead th {\n",
       "        text-align: right;\n",
       "    }\n",
       "</style>\n",
       "<table border=\"1\" class=\"dataframe\">\n",
       "  <thead>\n",
       "    <tr style=\"text-align: right;\">\n",
       "      <th></th>\n",
       "      <th>Unnamed: 0.1</th>\n",
       "      <th>customer_id</th>\n",
       "      <th>review_cat</th>\n",
       "      <th>judge</th>\n",
       "      <th>review_date</th>\n",
       "      <th>gender</th>\n",
       "      <th>age</th>\n",
       "      <th>height</th>\n",
       "      <th>weight</th>\n",
       "      <th>bust</th>\n",
       "      <th>...</th>\n",
       "      <th>bp_min</th>\n",
       "      <th>bp_max</th>\n",
       "      <th>pulse_count</th>\n",
       "      <th>bt_chol</th>\n",
       "      <th>bp_judge</th>\n",
       "      <th>pulse_count_judge</th>\n",
       "      <th>judge_score</th>\n",
       "      <th>risk</th>\n",
       "      <th>bmi</th>\n",
       "      <th>whtr</th>\n",
       "    </tr>\n",
       "  </thead>\n",
       "  <tbody>\n",
       "    <tr>\n",
       "      <th>0</th>\n",
       "      <td>38</td>\n",
       "      <td>C112411</td>\n",
       "      <td>일반검진</td>\n",
       "      <td>재검</td>\n",
       "      <td>2015-09-20</td>\n",
       "      <td>1</td>\n",
       "      <td>69</td>\n",
       "      <td>165</td>\n",
       "      <td>70</td>\n",
       "      <td>92.0</td>\n",
       "      <td>...</td>\n",
       "      <td>75</td>\n",
       "      <td>120</td>\n",
       "      <td>68.0</td>\n",
       "      <td>-1.0</td>\n",
       "      <td>0</td>\n",
       "      <td>0</td>\n",
       "      <td>0</td>\n",
       "      <td>1.0</td>\n",
       "      <td>25.7</td>\n",
       "      <td>53.3</td>\n",
       "    </tr>\n",
       "    <tr>\n",
       "      <th>1</th>\n",
       "      <td>138</td>\n",
       "      <td>C112570</td>\n",
       "      <td>일반검진</td>\n",
       "      <td>재검</td>\n",
       "      <td>2015-05-27</td>\n",
       "      <td>1</td>\n",
       "      <td>67</td>\n",
       "      <td>165</td>\n",
       "      <td>75</td>\n",
       "      <td>95.0</td>\n",
       "      <td>...</td>\n",
       "      <td>90</td>\n",
       "      <td>140</td>\n",
       "      <td>70.0</td>\n",
       "      <td>-1.0</td>\n",
       "      <td>1</td>\n",
       "      <td>0</td>\n",
       "      <td>1</td>\n",
       "      <td>1.0</td>\n",
       "      <td>27.5</td>\n",
       "      <td>53.9</td>\n",
       "    </tr>\n",
       "    <tr>\n",
       "      <th>2</th>\n",
       "      <td>236</td>\n",
       "      <td>C112727</td>\n",
       "      <td>일반검진</td>\n",
       "      <td>승인</td>\n",
       "      <td>2015-06-24</td>\n",
       "      <td>1</td>\n",
       "      <td>65</td>\n",
       "      <td>160</td>\n",
       "      <td>50</td>\n",
       "      <td>89.0</td>\n",
       "      <td>...</td>\n",
       "      <td>80</td>\n",
       "      <td>130</td>\n",
       "      <td>64.0</td>\n",
       "      <td>-1.0</td>\n",
       "      <td>1</td>\n",
       "      <td>0</td>\n",
       "      <td>0</td>\n",
       "      <td>1.0</td>\n",
       "      <td>19.5</td>\n",
       "      <td>41.2</td>\n",
       "    </tr>\n",
       "    <tr>\n",
       "      <th>3</th>\n",
       "      <td>239</td>\n",
       "      <td>C112730</td>\n",
       "      <td>일반검진</td>\n",
       "      <td>승인</td>\n",
       "      <td>2015-09-01</td>\n",
       "      <td>1</td>\n",
       "      <td>65</td>\n",
       "      <td>164</td>\n",
       "      <td>64</td>\n",
       "      <td>97.0</td>\n",
       "      <td>...</td>\n",
       "      <td>80</td>\n",
       "      <td>125</td>\n",
       "      <td>68.0</td>\n",
       "      <td>-1.0</td>\n",
       "      <td>1</td>\n",
       "      <td>0</td>\n",
       "      <td>0</td>\n",
       "      <td>1.0</td>\n",
       "      <td>23.8</td>\n",
       "      <td>48.8</td>\n",
       "    </tr>\n",
       "    <tr>\n",
       "      <th>4</th>\n",
       "      <td>249</td>\n",
       "      <td>C112742</td>\n",
       "      <td>일반검진</td>\n",
       "      <td>승인</td>\n",
       "      <td>2015-09-02</td>\n",
       "      <td>1</td>\n",
       "      <td>65</td>\n",
       "      <td>169</td>\n",
       "      <td>62</td>\n",
       "      <td>89.0</td>\n",
       "      <td>...</td>\n",
       "      <td>80</td>\n",
       "      <td>120</td>\n",
       "      <td>70.0</td>\n",
       "      <td>-1.0</td>\n",
       "      <td>0</td>\n",
       "      <td>0</td>\n",
       "      <td>0</td>\n",
       "      <td>1.0</td>\n",
       "      <td>21.7</td>\n",
       "      <td>42.6</td>\n",
       "    </tr>\n",
       "    <tr>\n",
       "      <th>...</th>\n",
       "      <td>...</td>\n",
       "      <td>...</td>\n",
       "      <td>...</td>\n",
       "      <td>...</td>\n",
       "      <td>...</td>\n",
       "      <td>...</td>\n",
       "      <td>...</td>\n",
       "      <td>...</td>\n",
       "      <td>...</td>\n",
       "      <td>...</td>\n",
       "      <td>...</td>\n",
       "      <td>...</td>\n",
       "      <td>...</td>\n",
       "      <td>...</td>\n",
       "      <td>...</td>\n",
       "      <td>...</td>\n",
       "      <td>...</td>\n",
       "      <td>...</td>\n",
       "      <td>...</td>\n",
       "      <td>...</td>\n",
       "      <td>...</td>\n",
       "    </tr>\n",
       "    <tr>\n",
       "      <th>984</th>\n",
       "      <td>14846</td>\n",
       "      <td>C134065</td>\n",
       "      <td>일반검진</td>\n",
       "      <td>재검</td>\n",
       "      <td>2015-06-15</td>\n",
       "      <td>2</td>\n",
       "      <td>53</td>\n",
       "      <td>158</td>\n",
       "      <td>54</td>\n",
       "      <td>88.0</td>\n",
       "      <td>...</td>\n",
       "      <td>80</td>\n",
       "      <td>110</td>\n",
       "      <td>80.0</td>\n",
       "      <td>-1.0</td>\n",
       "      <td>0</td>\n",
       "      <td>0</td>\n",
       "      <td>0</td>\n",
       "      <td>1.0</td>\n",
       "      <td>21.6</td>\n",
       "      <td>49.4</td>\n",
       "    </tr>\n",
       "    <tr>\n",
       "      <th>985</th>\n",
       "      <td>14866</td>\n",
       "      <td>C134107</td>\n",
       "      <td>일반검진</td>\n",
       "      <td>재검</td>\n",
       "      <td>2015-07-12</td>\n",
       "      <td>2</td>\n",
       "      <td>55</td>\n",
       "      <td>158</td>\n",
       "      <td>63</td>\n",
       "      <td>98.0</td>\n",
       "      <td>...</td>\n",
       "      <td>80</td>\n",
       "      <td>135</td>\n",
       "      <td>70.0</td>\n",
       "      <td>-1.0</td>\n",
       "      <td>1</td>\n",
       "      <td>0</td>\n",
       "      <td>1</td>\n",
       "      <td>1.0</td>\n",
       "      <td>25.2</td>\n",
       "      <td>50.6</td>\n",
       "    </tr>\n",
       "    <tr>\n",
       "      <th>986</th>\n",
       "      <td>14911</td>\n",
       "      <td>C134186</td>\n",
       "      <td>일반검진</td>\n",
       "      <td>승인</td>\n",
       "      <td>2015-05-12</td>\n",
       "      <td>2</td>\n",
       "      <td>38</td>\n",
       "      <td>161</td>\n",
       "      <td>65</td>\n",
       "      <td>94.0</td>\n",
       "      <td>...</td>\n",
       "      <td>70</td>\n",
       "      <td>110</td>\n",
       "      <td>72.0</td>\n",
       "      <td>-1.0</td>\n",
       "      <td>0</td>\n",
       "      <td>0</td>\n",
       "      <td>0</td>\n",
       "      <td>1.0</td>\n",
       "      <td>25.1</td>\n",
       "      <td>49.7</td>\n",
       "    </tr>\n",
       "    <tr>\n",
       "      <th>987</th>\n",
       "      <td>14931</td>\n",
       "      <td>C134250</td>\n",
       "      <td>일반검진</td>\n",
       "      <td>승인</td>\n",
       "      <td>2015-09-16</td>\n",
       "      <td>2</td>\n",
       "      <td>52</td>\n",
       "      <td>164</td>\n",
       "      <td>60</td>\n",
       "      <td>90.0</td>\n",
       "      <td>...</td>\n",
       "      <td>80</td>\n",
       "      <td>120</td>\n",
       "      <td>70.0</td>\n",
       "      <td>-1.0</td>\n",
       "      <td>0</td>\n",
       "      <td>0</td>\n",
       "      <td>0</td>\n",
       "      <td>1.0</td>\n",
       "      <td>22.3</td>\n",
       "      <td>40.2</td>\n",
       "    </tr>\n",
       "    <tr>\n",
       "      <th>988</th>\n",
       "      <td>14932</td>\n",
       "      <td>C134251</td>\n",
       "      <td>일반검진</td>\n",
       "      <td>재검</td>\n",
       "      <td>2015-06-21</td>\n",
       "      <td>2</td>\n",
       "      <td>57</td>\n",
       "      <td>157</td>\n",
       "      <td>48</td>\n",
       "      <td>89.0</td>\n",
       "      <td>...</td>\n",
       "      <td>70</td>\n",
       "      <td>110</td>\n",
       "      <td>72.0</td>\n",
       "      <td>-1.0</td>\n",
       "      <td>0</td>\n",
       "      <td>0</td>\n",
       "      <td>2</td>\n",
       "      <td>1.0</td>\n",
       "      <td>19.5</td>\n",
       "      <td>45.9</td>\n",
       "    </tr>\n",
       "  </tbody>\n",
       "</table>\n",
       "<p>989 rows × 21 columns</p>\n",
       "</div>"
      ],
      "text/plain": [
       "     Unnamed: 0.1 customer_id review_cat judge review_date  gender  age  \\\n",
       "0              38     C112411       일반검진    재검  2015-09-20       1   69   \n",
       "1             138     C112570       일반검진    재검  2015-05-27       1   67   \n",
       "2             236     C112727       일반검진    승인  2015-06-24       1   65   \n",
       "3             239     C112730       일반검진    승인  2015-09-01       1   65   \n",
       "4             249     C112742       일반검진    승인  2015-09-02       1   65   \n",
       "..            ...         ...        ...   ...         ...     ...  ...   \n",
       "984         14846     C134065       일반검진    재검  2015-06-15       2   53   \n",
       "985         14866     C134107       일반검진    재검  2015-07-12       2   55   \n",
       "986         14911     C134186       일반검진    승인  2015-05-12       2   38   \n",
       "987         14931     C134250       일반검진    승인  2015-09-16       2   52   \n",
       "988         14932     C134251       일반검진    재검  2015-06-21       2   57   \n",
       "\n",
       "     height  weight  bust  ...  bp_min  bp_max  pulse_count  bt_chol  \\\n",
       "0       165      70  92.0  ...      75     120         68.0     -1.0   \n",
       "1       165      75  95.0  ...      90     140         70.0     -1.0   \n",
       "2       160      50  89.0  ...      80     130         64.0     -1.0   \n",
       "3       164      64  97.0  ...      80     125         68.0     -1.0   \n",
       "4       169      62  89.0  ...      80     120         70.0     -1.0   \n",
       "..      ...     ...   ...  ...     ...     ...          ...      ...   \n",
       "984     158      54  88.0  ...      80     110         80.0     -1.0   \n",
       "985     158      63  98.0  ...      80     135         70.0     -1.0   \n",
       "986     161      65  94.0  ...      70     110         72.0     -1.0   \n",
       "987     164      60  90.0  ...      80     120         70.0     -1.0   \n",
       "988     157      48  89.0  ...      70     110         72.0     -1.0   \n",
       "\n",
       "     bp_judge  pulse_count_judge  judge_score  risk   bmi  whtr  \n",
       "0           0                  0            0   1.0  25.7  53.3  \n",
       "1           1                  0            1   1.0  27.5  53.9  \n",
       "2           1                  0            0   1.0  19.5  41.2  \n",
       "3           1                  0            0   1.0  23.8  48.8  \n",
       "4           0                  0            0   1.0  21.7  42.6  \n",
       "..        ...                ...          ...   ...   ...   ...  \n",
       "984         0                  0            0   1.0  21.6  49.4  \n",
       "985         1                  0            1   1.0  25.2  50.6  \n",
       "986         0                  0            0   1.0  25.1  49.7  \n",
       "987         0                  0            0   1.0  22.3  40.2  \n",
       "988         0                  0            2   1.0  19.5  45.9  \n",
       "\n",
       "[989 rows x 21 columns]"
      ]
     },
     "execution_count": 7,
     "metadata": {},
     "output_type": "execute_result"
    }
   ],
   "source": [
    "g_test_1 = g_raw.iloc[:,:15]\n",
    "g_test_2 = g_raw[['bp_judge','pulse_count_judge','judge_score','risk','customer_id','bmi','whtr']]\n",
    "g_test = pd.merge(g_test_1,g_test_2,on='customer_id',how='left')\n",
    "g_test"
   ]
  },
  {
   "cell_type": "code",
   "execution_count": 8,
   "metadata": {},
   "outputs": [
    {
     "data": {
      "text/plain": [
       "Index(['Unnamed: 0.1', 'customer_id', 'review_cat', 'judge', 'review_date',\n",
       "       'gender', 'age', 'height', 'weight', 'bust', 'waist', 'bp_min',\n",
       "       'bp_max', 'pulse_count', 'bt_chol', 'bp_judge', 'pulse_count_judge',\n",
       "       'judge_score', 'risk', 'bmi', 'whtr'],\n",
       "      dtype='object')"
      ]
     },
     "execution_count": 8,
     "metadata": {},
     "output_type": "execute_result"
    }
   ],
   "source": [
    "g_test.columns"
   ]
  },
  {
   "cell_type": "markdown",
   "metadata": {},
   "source": [
    "## 탐색적 분석"
   ]
  },
  {
   "cell_type": "code",
   "execution_count": 9,
   "metadata": {},
   "outputs": [],
   "source": [
    "def myhist(data,var):\n",
    "    plt.hist(data[data['risk']==0][var],label = '수익', alpha = 0.5)\n",
    "    plt.hist(data[data['risk']==1][var],label = '위험', alpha = 0.5)\n",
    "    plt.legend()\n",
    "    \n",
    "def mycrosstab(data,var) : \n",
    "    print(pd.crosstab(index = data['risk'], columns = data[var]))\n",
    "    print()\n",
    "    print(pd.crosstab(index = data['risk'], columns = data[var],normalize = 'columns').round(3))"
   ]
  },
  {
   "cell_type": "code",
   "execution_count": 10,
   "metadata": {},
   "outputs": [],
   "source": [
    "def my_t(data,var):\n",
    "    k = stats.levene(data[data['risk']==0][var],data[data['risk']==1][var])\n",
    "    t_result = stats.ttest_ind(data[data['risk']==0][[var]],\n",
    "                               data[data['risk']==1][[var]],equal_var=True) # 2 sample 비교 명령어\n",
    "\n",
    "    t,p = t_result\n",
    "    print(k,p)"
   ]
  },
  {
   "cell_type": "markdown",
   "metadata": {},
   "source": [
    "### 검정 탐색"
   ]
  },
  {
   "cell_type": "code",
   "execution_count": 11,
   "metadata": {},
   "outputs": [
    {
     "name": "stderr",
     "output_type": "stream",
     "text": [
      "/home/piai/anaconda3/lib/python3.8/site-packages/matplotlib/backends/backend_agg.py:238: RuntimeWarning: Glyph 49849 missing from current font.\n",
      "  font.set_text(s, 0.0, flags=flags)\n",
      "/home/piai/anaconda3/lib/python3.8/site-packages/matplotlib/backends/backend_agg.py:238: RuntimeWarning: Glyph 51064 missing from current font.\n",
      "  font.set_text(s, 0.0, flags=flags)\n",
      "/home/piai/anaconda3/lib/python3.8/site-packages/matplotlib/backends/backend_agg.py:238: RuntimeWarning: Glyph 51116 missing from current font.\n",
      "  font.set_text(s, 0.0, flags=flags)\n",
      "/home/piai/anaconda3/lib/python3.8/site-packages/matplotlib/backends/backend_agg.py:238: RuntimeWarning: Glyph 44160 missing from current font.\n",
      "  font.set_text(s, 0.0, flags=flags)\n",
      "/home/piai/anaconda3/lib/python3.8/site-packages/matplotlib/backends/backend_agg.py:238: RuntimeWarning: Glyph 49688 missing from current font.\n",
      "  font.set_text(s, 0.0, flags=flags)\n",
      "/home/piai/anaconda3/lib/python3.8/site-packages/matplotlib/backends/backend_agg.py:238: RuntimeWarning: Glyph 51061 missing from current font.\n",
      "  font.set_text(s, 0.0, flags=flags)\n",
      "/home/piai/anaconda3/lib/python3.8/site-packages/matplotlib/backends/backend_agg.py:238: RuntimeWarning: Glyph 50948 missing from current font.\n",
      "  font.set_text(s, 0.0, flags=flags)\n",
      "/home/piai/anaconda3/lib/python3.8/site-packages/matplotlib/backends/backend_agg.py:238: RuntimeWarning: Glyph 54744 missing from current font.\n",
      "  font.set_text(s, 0.0, flags=flags)\n",
      "/home/piai/anaconda3/lib/python3.8/site-packages/matplotlib/backends/backend_agg.py:201: RuntimeWarning: Glyph 49849 missing from current font.\n",
      "  font.set_text(s, 0, flags=flags)\n",
      "/home/piai/anaconda3/lib/python3.8/site-packages/matplotlib/backends/backend_agg.py:201: RuntimeWarning: Glyph 51064 missing from current font.\n",
      "  font.set_text(s, 0, flags=flags)\n",
      "/home/piai/anaconda3/lib/python3.8/site-packages/matplotlib/backends/backend_agg.py:201: RuntimeWarning: Glyph 51116 missing from current font.\n",
      "  font.set_text(s, 0, flags=flags)\n",
      "/home/piai/anaconda3/lib/python3.8/site-packages/matplotlib/backends/backend_agg.py:201: RuntimeWarning: Glyph 44160 missing from current font.\n",
      "  font.set_text(s, 0, flags=flags)\n",
      "/home/piai/anaconda3/lib/python3.8/site-packages/matplotlib/backends/backend_agg.py:201: RuntimeWarning: Glyph 49688 missing from current font.\n",
      "  font.set_text(s, 0, flags=flags)\n",
      "/home/piai/anaconda3/lib/python3.8/site-packages/matplotlib/backends/backend_agg.py:201: RuntimeWarning: Glyph 51061 missing from current font.\n",
      "  font.set_text(s, 0, flags=flags)\n",
      "/home/piai/anaconda3/lib/python3.8/site-packages/matplotlib/backends/backend_agg.py:201: RuntimeWarning: Glyph 50948 missing from current font.\n",
      "  font.set_text(s, 0, flags=flags)\n",
      "/home/piai/anaconda3/lib/python3.8/site-packages/matplotlib/backends/backend_agg.py:201: RuntimeWarning: Glyph 54744 missing from current font.\n",
      "  font.set_text(s, 0, flags=flags)\n"
     ]
    },
    {
     "data": {
      "image/png": "[encoded data removed]",
      "text/plain": [
       "<Figure size 432x288 with 1 Axes>"
      ]
     },
     "metadata": {
      "needs_background": "light"
     },
     "output_type": "display_data"
    }
   ],
   "source": [
    "myhist(g_test,'judge')"
   ]
  },
  {
   "cell_type": "code",
   "execution_count": 12,
   "metadata": {},
   "outputs": [
    {
     "name": "stdout",
     "output_type": "stream",
     "text": [
      "judge   승인   재검\n",
      "risk           \n",
      "0.0     62   53\n",
      "1.0    400  474\n",
      "\n",
      "judge     승인     재검\n",
      "risk               \n",
      "0.0    0.134  0.101\n",
      "1.0    0.866  0.899\n"
     ]
    }
   ],
   "source": [
    "mycrosstab(g_test,'judge')"
   ]
  },
  {
   "cell_type": "code",
   "execution_count": 13,
   "metadata": {},
   "outputs": [
    {
     "name": "stdout",
     "output_type": "stream",
     "text": [
      "p-value는 0.102\n"
     ]
    }
   ],
   "source": [
    "a = 62 ; b =53 ; c = 401 ; d = 474\n",
    "\n",
    "count = np.array([a,b])\n",
    "num = np.array([a+c,b+d])\n",
    "\n",
    "stat, p_value = proportions_ztest(count,num)\n",
    "print('p-value는 {:.3f}'.format(p_value.round(3))) # 유의 X, 층별 x"
   ]
  },
  {
   "cell_type": "code",
   "execution_count": 14,
   "metadata": {},
   "outputs": [
    {
     "name": "stderr",
     "output_type": "stream",
     "text": [
      "/home/piai/anaconda3/lib/python3.8/site-packages/matplotlib/backends/backend_agg.py:238: RuntimeWarning: Glyph 49688 missing from current font.\n",
      "  font.set_text(s, 0.0, flags=flags)\n",
      "/home/piai/anaconda3/lib/python3.8/site-packages/matplotlib/backends/backend_agg.py:238: RuntimeWarning: Glyph 51061 missing from current font.\n",
      "  font.set_text(s, 0.0, flags=flags)\n",
      "/home/piai/anaconda3/lib/python3.8/site-packages/matplotlib/backends/backend_agg.py:238: RuntimeWarning: Glyph 50948 missing from current font.\n",
      "  font.set_text(s, 0.0, flags=flags)\n",
      "/home/piai/anaconda3/lib/python3.8/site-packages/matplotlib/backends/backend_agg.py:238: RuntimeWarning: Glyph 54744 missing from current font.\n",
      "  font.set_text(s, 0.0, flags=flags)\n",
      "/home/piai/anaconda3/lib/python3.8/site-packages/matplotlib/backends/backend_agg.py:201: RuntimeWarning: Glyph 49688 missing from current font.\n",
      "  font.set_text(s, 0, flags=flags)\n",
      "/home/piai/anaconda3/lib/python3.8/site-packages/matplotlib/backends/backend_agg.py:201: RuntimeWarning: Glyph 51061 missing from current font.\n",
      "  font.set_text(s, 0, flags=flags)\n",
      "/home/piai/anaconda3/lib/python3.8/site-packages/matplotlib/backends/backend_agg.py:201: RuntimeWarning: Glyph 50948 missing from current font.\n",
      "  font.set_text(s, 0, flags=flags)\n",
      "/home/piai/anaconda3/lib/python3.8/site-packages/matplotlib/backends/backend_agg.py:201: RuntimeWarning: Glyph 54744 missing from current font.\n",
      "  font.set_text(s, 0, flags=flags)\n"
     ]
    },
    {
     "data": {
      "image/png": "[encoded data removed]",
      "text/plain": [
       "<Figure size 432x288 with 1 Axes>"
      ]
     },
     "metadata": {
      "needs_background": "light"
     },
     "output_type": "display_data"
    }
   ],
   "source": [
    "myhist(g_test,'gender')"
   ]
  },
  {
   "cell_type": "code",
   "execution_count": 15,
   "metadata": {},
   "outputs": [
    {
     "name": "stdout",
     "output_type": "stream",
     "text": [
      "gender    1    2\n",
      "risk            \n",
      "0.0      31   84\n",
      "1.0     356  518\n",
      "\n",
      "gender     1     2\n",
      "risk              \n",
      "0.0     0.08  0.14\n",
      "1.0     0.92  0.86\n"
     ]
    }
   ],
   "source": [
    "mycrosstab(g_test,'gender')"
   ]
  },
  {
   "cell_type": "code",
   "execution_count": 16,
   "metadata": {},
   "outputs": [
    {
     "name": "stdout",
     "output_type": "stream",
     "text": [
      "p-value는 0.005\n"
     ]
    }
   ],
   "source": [
    "a = 31 ; b = 84 ; c = 356 ; d = 519\n",
    "\n",
    "count = np.array([a,b])\n",
    "num = np.array([a+c,b+d])\n",
    "\n",
    "stat, p_value = proportions_ztest(count,num)\n",
    "print('p-value는 {:.3f}'.format(p_value.round(3))) # 유의"
   ]
  },
  {
   "cell_type": "code",
   "execution_count": 17,
   "metadata": {},
   "outputs": [
    {
     "name": "stderr",
     "output_type": "stream",
     "text": [
      "/home/piai/anaconda3/lib/python3.8/site-packages/matplotlib/backends/backend_agg.py:238: RuntimeWarning: Glyph 49688 missing from current font.\n",
      "  font.set_text(s, 0.0, flags=flags)\n",
      "/home/piai/anaconda3/lib/python3.8/site-packages/matplotlib/backends/backend_agg.py:238: RuntimeWarning: Glyph 51061 missing from current font.\n",
      "  font.set_text(s, 0.0, flags=flags)\n",
      "/home/piai/anaconda3/lib/python3.8/site-packages/matplotlib/backends/backend_agg.py:238: RuntimeWarning: Glyph 50948 missing from current font.\n",
      "  font.set_text(s, 0.0, flags=flags)\n",
      "/home/piai/anaconda3/lib/python3.8/site-packages/matplotlib/backends/backend_agg.py:238: RuntimeWarning: Glyph 54744 missing from current font.\n",
      "  font.set_text(s, 0.0, flags=flags)\n",
      "/home/piai/anaconda3/lib/python3.8/site-packages/matplotlib/backends/backend_agg.py:201: RuntimeWarning: Glyph 49688 missing from current font.\n",
      "  font.set_text(s, 0, flags=flags)\n",
      "/home/piai/anaconda3/lib/python3.8/site-packages/matplotlib/backends/backend_agg.py:201: RuntimeWarning: Glyph 51061 missing from current font.\n",
      "  font.set_text(s, 0, flags=flags)\n",
      "/home/piai/anaconda3/lib/python3.8/site-packages/matplotlib/backends/backend_agg.py:201: RuntimeWarning: Glyph 50948 missing from current font.\n",
      "  font.set_text(s, 0, flags=flags)\n",
      "/home/piai/anaconda3/lib/python3.8/site-packages/matplotlib/backends/backend_agg.py:201: RuntimeWarning: Glyph 54744 missing from current font.\n",
      "  font.set_text(s, 0, flags=flags)\n"
     ]
    },
    {
     "data": {
      "image/png": "[encoded data removed]",
      "text/plain": [
       "<Figure size 432x288 with 1 Axes>"
      ]
     },
     "metadata": {
      "needs_background": "light"
     },
     "output_type": "display_data"
    }
   ],
   "source": [
    "myhist(g_test,'pulse_count_judge') # pulse count 1 고객 존재 X -> 판단 불가, 제외"
   ]
  },
  {
   "cell_type": "code",
   "execution_count": 18,
   "metadata": {},
   "outputs": [
    {
     "name": "stderr",
     "output_type": "stream",
     "text": [
      "/home/piai/anaconda3/lib/python3.8/site-packages/matplotlib/backends/backend_agg.py:238: RuntimeWarning: Glyph 49688 missing from current font.\n",
      "  font.set_text(s, 0.0, flags=flags)\n",
      "/home/piai/anaconda3/lib/python3.8/site-packages/matplotlib/backends/backend_agg.py:238: RuntimeWarning: Glyph 51061 missing from current font.\n",
      "  font.set_text(s, 0.0, flags=flags)\n",
      "/home/piai/anaconda3/lib/python3.8/site-packages/matplotlib/backends/backend_agg.py:238: RuntimeWarning: Glyph 50948 missing from current font.\n",
      "  font.set_text(s, 0.0, flags=flags)\n",
      "/home/piai/anaconda3/lib/python3.8/site-packages/matplotlib/backends/backend_agg.py:238: RuntimeWarning: Glyph 54744 missing from current font.\n",
      "  font.set_text(s, 0.0, flags=flags)\n",
      "/home/piai/anaconda3/lib/python3.8/site-packages/matplotlib/backends/backend_agg.py:201: RuntimeWarning: Glyph 49688 missing from current font.\n",
      "  font.set_text(s, 0, flags=flags)\n",
      "/home/piai/anaconda3/lib/python3.8/site-packages/matplotlib/backends/backend_agg.py:201: RuntimeWarning: Glyph 51061 missing from current font.\n",
      "  font.set_text(s, 0, flags=flags)\n",
      "/home/piai/anaconda3/lib/python3.8/site-packages/matplotlib/backends/backend_agg.py:201: RuntimeWarning: Glyph 50948 missing from current font.\n",
      "  font.set_text(s, 0, flags=flags)\n",
      "/home/piai/anaconda3/lib/python3.8/site-packages/matplotlib/backends/backend_agg.py:201: RuntimeWarning: Glyph 54744 missing from current font.\n",
      "  font.set_text(s, 0, flags=flags)\n"
     ]
    },
    {
     "data": {
      "image/png": "[encoded data removed]",
      "text/plain": [
       "<Figure size 432x288 with 1 Axes>"
      ]
     },
     "metadata": {
      "needs_background": "light"
     },
     "output_type": "display_data"
    }
   ],
   "source": [
    "myhist(g_test,'bp_judge')"
   ]
  },
  {
   "cell_type": "code",
   "execution_count": 19,
   "metadata": {},
   "outputs": [
    {
     "name": "stdout",
     "output_type": "stream",
     "text": [
      "bp_judge    0    1\n",
      "risk              \n",
      "0.0        97   18\n",
      "1.0       704  170\n",
      "\n",
      "bp_judge      0      1\n",
      "risk                  \n",
      "0.0       0.121  0.096\n",
      "1.0       0.879  0.904\n"
     ]
    }
   ],
   "source": [
    "mycrosstab(g_test,'bp_judge')"
   ]
  },
  {
   "cell_type": "code",
   "execution_count": 20,
   "metadata": {},
   "outputs": [
    {
     "name": "stdout",
     "output_type": "stream",
     "text": [
      "p-value는 0.332\n"
     ]
    }
   ],
   "source": [
    "a = 97 ; b = 18 ; c = 705 ; d = 170\n",
    "\n",
    "count = np.array([a,b])\n",
    "num = np.array([a+c,b+d])\n",
    "\n",
    "stat, p_value = proportions_ztest(count,num)\n",
    "print('p-value는 {:.3f}'.format(p_value.round(3)))"
   ]
  },
  {
   "cell_type": "code",
   "execution_count": 21,
   "metadata": {},
   "outputs": [
    {
     "name": "stderr",
     "output_type": "stream",
     "text": [
      "/home/piai/anaconda3/lib/python3.8/site-packages/matplotlib/backends/backend_agg.py:238: RuntimeWarning: Glyph 49688 missing from current font.\n",
      "  font.set_text(s, 0.0, flags=flags)\n",
      "/home/piai/anaconda3/lib/python3.8/site-packages/matplotlib/backends/backend_agg.py:238: RuntimeWarning: Glyph 51061 missing from current font.\n",
      "  font.set_text(s, 0.0, flags=flags)\n",
      "/home/piai/anaconda3/lib/python3.8/site-packages/matplotlib/backends/backend_agg.py:238: RuntimeWarning: Glyph 50948 missing from current font.\n",
      "  font.set_text(s, 0.0, flags=flags)\n",
      "/home/piai/anaconda3/lib/python3.8/site-packages/matplotlib/backends/backend_agg.py:238: RuntimeWarning: Glyph 54744 missing from current font.\n",
      "  font.set_text(s, 0.0, flags=flags)\n",
      "/home/piai/anaconda3/lib/python3.8/site-packages/matplotlib/backends/backend_agg.py:201: RuntimeWarning: Glyph 49688 missing from current font.\n",
      "  font.set_text(s, 0, flags=flags)\n",
      "/home/piai/anaconda3/lib/python3.8/site-packages/matplotlib/backends/backend_agg.py:201: RuntimeWarning: Glyph 51061 missing from current font.\n",
      "  font.set_text(s, 0, flags=flags)\n",
      "/home/piai/anaconda3/lib/python3.8/site-packages/matplotlib/backends/backend_agg.py:201: RuntimeWarning: Glyph 50948 missing from current font.\n",
      "  font.set_text(s, 0, flags=flags)\n",
      "/home/piai/anaconda3/lib/python3.8/site-packages/matplotlib/backends/backend_agg.py:201: RuntimeWarning: Glyph 54744 missing from current font.\n",
      "  font.set_text(s, 0, flags=flags)\n"
     ]
    },
    {
     "data": {
      "image/png": "[encoded data removed]",
      "text/plain": [
       "<Figure size 432x288 with 1 Axes>"
      ]
     },
     "metadata": {
      "needs_background": "light"
     },
     "output_type": "display_data"
    }
   ],
   "source": [
    "myhist(g_test,'judge_score')"
   ]
  },
  {
   "cell_type": "code",
   "execution_count": 22,
   "metadata": {},
   "outputs": [
    {
     "name": "stdout",
     "output_type": "stream",
     "text": [
      "judge_score    0    1   2   3   4   5  6\n",
      "risk                                    \n",
      "0.0           77   23   4   6   2   3  0\n",
      "1.0          573  177  66  22  22  11  3\n",
      "\n",
      "judge_score      0      1      2      3      4      5    6\n",
      "risk                                                      \n",
      "0.0          0.118  0.115  0.057  0.214  0.083  0.214  0.0\n",
      "1.0          0.882  0.885  0.943  0.786  0.917  0.786  1.0\n"
     ]
    }
   ],
   "source": [
    "mycrosstab(g_test,'judge_score')"
   ]
  },
  {
   "cell_type": "code",
   "execution_count": 23,
   "metadata": {},
   "outputs": [
    {
     "name": "stdout",
     "output_type": "stream",
     "text": [
      "검정 통계량은 6.991 p-value는 0.321682)\n"
     ]
    }
   ],
   "source": [
    "df = pd.DataFrame({'A':[77,23,4,6,2,3,0],'B':[574,177,66,22,22,11,3]})\n",
    "chi, p, dof, expected = stats.chi2_contingency(df.T) #테이블 형태로 넣는다는 의미\n",
    "print('검정 통계량은 {0} p-value는 {1})'.format(chi.round(3), p.round(6)))"
   ]
  },
  {
   "cell_type": "markdown",
   "metadata": {},
   "source": [
    "### judge_score 파생"
   ]
  },
  {
   "cell_type": "code",
   "execution_count": 24,
   "metadata": {},
   "outputs": [
    {
     "data": {
      "text/html": [
       "<div>\n",
       "<style scoped>\n",
       "    .dataframe tbody tr th:only-of-type {\n",
       "        vertical-align: middle;\n",
       "    }\n",
       "\n",
       "    .dataframe tbody tr th {\n",
       "        vertical-align: top;\n",
       "    }\n",
       "\n",
       "    .dataframe thead th {\n",
       "        text-align: right;\n",
       "    }\n",
       "</style>\n",
       "<table border=\"1\" class=\"dataframe\">\n",
       "  <thead>\n",
       "    <tr style=\"text-align: right;\">\n",
       "      <th></th>\n",
       "      <th>Unnamed: 0.1</th>\n",
       "      <th>customer_id</th>\n",
       "      <th>review_cat</th>\n",
       "      <th>judge</th>\n",
       "      <th>review_date</th>\n",
       "      <th>gender</th>\n",
       "      <th>age</th>\n",
       "      <th>height</th>\n",
       "      <th>weight</th>\n",
       "      <th>bust</th>\n",
       "      <th>...</th>\n",
       "      <th>bp_max</th>\n",
       "      <th>pulse_count</th>\n",
       "      <th>bt_chol</th>\n",
       "      <th>bp_judge</th>\n",
       "      <th>pulse_count_judge</th>\n",
       "      <th>judge_score</th>\n",
       "      <th>risk</th>\n",
       "      <th>bmi</th>\n",
       "      <th>whtr</th>\n",
       "      <th>new_judge</th>\n",
       "    </tr>\n",
       "  </thead>\n",
       "  <tbody>\n",
       "    <tr>\n",
       "      <th>0</th>\n",
       "      <td>38</td>\n",
       "      <td>C112411</td>\n",
       "      <td>일반검진</td>\n",
       "      <td>재검</td>\n",
       "      <td>2015-09-20</td>\n",
       "      <td>1</td>\n",
       "      <td>69</td>\n",
       "      <td>165</td>\n",
       "      <td>70</td>\n",
       "      <td>92.0</td>\n",
       "      <td>...</td>\n",
       "      <td>120</td>\n",
       "      <td>68.0</td>\n",
       "      <td>-1.0</td>\n",
       "      <td>0</td>\n",
       "      <td>0</td>\n",
       "      <td>0</td>\n",
       "      <td>1.0</td>\n",
       "      <td>25.7</td>\n",
       "      <td>53.3</td>\n",
       "      <td>0</td>\n",
       "    </tr>\n",
       "    <tr>\n",
       "      <th>1</th>\n",
       "      <td>138</td>\n",
       "      <td>C112570</td>\n",
       "      <td>일반검진</td>\n",
       "      <td>재검</td>\n",
       "      <td>2015-05-27</td>\n",
       "      <td>1</td>\n",
       "      <td>67</td>\n",
       "      <td>165</td>\n",
       "      <td>75</td>\n",
       "      <td>95.0</td>\n",
       "      <td>...</td>\n",
       "      <td>140</td>\n",
       "      <td>70.0</td>\n",
       "      <td>-1.0</td>\n",
       "      <td>1</td>\n",
       "      <td>0</td>\n",
       "      <td>1</td>\n",
       "      <td>1.0</td>\n",
       "      <td>27.5</td>\n",
       "      <td>53.9</td>\n",
       "      <td>0</td>\n",
       "    </tr>\n",
       "    <tr>\n",
       "      <th>2</th>\n",
       "      <td>236</td>\n",
       "      <td>C112727</td>\n",
       "      <td>일반검진</td>\n",
       "      <td>승인</td>\n",
       "      <td>2015-06-24</td>\n",
       "      <td>1</td>\n",
       "      <td>65</td>\n",
       "      <td>160</td>\n",
       "      <td>50</td>\n",
       "      <td>89.0</td>\n",
       "      <td>...</td>\n",
       "      <td>130</td>\n",
       "      <td>64.0</td>\n",
       "      <td>-1.0</td>\n",
       "      <td>1</td>\n",
       "      <td>0</td>\n",
       "      <td>0</td>\n",
       "      <td>1.0</td>\n",
       "      <td>19.5</td>\n",
       "      <td>41.2</td>\n",
       "      <td>0</td>\n",
       "    </tr>\n",
       "    <tr>\n",
       "      <th>3</th>\n",
       "      <td>239</td>\n",
       "      <td>C112730</td>\n",
       "      <td>일반검진</td>\n",
       "      <td>승인</td>\n",
       "      <td>2015-09-01</td>\n",
       "      <td>1</td>\n",
       "      <td>65</td>\n",
       "      <td>164</td>\n",
       "      <td>64</td>\n",
       "      <td>97.0</td>\n",
       "      <td>...</td>\n",
       "      <td>125</td>\n",
       "      <td>68.0</td>\n",
       "      <td>-1.0</td>\n",
       "      <td>1</td>\n",
       "      <td>0</td>\n",
       "      <td>0</td>\n",
       "      <td>1.0</td>\n",
       "      <td>23.8</td>\n",
       "      <td>48.8</td>\n",
       "      <td>0</td>\n",
       "    </tr>\n",
       "    <tr>\n",
       "      <th>4</th>\n",
       "      <td>249</td>\n",
       "      <td>C112742</td>\n",
       "      <td>일반검진</td>\n",
       "      <td>승인</td>\n",
       "      <td>2015-09-02</td>\n",
       "      <td>1</td>\n",
       "      <td>65</td>\n",
       "      <td>169</td>\n",
       "      <td>62</td>\n",
       "      <td>89.0</td>\n",
       "      <td>...</td>\n",
       "      <td>120</td>\n",
       "      <td>70.0</td>\n",
       "      <td>-1.0</td>\n",
       "      <td>0</td>\n",
       "      <td>0</td>\n",
       "      <td>0</td>\n",
       "      <td>1.0</td>\n",
       "      <td>21.7</td>\n",
       "      <td>42.6</td>\n",
       "      <td>0</td>\n",
       "    </tr>\n",
       "  </tbody>\n",
       "</table>\n",
       "<p>5 rows × 22 columns</p>\n",
       "</div>"
      ],
      "text/plain": [
       "   Unnamed: 0.1 customer_id review_cat judge review_date  gender  age  height  \\\n",
       "0            38     C112411       일반검진    재검  2015-09-20       1   69     165   \n",
       "1           138     C112570       일반검진    재검  2015-05-27       1   67     165   \n",
       "2           236     C112727       일반검진    승인  2015-06-24       1   65     160   \n",
       "3           239     C112730       일반검진    승인  2015-09-01       1   65     164   \n",
       "4           249     C112742       일반검진    승인  2015-09-02       1   65     169   \n",
       "\n",
       "   weight  bust  ...  bp_max  pulse_count  bt_chol  bp_judge  \\\n",
       "0      70  92.0  ...     120         68.0     -1.0         0   \n",
       "1      75  95.0  ...     140         70.0     -1.0         1   \n",
       "2      50  89.0  ...     130         64.0     -1.0         1   \n",
       "3      64  97.0  ...     125         68.0     -1.0         1   \n",
       "4      62  89.0  ...     120         70.0     -1.0         0   \n",
       "\n",
       "   pulse_count_judge  judge_score  risk   bmi  whtr  new_judge  \n",
       "0                  0            0   1.0  25.7  53.3          0  \n",
       "1                  0            1   1.0  27.5  53.9          0  \n",
       "2                  0            0   1.0  19.5  41.2          0  \n",
       "3                  0            0   1.0  23.8  48.8          0  \n",
       "4                  0            0   1.0  21.7  42.6          0  \n",
       "\n",
       "[5 rows x 22 columns]"
      ]
     },
     "execution_count": 24,
     "metadata": {},
     "output_type": "execute_result"
    }
   ],
   "source": [
    "g_test['new_judge'] = np.where(g_test['judge_score']<5,0,1)\n",
    "g_test.head()"
   ]
  },
  {
   "cell_type": "code",
   "execution_count": 25,
   "metadata": {},
   "outputs": [
    {
     "name": "stderr",
     "output_type": "stream",
     "text": [
      "/home/piai/anaconda3/lib/python3.8/site-packages/matplotlib/backends/backend_agg.py:238: RuntimeWarning: Glyph 49688 missing from current font.\n",
      "  font.set_text(s, 0.0, flags=flags)\n",
      "/home/piai/anaconda3/lib/python3.8/site-packages/matplotlib/backends/backend_agg.py:238: RuntimeWarning: Glyph 51061 missing from current font.\n",
      "  font.set_text(s, 0.0, flags=flags)\n",
      "/home/piai/anaconda3/lib/python3.8/site-packages/matplotlib/backends/backend_agg.py:238: RuntimeWarning: Glyph 50948 missing from current font.\n",
      "  font.set_text(s, 0.0, flags=flags)\n",
      "/home/piai/anaconda3/lib/python3.8/site-packages/matplotlib/backends/backend_agg.py:238: RuntimeWarning: Glyph 54744 missing from current font.\n",
      "  font.set_text(s, 0.0, flags=flags)\n",
      "/home/piai/anaconda3/lib/python3.8/site-packages/matplotlib/backends/backend_agg.py:201: RuntimeWarning: Glyph 49688 missing from current font.\n",
      "  font.set_text(s, 0, flags=flags)\n",
      "/home/piai/anaconda3/lib/python3.8/site-packages/matplotlib/backends/backend_agg.py:201: RuntimeWarning: Glyph 51061 missing from current font.\n",
      "  font.set_text(s, 0, flags=flags)\n",
      "/home/piai/anaconda3/lib/python3.8/site-packages/matplotlib/backends/backend_agg.py:201: RuntimeWarning: Glyph 50948 missing from current font.\n",
      "  font.set_text(s, 0, flags=flags)\n",
      "/home/piai/anaconda3/lib/python3.8/site-packages/matplotlib/backends/backend_agg.py:201: RuntimeWarning: Glyph 54744 missing from current font.\n",
      "  font.set_text(s, 0, flags=flags)\n"
     ]
    },
    {
     "data": {
      "image/png": "[encoded data removed]",
      "text/plain": [
       "<Figure size 432x288 with 1 Axes>"
      ]
     },
     "metadata": {
      "needs_background": "light"
     },
     "output_type": "display_data"
    }
   ],
   "source": [
    "myhist(g_test,'new_judge')"
   ]
  },
  {
   "cell_type": "code",
   "execution_count": 26,
   "metadata": {},
   "outputs": [
    {
     "name": "stdout",
     "output_type": "stream",
     "text": [
      "new_judge    0   1\n",
      "risk              \n",
      "0.0        112   3\n",
      "1.0        860  14\n",
      "\n",
      "new_judge      0      1\n",
      "risk                   \n",
      "0.0        0.115  0.176\n",
      "1.0        0.885  0.824\n"
     ]
    }
   ],
   "source": [
    "mycrosstab(g_test,'new_judge')"
   ]
  },
  {
   "cell_type": "code",
   "execution_count": 27,
   "metadata": {},
   "outputs": [
    {
     "name": "stdout",
     "output_type": "stream",
     "text": [
      "p-value는 0.434\n"
     ]
    }
   ],
   "source": [
    "a = 112 ; b = 3 ; c = 861 ; d = 14\n",
    "\n",
    "count = np.array([a,b])\n",
    "num = np.array([a+c,b+d])\n",
    "\n",
    "stat, p_value = proportions_ztest(count,num)\n",
    "print('p-value는 {:.3f}'.format(p_value.round(3)))"
   ]
  },
  {
   "cell_type": "code",
   "execution_count": 28,
   "metadata": {},
   "outputs": [],
   "source": [
    "g_test = g_test.drop('new_judge',axis=1)"
   ]
  },
  {
   "cell_type": "markdown",
   "metadata": {},
   "source": [
    "### 파생 유의 X"
   ]
  },
  {
   "cell_type": "code",
   "execution_count": 29,
   "metadata": {},
   "outputs": [
    {
     "name": "stderr",
     "output_type": "stream",
     "text": [
      "/home/piai/anaconda3/lib/python3.8/site-packages/matplotlib/backends/backend_agg.py:238: RuntimeWarning: Glyph 49688 missing from current font.\n",
      "  font.set_text(s, 0.0, flags=flags)\n",
      "/home/piai/anaconda3/lib/python3.8/site-packages/matplotlib/backends/backend_agg.py:238: RuntimeWarning: Glyph 51061 missing from current font.\n",
      "  font.set_text(s, 0.0, flags=flags)\n",
      "/home/piai/anaconda3/lib/python3.8/site-packages/matplotlib/backends/backend_agg.py:238: RuntimeWarning: Glyph 50948 missing from current font.\n",
      "  font.set_text(s, 0.0, flags=flags)\n",
      "/home/piai/anaconda3/lib/python3.8/site-packages/matplotlib/backends/backend_agg.py:238: RuntimeWarning: Glyph 54744 missing from current font.\n",
      "  font.set_text(s, 0.0, flags=flags)\n",
      "/home/piai/anaconda3/lib/python3.8/site-packages/matplotlib/backends/backend_agg.py:201: RuntimeWarning: Glyph 49688 missing from current font.\n",
      "  font.set_text(s, 0, flags=flags)\n",
      "/home/piai/anaconda3/lib/python3.8/site-packages/matplotlib/backends/backend_agg.py:201: RuntimeWarning: Glyph 51061 missing from current font.\n",
      "  font.set_text(s, 0, flags=flags)\n",
      "/home/piai/anaconda3/lib/python3.8/site-packages/matplotlib/backends/backend_agg.py:201: RuntimeWarning: Glyph 50948 missing from current font.\n",
      "  font.set_text(s, 0, flags=flags)\n",
      "/home/piai/anaconda3/lib/python3.8/site-packages/matplotlib/backends/backend_agg.py:201: RuntimeWarning: Glyph 54744 missing from current font.\n",
      "  font.set_text(s, 0, flags=flags)\n"
     ]
    },
    {
     "data": {
      "image/png": "[encoded data removed]",
      "text/plain": [
       "<Figure size 432x288 with 1 Axes>"
      ]
     },
     "metadata": {
      "needs_background": "light"
     },
     "output_type": "display_data"
    }
   ],
   "source": [
    "myhist(g_test,'age')"
   ]
  },
  {
   "cell_type": "code",
   "execution_count": 30,
   "metadata": {},
   "outputs": [
    {
     "name": "stdout",
     "output_type": "stream",
     "text": [
      "LeveneResult(statistic=9.232437395056856, pvalue=0.002440233296454718) [0.00408925]\n"
     ]
    }
   ],
   "source": [
    "my_t(g_test,'age') # 유의"
   ]
  },
  {
   "cell_type": "code",
   "execution_count": 31,
   "metadata": {},
   "outputs": [
    {
     "name": "stderr",
     "output_type": "stream",
     "text": [
      "/home/piai/anaconda3/lib/python3.8/site-packages/matplotlib/backends/backend_agg.py:238: RuntimeWarning: Glyph 49688 missing from current font.\n",
      "  font.set_text(s, 0.0, flags=flags)\n",
      "/home/piai/anaconda3/lib/python3.8/site-packages/matplotlib/backends/backend_agg.py:238: RuntimeWarning: Glyph 51061 missing from current font.\n",
      "  font.set_text(s, 0.0, flags=flags)\n",
      "/home/piai/anaconda3/lib/python3.8/site-packages/matplotlib/backends/backend_agg.py:238: RuntimeWarning: Glyph 50948 missing from current font.\n",
      "  font.set_text(s, 0.0, flags=flags)\n",
      "/home/piai/anaconda3/lib/python3.8/site-packages/matplotlib/backends/backend_agg.py:238: RuntimeWarning: Glyph 54744 missing from current font.\n",
      "  font.set_text(s, 0.0, flags=flags)\n",
      "/home/piai/anaconda3/lib/python3.8/site-packages/matplotlib/backends/backend_agg.py:201: RuntimeWarning: Glyph 49688 missing from current font.\n",
      "  font.set_text(s, 0, flags=flags)\n",
      "/home/piai/anaconda3/lib/python3.8/site-packages/matplotlib/backends/backend_agg.py:201: RuntimeWarning: Glyph 51061 missing from current font.\n",
      "  font.set_text(s, 0, flags=flags)\n",
      "/home/piai/anaconda3/lib/python3.8/site-packages/matplotlib/backends/backend_agg.py:201: RuntimeWarning: Glyph 50948 missing from current font.\n",
      "  font.set_text(s, 0, flags=flags)\n",
      "/home/piai/anaconda3/lib/python3.8/site-packages/matplotlib/backends/backend_agg.py:201: RuntimeWarning: Glyph 54744 missing from current font.\n",
      "  font.set_text(s, 0, flags=flags)\n"
     ]
    },
    {
     "data": {
      "image/png": "[encoded data removed]",
      "text/plain": [
       "<Figure size 432x288 with 1 Axes>"
      ]
     },
     "metadata": {
      "needs_background": "light"
     },
     "output_type": "display_data"
    }
   ],
   "source": [
    "myhist(g_test,'height')"
   ]
  },
  {
   "cell_type": "code",
   "execution_count": 32,
   "metadata": {},
   "outputs": [
    {
     "name": "stdout",
     "output_type": "stream",
     "text": [
      "LeveneResult(statistic=0.8483535536144244, pvalue=0.3572435957677379) [0.37410711]\n"
     ]
    }
   ],
   "source": [
    "my_t(g_test,'height')"
   ]
  },
  {
   "cell_type": "code",
   "execution_count": 33,
   "metadata": {},
   "outputs": [
    {
     "name": "stderr",
     "output_type": "stream",
     "text": [
      "/home/piai/anaconda3/lib/python3.8/site-packages/matplotlib/backends/backend_agg.py:238: RuntimeWarning: Glyph 49688 missing from current font.\n",
      "  font.set_text(s, 0.0, flags=flags)\n",
      "/home/piai/anaconda3/lib/python3.8/site-packages/matplotlib/backends/backend_agg.py:238: RuntimeWarning: Glyph 51061 missing from current font.\n",
      "  font.set_text(s, 0.0, flags=flags)\n",
      "/home/piai/anaconda3/lib/python3.8/site-packages/matplotlib/backends/backend_agg.py:238: RuntimeWarning: Glyph 50948 missing from current font.\n",
      "  font.set_text(s, 0.0, flags=flags)\n",
      "/home/piai/anaconda3/lib/python3.8/site-packages/matplotlib/backends/backend_agg.py:238: RuntimeWarning: Glyph 54744 missing from current font.\n",
      "  font.set_text(s, 0.0, flags=flags)\n",
      "/home/piai/anaconda3/lib/python3.8/site-packages/matplotlib/backends/backend_agg.py:201: RuntimeWarning: Glyph 49688 missing from current font.\n",
      "  font.set_text(s, 0, flags=flags)\n",
      "/home/piai/anaconda3/lib/python3.8/site-packages/matplotlib/backends/backend_agg.py:201: RuntimeWarning: Glyph 51061 missing from current font.\n",
      "  font.set_text(s, 0, flags=flags)\n",
      "/home/piai/anaconda3/lib/python3.8/site-packages/matplotlib/backends/backend_agg.py:201: RuntimeWarning: Glyph 50948 missing from current font.\n",
      "  font.set_text(s, 0, flags=flags)\n",
      "/home/piai/anaconda3/lib/python3.8/site-packages/matplotlib/backends/backend_agg.py:201: RuntimeWarning: Glyph 54744 missing from current font.\n",
      "  font.set_text(s, 0, flags=flags)\n"
     ]
    },
    {
     "data": {
      "image/png": "[encoded data removed]",
      "text/plain": [
       "<Figure size 432x288 with 1 Axes>"
      ]
     },
     "metadata": {
      "needs_background": "light"
     },
     "output_type": "display_data"
    }
   ],
   "source": [
    "myhist(g_test,'bp_max')"
   ]
  },
  {
   "cell_type": "code",
   "execution_count": 34,
   "metadata": {},
   "outputs": [
    {
     "name": "stdout",
     "output_type": "stream",
     "text": [
      "LeveneResult(statistic=0.006666556252196878, pvalue=0.9349424030869621) [0.99385629]\n"
     ]
    }
   ],
   "source": [
    "my_t(g_test,'bp_max')"
   ]
  },
  {
   "cell_type": "code",
   "execution_count": 35,
   "metadata": {},
   "outputs": [
    {
     "name": "stderr",
     "output_type": "stream",
     "text": [
      "/home/piai/anaconda3/lib/python3.8/site-packages/matplotlib/backends/backend_agg.py:238: RuntimeWarning: Glyph 49688 missing from current font.\n",
      "  font.set_text(s, 0.0, flags=flags)\n",
      "/home/piai/anaconda3/lib/python3.8/site-packages/matplotlib/backends/backend_agg.py:238: RuntimeWarning: Glyph 51061 missing from current font.\n",
      "  font.set_text(s, 0.0, flags=flags)\n",
      "/home/piai/anaconda3/lib/python3.8/site-packages/matplotlib/backends/backend_agg.py:238: RuntimeWarning: Glyph 50948 missing from current font.\n",
      "  font.set_text(s, 0.0, flags=flags)\n",
      "/home/piai/anaconda3/lib/python3.8/site-packages/matplotlib/backends/backend_agg.py:238: RuntimeWarning: Glyph 54744 missing from current font.\n",
      "  font.set_text(s, 0.0, flags=flags)\n",
      "/home/piai/anaconda3/lib/python3.8/site-packages/matplotlib/backends/backend_agg.py:201: RuntimeWarning: Glyph 49688 missing from current font.\n",
      "  font.set_text(s, 0, flags=flags)\n",
      "/home/piai/anaconda3/lib/python3.8/site-packages/matplotlib/backends/backend_agg.py:201: RuntimeWarning: Glyph 51061 missing from current font.\n",
      "  font.set_text(s, 0, flags=flags)\n",
      "/home/piai/anaconda3/lib/python3.8/site-packages/matplotlib/backends/backend_agg.py:201: RuntimeWarning: Glyph 50948 missing from current font.\n",
      "  font.set_text(s, 0, flags=flags)\n",
      "/home/piai/anaconda3/lib/python3.8/site-packages/matplotlib/backends/backend_agg.py:201: RuntimeWarning: Glyph 54744 missing from current font.\n",
      "  font.set_text(s, 0, flags=flags)\n"
     ]
    },
    {
     "data": {
      "image/png": "[encoded data removed]",
      "text/plain": [
       "<Figure size 432x288 with 1 Axes>"
      ]
     },
     "metadata": {
      "needs_background": "light"
     },
     "output_type": "display_data"
    }
   ],
   "source": [
    "myhist(g_test,'bp_min')"
   ]
  },
  {
   "cell_type": "code",
   "execution_count": 36,
   "metadata": {},
   "outputs": [
    {
     "name": "stdout",
     "output_type": "stream",
     "text": [
      "LeveneResult(statistic=0.14788752223069207, pvalue=0.7006451894862586) [0.39327192]\n"
     ]
    }
   ],
   "source": [
    "my_t(g_test,'bp_min')"
   ]
  },
  {
   "cell_type": "code",
   "execution_count": 37,
   "metadata": {},
   "outputs": [
    {
     "name": "stderr",
     "output_type": "stream",
     "text": [
      "/home/piai/anaconda3/lib/python3.8/site-packages/matplotlib/backends/backend_agg.py:238: RuntimeWarning: Glyph 49688 missing from current font.\n",
      "  font.set_text(s, 0.0, flags=flags)\n",
      "/home/piai/anaconda3/lib/python3.8/site-packages/matplotlib/backends/backend_agg.py:238: RuntimeWarning: Glyph 51061 missing from current font.\n",
      "  font.set_text(s, 0.0, flags=flags)\n",
      "/home/piai/anaconda3/lib/python3.8/site-packages/matplotlib/backends/backend_agg.py:238: RuntimeWarning: Glyph 50948 missing from current font.\n",
      "  font.set_text(s, 0.0, flags=flags)\n",
      "/home/piai/anaconda3/lib/python3.8/site-packages/matplotlib/backends/backend_agg.py:238: RuntimeWarning: Glyph 54744 missing from current font.\n",
      "  font.set_text(s, 0.0, flags=flags)\n",
      "/home/piai/anaconda3/lib/python3.8/site-packages/matplotlib/backends/backend_agg.py:201: RuntimeWarning: Glyph 49688 missing from current font.\n",
      "  font.set_text(s, 0, flags=flags)\n",
      "/home/piai/anaconda3/lib/python3.8/site-packages/matplotlib/backends/backend_agg.py:201: RuntimeWarning: Glyph 51061 missing from current font.\n",
      "  font.set_text(s, 0, flags=flags)\n",
      "/home/piai/anaconda3/lib/python3.8/site-packages/matplotlib/backends/backend_agg.py:201: RuntimeWarning: Glyph 50948 missing from current font.\n",
      "  font.set_text(s, 0, flags=flags)\n",
      "/home/piai/anaconda3/lib/python3.8/site-packages/matplotlib/backends/backend_agg.py:201: RuntimeWarning: Glyph 54744 missing from current font.\n",
      "  font.set_text(s, 0, flags=flags)\n"
     ]
    },
    {
     "data": {
      "image/png": "[encoded data removed]",
      "text/plain": [
       "<Figure size 432x288 with 1 Axes>"
      ]
     },
     "metadata": {
      "needs_background": "light"
     },
     "output_type": "display_data"
    }
   ],
   "source": [
    "myhist(g_test,'waist')"
   ]
  },
  {
   "cell_type": "code",
   "execution_count": 38,
   "metadata": {},
   "outputs": [
    {
     "name": "stdout",
     "output_type": "stream",
     "text": [
      "LeveneResult(statistic=0.023155729179023157, pvalue=0.8790839015934621) [0.33767176]\n"
     ]
    }
   ],
   "source": [
    "my_t(g_test,'waist')"
   ]
  },
  {
   "cell_type": "code",
   "execution_count": 39,
   "metadata": {},
   "outputs": [
    {
     "name": "stderr",
     "output_type": "stream",
     "text": [
      "/home/piai/anaconda3/lib/python3.8/site-packages/matplotlib/backends/backend_agg.py:238: RuntimeWarning: Glyph 49688 missing from current font.\n",
      "  font.set_text(s, 0.0, flags=flags)\n",
      "/home/piai/anaconda3/lib/python3.8/site-packages/matplotlib/backends/backend_agg.py:238: RuntimeWarning: Glyph 51061 missing from current font.\n",
      "  font.set_text(s, 0.0, flags=flags)\n",
      "/home/piai/anaconda3/lib/python3.8/site-packages/matplotlib/backends/backend_agg.py:238: RuntimeWarning: Glyph 50948 missing from current font.\n",
      "  font.set_text(s, 0.0, flags=flags)\n",
      "/home/piai/anaconda3/lib/python3.8/site-packages/matplotlib/backends/backend_agg.py:238: RuntimeWarning: Glyph 54744 missing from current font.\n",
      "  font.set_text(s, 0.0, flags=flags)\n",
      "/home/piai/anaconda3/lib/python3.8/site-packages/matplotlib/backends/backend_agg.py:201: RuntimeWarning: Glyph 49688 missing from current font.\n",
      "  font.set_text(s, 0, flags=flags)\n",
      "/home/piai/anaconda3/lib/python3.8/site-packages/matplotlib/backends/backend_agg.py:201: RuntimeWarning: Glyph 51061 missing from current font.\n",
      "  font.set_text(s, 0, flags=flags)\n",
      "/home/piai/anaconda3/lib/python3.8/site-packages/matplotlib/backends/backend_agg.py:201: RuntimeWarning: Glyph 50948 missing from current font.\n",
      "  font.set_text(s, 0, flags=flags)\n",
      "/home/piai/anaconda3/lib/python3.8/site-packages/matplotlib/backends/backend_agg.py:201: RuntimeWarning: Glyph 54744 missing from current font.\n",
      "  font.set_text(s, 0, flags=flags)\n"
     ]
    },
    {
     "data": {
      "image/png": "[encoded data removed]",
      "text/plain": [
       "<Figure size 432x288 with 1 Axes>"
      ]
     },
     "metadata": {
      "needs_background": "light"
     },
     "output_type": "display_data"
    }
   ],
   "source": [
    "myhist(g_test,'bust')"
   ]
  },
  {
   "cell_type": "code",
   "execution_count": 40,
   "metadata": {},
   "outputs": [
    {
     "name": "stdout",
     "output_type": "stream",
     "text": [
      "LeveneResult(statistic=1.403092442796517, pvalue=0.23649163513898333) [0.2690445]\n"
     ]
    }
   ],
   "source": [
    "my_t(g_test,'bust')"
   ]
  },
  {
   "cell_type": "code",
   "execution_count": 41,
   "metadata": {},
   "outputs": [
    {
     "name": "stderr",
     "output_type": "stream",
     "text": [
      "/home/piai/anaconda3/lib/python3.8/site-packages/matplotlib/backends/backend_agg.py:238: RuntimeWarning: Glyph 49688 missing from current font.\n",
      "  font.set_text(s, 0.0, flags=flags)\n",
      "/home/piai/anaconda3/lib/python3.8/site-packages/matplotlib/backends/backend_agg.py:238: RuntimeWarning: Glyph 51061 missing from current font.\n",
      "  font.set_text(s, 0.0, flags=flags)\n",
      "/home/piai/anaconda3/lib/python3.8/site-packages/matplotlib/backends/backend_agg.py:238: RuntimeWarning: Glyph 50948 missing from current font.\n",
      "  font.set_text(s, 0.0, flags=flags)\n",
      "/home/piai/anaconda3/lib/python3.8/site-packages/matplotlib/backends/backend_agg.py:238: RuntimeWarning: Glyph 54744 missing from current font.\n",
      "  font.set_text(s, 0.0, flags=flags)\n",
      "/home/piai/anaconda3/lib/python3.8/site-packages/matplotlib/backends/backend_agg.py:201: RuntimeWarning: Glyph 49688 missing from current font.\n",
      "  font.set_text(s, 0, flags=flags)\n",
      "/home/piai/anaconda3/lib/python3.8/site-packages/matplotlib/backends/backend_agg.py:201: RuntimeWarning: Glyph 51061 missing from current font.\n",
      "  font.set_text(s, 0, flags=flags)\n",
      "/home/piai/anaconda3/lib/python3.8/site-packages/matplotlib/backends/backend_agg.py:201: RuntimeWarning: Glyph 50948 missing from current font.\n",
      "  font.set_text(s, 0, flags=flags)\n",
      "/home/piai/anaconda3/lib/python3.8/site-packages/matplotlib/backends/backend_agg.py:201: RuntimeWarning: Glyph 54744 missing from current font.\n",
      "  font.set_text(s, 0, flags=flags)\n"
     ]
    },
    {
     "data": {
      "image/png": "[encoded data removed]",
      "text/plain": [
       "<Figure size 432x288 with 1 Axes>"
      ]
     },
     "metadata": {
      "needs_background": "light"
     },
     "output_type": "display_data"
    }
   ],
   "source": [
    "myhist(g_test,'bmi')"
   ]
  },
  {
   "cell_type": "code",
   "execution_count": 42,
   "metadata": {},
   "outputs": [
    {
     "name": "stdout",
     "output_type": "stream",
     "text": [
      "LeveneResult(statistic=0.060714113593481944, pvalue=0.8054220290755479) [0.21815035]\n"
     ]
    }
   ],
   "source": [
    "my_t(g_test,'bmi')"
   ]
  },
  {
   "cell_type": "code",
   "execution_count": 43,
   "metadata": {},
   "outputs": [
    {
     "name": "stderr",
     "output_type": "stream",
     "text": [
      "/home/piai/anaconda3/lib/python3.8/site-packages/matplotlib/backends/backend_agg.py:238: RuntimeWarning: Glyph 49688 missing from current font.\n",
      "  font.set_text(s, 0.0, flags=flags)\n",
      "/home/piai/anaconda3/lib/python3.8/site-packages/matplotlib/backends/backend_agg.py:238: RuntimeWarning: Glyph 51061 missing from current font.\n",
      "  font.set_text(s, 0.0, flags=flags)\n",
      "/home/piai/anaconda3/lib/python3.8/site-packages/matplotlib/backends/backend_agg.py:238: RuntimeWarning: Glyph 50948 missing from current font.\n",
      "  font.set_text(s, 0.0, flags=flags)\n",
      "/home/piai/anaconda3/lib/python3.8/site-packages/matplotlib/backends/backend_agg.py:238: RuntimeWarning: Glyph 54744 missing from current font.\n",
      "  font.set_text(s, 0.0, flags=flags)\n",
      "/home/piai/anaconda3/lib/python3.8/site-packages/matplotlib/backends/backend_agg.py:201: RuntimeWarning: Glyph 49688 missing from current font.\n",
      "  font.set_text(s, 0, flags=flags)\n",
      "/home/piai/anaconda3/lib/python3.8/site-packages/matplotlib/backends/backend_agg.py:201: RuntimeWarning: Glyph 51061 missing from current font.\n",
      "  font.set_text(s, 0, flags=flags)\n",
      "/home/piai/anaconda3/lib/python3.8/site-packages/matplotlib/backends/backend_agg.py:201: RuntimeWarning: Glyph 50948 missing from current font.\n",
      "  font.set_text(s, 0, flags=flags)\n",
      "/home/piai/anaconda3/lib/python3.8/site-packages/matplotlib/backends/backend_agg.py:201: RuntimeWarning: Glyph 54744 missing from current font.\n",
      "  font.set_text(s, 0, flags=flags)\n"
     ]
    },
    {
     "data": {
      "image/png": "[encoded data removed]",
      "text/plain": [
       "<Figure size 432x288 with 1 Axes>"
      ]
     },
     "metadata": {
      "needs_background": "light"
     },
     "output_type": "display_data"
    }
   ],
   "source": [
    "myhist(g_test,'pulse_count')"
   ]
  },
  {
   "cell_type": "code",
   "execution_count": 44,
   "metadata": {},
   "outputs": [
    {
     "name": "stdout",
     "output_type": "stream",
     "text": [
      "LeveneResult(statistic=0.8542105859247359, pvalue=0.35558980328665146) [0.28940101]\n"
     ]
    }
   ],
   "source": [
    "my_t(g_test,'pulse_count')"
   ]
  },
  {
   "cell_type": "code",
   "execution_count": 45,
   "metadata": {},
   "outputs": [
    {
     "name": "stderr",
     "output_type": "stream",
     "text": [
      "/home/piai/anaconda3/lib/python3.8/site-packages/matplotlib/backends/backend_agg.py:238: RuntimeWarning: Glyph 49688 missing from current font.\n",
      "  font.set_text(s, 0.0, flags=flags)\n",
      "/home/piai/anaconda3/lib/python3.8/site-packages/matplotlib/backends/backend_agg.py:238: RuntimeWarning: Glyph 51061 missing from current font.\n",
      "  font.set_text(s, 0.0, flags=flags)\n",
      "/home/piai/anaconda3/lib/python3.8/site-packages/matplotlib/backends/backend_agg.py:238: RuntimeWarning: Glyph 50948 missing from current font.\n",
      "  font.set_text(s, 0.0, flags=flags)\n",
      "/home/piai/anaconda3/lib/python3.8/site-packages/matplotlib/backends/backend_agg.py:238: RuntimeWarning: Glyph 54744 missing from current font.\n",
      "  font.set_text(s, 0.0, flags=flags)\n",
      "/home/piai/anaconda3/lib/python3.8/site-packages/matplotlib/backends/backend_agg.py:201: RuntimeWarning: Glyph 49688 missing from current font.\n",
      "  font.set_text(s, 0, flags=flags)\n",
      "/home/piai/anaconda3/lib/python3.8/site-packages/matplotlib/backends/backend_agg.py:201: RuntimeWarning: Glyph 51061 missing from current font.\n",
      "  font.set_text(s, 0, flags=flags)\n",
      "/home/piai/anaconda3/lib/python3.8/site-packages/matplotlib/backends/backend_agg.py:201: RuntimeWarning: Glyph 50948 missing from current font.\n",
      "  font.set_text(s, 0, flags=flags)\n",
      "/home/piai/anaconda3/lib/python3.8/site-packages/matplotlib/backends/backend_agg.py:201: RuntimeWarning: Glyph 54744 missing from current font.\n",
      "  font.set_text(s, 0, flags=flags)\n"
     ]
    },
    {
     "data": {
      "image/png": "[encoded data removed]",
      "text/plain": [
       "<Figure size 432x288 with 1 Axes>"
      ]
     },
     "metadata": {
      "needs_background": "light"
     },
     "output_type": "display_data"
    }
   ],
   "source": [
    "myhist(g_test,'whtr')"
   ]
  },
  {
   "cell_type": "code",
   "execution_count": 46,
   "metadata": {},
   "outputs": [
    {
     "name": "stdout",
     "output_type": "stream",
     "text": [
      "LeveneResult(statistic=0.012377343729400872, pvalue=0.9114379383757829) [0.1278448]\n"
     ]
    }
   ],
   "source": [
    "my_t(g_test,'whtr')"
   ]
  },
  {
   "cell_type": "markdown",
   "metadata": {},
   "source": [
    "### 로지스틱 탐색"
   ]
  },
  {
   "cell_type": "code",
   "execution_count": 47,
   "metadata": {},
   "outputs": [
    {
     "data": {
      "text/plain": [
       "Index(['Unnamed: 0.1', 'customer_id', 'review_cat', 'judge', 'review_date',\n",
       "       'gender', 'age', 'height', 'weight', 'bust', 'waist', 'bp_min',\n",
       "       'bp_max', 'pulse_count', 'bt_chol', 'bp_judge', 'pulse_count_judge',\n",
       "       'judge_score', 'risk', 'bmi', 'whtr'],\n",
       "      dtype='object')"
      ]
     },
     "execution_count": 47,
     "metadata": {},
     "output_type": "execute_result"
    }
   ],
   "source": [
    "g_test.columns"
   ]
  },
  {
   "cell_type": "code",
   "execution_count": 48,
   "metadata": {},
   "outputs": [
    {
     "name": "stdout",
     "output_type": "stream",
     "text": [
      "Warning: Maximum number of iterations has been exceeded.\n",
      "         Current function value: 0.337747\n",
      "         Iterations: 35\n",
      "                           Logit Regression Results                           \n",
      "==============================================================================\n",
      "Dep. Variable:                   risk   No. Observations:                  989\n",
      "Model:                          Logit   Df Residuals:                      970\n",
      "Method:                           MLE   Df Model:                           18\n",
      "Date:                Tue, 16 Mar 2021   Pseudo R-squ.:                 0.06037\n",
      "Time:                        09:14:01   Log-Likelihood:                -334.03\n",
      "converged:                      False   LL-Null:                       -355.49\n",
      "Covariance Type:            nonrobust   LLR p-value:                 0.0008214\n",
      "=============================================================================================\n",
      "                                coef    std err          z      P>|z|      [0.025      0.975]\n",
      "---------------------------------------------------------------------------------------------\n",
      "Intercept                    12.9720     20.254      0.640      0.522     -26.725      52.669\n",
      "C(gender)[T.2]               -1.4944      0.364     -4.104      0.000      -2.208      -0.781\n",
      "C(pulse_count_judge)[T.1]    16.7768   1.07e+04      0.002      0.999    -2.1e+04     2.1e+04\n",
      "C(judge_score)[T.1]          -0.0295      0.261     -0.113      0.910      -0.542       0.483\n",
      "C(judge_score)[T.2]           0.7798      0.538      1.449      0.147      -0.275       1.835\n",
      "C(judge_score)[T.3]          -0.8897      0.502     -1.772      0.076      -1.874       0.094\n",
      "C(judge_score)[T.4]           0.5406      0.769      0.703      0.482      -0.967       2.049\n",
      "C(judge_score)[T.5]          -0.7660      0.690     -1.110      0.267      -2.118       0.586\n",
      "C(judge_score)[T.6]          13.9884   2015.070      0.007      0.994   -3935.476    3963.453\n",
      "C(bp_judge)[T.1]              0.5475      0.396      1.383      0.167      -0.228       1.323\n",
      "age                          -0.0388      0.012     -3.150      0.002      -0.063      -0.015\n",
      "height                       -0.0377      0.123     -0.306      0.760      -0.279       0.204\n",
      "bust                         -0.0113      0.028     -0.403      0.687      -0.066       0.044\n",
      "bmi                           0.0848      0.423      0.200      0.841      -0.745       0.914\n",
      "whtr                         -0.0213      0.045     -0.477      0.634      -0.109       0.066\n",
      "bp_min                        0.0554      0.031      1.775      0.076      -0.006       0.117\n",
      "bp_max                       -0.0442      0.027     -1.630      0.103      -0.097       0.009\n",
      "pulse_count                   0.0184      0.022      0.819      0.413      -0.026       0.062\n",
      "weight                       -0.0365      0.156     -0.234      0.815      -0.342       0.269\n",
      "=============================================================================================\n"
     ]
    },
    {
     "name": "stderr",
     "output_type": "stream",
     "text": [
      "/home/piai/anaconda3/lib/python3.8/site-packages/statsmodels/base/model.py:566: ConvergenceWarning: Maximum Likelihood optimization failed to converge. Check mle_retvals\n",
      "  warnings.warn(\"Maximum Likelihood optimization failed to \"\n"
     ]
    }
   ],
   "source": [
    "log_model = Logit.from_formula(''' risk ~ C(gender) + age + height + bust\n",
    "+bmi+whtr+bp_min+bp_max+pulse_count + C(pulse_count_judge) +C(judge_score)+weight+\n",
    "C(bp_judge)''',data = g_test)\n",
    "\n",
    "#waist 버림\n",
    "log_result = log_model.fit()\n",
    "print(log_result.summary())\n",
    "\n",
    "# 판정은 0 아니면 1 따라서, 스케일은 진행하지 X"
   ]
  },
  {
   "cell_type": "code",
   "execution_count": 49,
   "metadata": {},
   "outputs": [
    {
     "data": {
      "text/html": [
       "<div>\n",
       "<style scoped>\n",
       "    .dataframe tbody tr th:only-of-type {\n",
       "        vertical-align: middle;\n",
       "    }\n",
       "\n",
       "    .dataframe tbody tr th {\n",
       "        vertical-align: top;\n",
       "    }\n",
       "\n",
       "    .dataframe thead th {\n",
       "        text-align: right;\n",
       "    }\n",
       "</style>\n",
       "<table border=\"1\" class=\"dataframe\">\n",
       "  <thead>\n",
       "    <tr style=\"text-align: right;\">\n",
       "      <th></th>\n",
       "      <th>variable</th>\n",
       "      <th>VIF</th>\n",
       "    </tr>\n",
       "  </thead>\n",
       "  <tbody>\n",
       "    <tr>\n",
       "      <th>13</th>\n",
       "      <td>judge_score</td>\n",
       "      <td>1.020</td>\n",
       "    </tr>\n",
       "    <tr>\n",
       "      <th>12</th>\n",
       "      <td>pulse_count_judge</td>\n",
       "      <td>1.040</td>\n",
       "    </tr>\n",
       "    <tr>\n",
       "      <th>9</th>\n",
       "      <td>pulse_count</td>\n",
       "      <td>1.050</td>\n",
       "    </tr>\n",
       "    <tr>\n",
       "      <th>11</th>\n",
       "      <td>bp_judge</td>\n",
       "      <td>1.929</td>\n",
       "    </tr>\n",
       "    <tr>\n",
       "      <th>2</th>\n",
       "      <td>age</td>\n",
       "      <td>2.321</td>\n",
       "    </tr>\n",
       "    <tr>\n",
       "      <th>7</th>\n",
       "      <td>bp_min</td>\n",
       "      <td>3.382</td>\n",
       "    </tr>\n",
       "    <tr>\n",
       "      <th>5</th>\n",
       "      <td>bust</td>\n",
       "      <td>3.809</td>\n",
       "    </tr>\n",
       "    <tr>\n",
       "      <th>8</th>\n",
       "      <td>bp_max</td>\n",
       "      <td>4.754</td>\n",
       "    </tr>\n",
       "    <tr>\n",
       "      <th>0</th>\n",
       "      <td>Unnamed: 0.1</td>\n",
       "      <td>8.187</td>\n",
       "    </tr>\n",
       "    <tr>\n",
       "      <th>1</th>\n",
       "      <td>gender</td>\n",
       "      <td>8.799</td>\n",
       "    </tr>\n",
       "    <tr>\n",
       "      <th>3</th>\n",
       "      <td>height</td>\n",
       "      <td>146.780</td>\n",
       "    </tr>\n",
       "    <tr>\n",
       "      <th>14</th>\n",
       "      <td>bmi</td>\n",
       "      <td>151.412</td>\n",
       "    </tr>\n",
       "    <tr>\n",
       "      <th>4</th>\n",
       "      <td>weight</td>\n",
       "      <td>314.786</td>\n",
       "    </tr>\n",
       "    <tr>\n",
       "      <th>15</th>\n",
       "      <td>whtr</td>\n",
       "      <td>752.642</td>\n",
       "    </tr>\n",
       "    <tr>\n",
       "      <th>6</th>\n",
       "      <td>waist</td>\n",
       "      <td>956.737</td>\n",
       "    </tr>\n",
       "    <tr>\n",
       "      <th>10</th>\n",
       "      <td>bt_chol</td>\n",
       "      <td>67917.157</td>\n",
       "    </tr>\n",
       "  </tbody>\n",
       "</table>\n",
       "</div>"
      ],
      "text/plain": [
       "             variable        VIF\n",
       "13        judge_score      1.020\n",
       "12  pulse_count_judge      1.040\n",
       "9         pulse_count      1.050\n",
       "11           bp_judge      1.929\n",
       "2                 age      2.321\n",
       "7              bp_min      3.382\n",
       "5                bust      3.809\n",
       "8              bp_max      4.754\n",
       "0        Unnamed: 0.1      8.187\n",
       "1              gender      8.799\n",
       "3              height    146.780\n",
       "14                bmi    151.412\n",
       "4              weight    314.786\n",
       "15               whtr    752.642\n",
       "6               waist    956.737\n",
       "10            bt_chol  67917.157"
      ]
     },
     "execution_count": 49,
     "metadata": {},
     "output_type": "execute_result"
    }
   ],
   "source": [
    "df_x = g_test.drop(['risk','customer_id','review_cat','judge','review_date'],axis = 1)\n",
    "df_x # 종속 변수 빼고 새롭게 데이터 프레임 생성\n",
    "df_x_const = add_constant(df_x) # const열 생성\n",
    "\n",
    "df_vif = pd.DataFrame()\n",
    "df_vif['variable'] = df_x_const.columns\n",
    "df_vif['VIF'] = [variance_inflation_factor(df_x_const.values,i) for i in range(df_x_const.shape[1])]\n",
    "df_vif.sort_values('VIF',inplace=True)\n",
    "df_vif.round(3) # 다중공선성 존재 X -> 회귀식 자체로 판단"
   ]
  },
  {
   "cell_type": "code",
   "execution_count": 50,
   "metadata": {},
   "outputs": [
    {
     "data": {
      "text/html": [
       "<div>\n",
       "<style scoped>\n",
       "    .dataframe tbody tr th:only-of-type {\n",
       "        vertical-align: middle;\n",
       "    }\n",
       "\n",
       "    .dataframe tbody tr th {\n",
       "        vertical-align: top;\n",
       "    }\n",
       "\n",
       "    .dataframe thead th {\n",
       "        text-align: right;\n",
       "    }\n",
       "</style>\n",
       "<table border=\"1\" class=\"dataframe\">\n",
       "  <thead>\n",
       "    <tr style=\"text-align: right;\">\n",
       "      <th></th>\n",
       "      <th>variable</th>\n",
       "      <th>VIF</th>\n",
       "    </tr>\n",
       "  </thead>\n",
       "  <tbody>\n",
       "    <tr>\n",
       "      <th>11</th>\n",
       "      <td>judge_score</td>\n",
       "      <td>1.014</td>\n",
       "    </tr>\n",
       "    <tr>\n",
       "      <th>10</th>\n",
       "      <td>pulse_count_judge</td>\n",
       "      <td>1.032</td>\n",
       "    </tr>\n",
       "    <tr>\n",
       "      <th>7</th>\n",
       "      <td>pulse_count</td>\n",
       "      <td>1.050</td>\n",
       "    </tr>\n",
       "    <tr>\n",
       "      <th>9</th>\n",
       "      <td>bp_judge</td>\n",
       "      <td>1.924</td>\n",
       "    </tr>\n",
       "    <tr>\n",
       "      <th>2</th>\n",
       "      <td>age</td>\n",
       "      <td>2.304</td>\n",
       "    </tr>\n",
       "    <tr>\n",
       "      <th>12</th>\n",
       "      <td>bmi</td>\n",
       "      <td>2.995</td>\n",
       "    </tr>\n",
       "    <tr>\n",
       "      <th>5</th>\n",
       "      <td>bp_min</td>\n",
       "      <td>3.381</td>\n",
       "    </tr>\n",
       "    <tr>\n",
       "      <th>3</th>\n",
       "      <td>height</td>\n",
       "      <td>3.458</td>\n",
       "    </tr>\n",
       "    <tr>\n",
       "      <th>13</th>\n",
       "      <td>whtr</td>\n",
       "      <td>3.513</td>\n",
       "    </tr>\n",
       "    <tr>\n",
       "      <th>4</th>\n",
       "      <td>bust</td>\n",
       "      <td>3.800</td>\n",
       "    </tr>\n",
       "    <tr>\n",
       "      <th>6</th>\n",
       "      <td>bp_max</td>\n",
       "      <td>4.752</td>\n",
       "    </tr>\n",
       "    <tr>\n",
       "      <th>0</th>\n",
       "      <td>Unnamed: 0.1</td>\n",
       "      <td>8.161</td>\n",
       "    </tr>\n",
       "    <tr>\n",
       "      <th>1</th>\n",
       "      <td>gender</td>\n",
       "      <td>8.772</td>\n",
       "    </tr>\n",
       "    <tr>\n",
       "      <th>8</th>\n",
       "      <td>bt_chol</td>\n",
       "      <td>2369.802</td>\n",
       "    </tr>\n",
       "  </tbody>\n",
       "</table>\n",
       "</div>"
      ],
      "text/plain": [
       "             variable       VIF\n",
       "11        judge_score     1.014\n",
       "10  pulse_count_judge     1.032\n",
       "7         pulse_count     1.050\n",
       "9            bp_judge     1.924\n",
       "2                 age     2.304\n",
       "12                bmi     2.995\n",
       "5              bp_min     3.381\n",
       "3              height     3.458\n",
       "13               whtr     3.513\n",
       "4                bust     3.800\n",
       "6              bp_max     4.752\n",
       "0        Unnamed: 0.1     8.161\n",
       "1              gender     8.772\n",
       "8             bt_chol  2369.802"
      ]
     },
     "execution_count": 50,
     "metadata": {},
     "output_type": "execute_result"
    }
   ],
   "source": [
    "df_x = g_test.drop(['risk','customer_id','review_cat','judge','review_date'\n",
    "                   ,'waist','weight'],axis = 1)\n",
    "df_x # 종속 변수 빼고 새롭게 데이터 프레임 생성\n",
    "df_x_const = add_constant(df_x) # const열 생성\n",
    "\n",
    "df_vif = pd.DataFrame()\n",
    "df_vif['variable'] = df_x_const.columns\n",
    "df_vif['VIF'] = [variance_inflation_factor(df_x_const.values,i) for i in range(df_x_const.shape[1])]\n",
    "df_vif.sort_values('VIF',inplace=True)\n",
    "df_vif.round(3) # 다중공선성 존재 X -> 회귀식 자체로 판단"
   ]
  },
  {
   "cell_type": "code",
   "execution_count": 51,
   "metadata": {},
   "outputs": [
    {
     "name": "stdout",
     "output_type": "stream",
     "text": [
      "Warning: Maximum number of iterations has been exceeded.\n",
      "         Current function value: 0.337774\n",
      "         Iterations: 35\n",
      "                           Logit Regression Results                           \n",
      "==============================================================================\n",
      "Dep. Variable:                   risk   No. Observations:                  989\n",
      "Model:                          Logit   Df Residuals:                      971\n",
      "Method:                           MLE   Df Model:                           17\n",
      "Date:                Tue, 16 Mar 2021   Pseudo R-squ.:                 0.06029\n",
      "Time:                        09:14:01   Log-Likelihood:                -334.06\n",
      "converged:                      False   LL-Null:                       -355.49\n",
      "Covariance Type:            nonrobust   LLR p-value:                 0.0005024\n",
      "=============================================================================================\n",
      "                                coef    std err          z      P>|z|      [0.025      0.975]\n",
      "---------------------------------------------------------------------------------------------\n",
      "Intercept                    17.5752      4.911      3.579      0.000       7.950      27.200\n",
      "C(gender)[T.2]               -1.4869      0.362     -4.109      0.000      -2.196      -0.778\n",
      "C(pulse_count_judge)[T.1]    16.7142   1.07e+04      0.002      0.999    -2.1e+04     2.1e+04\n",
      "C(judge_score)[T.1]          -0.0320      0.261     -0.123      0.902      -0.544       0.480\n",
      "C(judge_score)[T.2]           0.7715      0.537      1.437      0.151      -0.281       1.824\n",
      "C(judge_score)[T.3]          -0.8949      0.501     -1.785      0.074      -1.878       0.088\n",
      "C(judge_score)[T.4]           0.5355      0.769      0.696      0.486      -0.972       2.043\n",
      "C(judge_score)[T.5]          -0.7637      0.690     -1.106      0.269      -2.116       0.589\n",
      "C(judge_score)[T.6]          21.0033    6.7e+04      0.000      1.000   -1.31e+05    1.31e+05\n",
      "C(bp_judge)[T.1]              0.5440      0.395      1.376      0.169      -0.231       1.319\n",
      "age                          -0.0385      0.012     -3.144      0.002      -0.063      -0.015\n",
      "height                       -0.0659      0.025     -2.593      0.010      -0.116      -0.016\n",
      "bust                         -0.0117      0.028     -0.421      0.674      -0.066       0.043\n",
      "bmi                          -0.0130      0.070     -0.184      0.854      -0.151       0.125\n",
      "whtr                         -0.0203      0.045     -0.457      0.648      -0.108       0.067\n",
      "bp_min                        0.0551      0.031      1.768      0.077      -0.006       0.116\n",
      "bp_max                       -0.0440      0.027     -1.624      0.104      -0.097       0.009\n",
      "pulse_count                   0.0181      0.022      0.808      0.419      -0.026       0.062\n",
      "=============================================================================================\n"
     ]
    },
    {
     "name": "stderr",
     "output_type": "stream",
     "text": [
      "/home/piai/anaconda3/lib/python3.8/site-packages/statsmodels/base/model.py:566: ConvergenceWarning: Maximum Likelihood optimization failed to converge. Check mle_retvals\n",
      "  warnings.warn(\"Maximum Likelihood optimization failed to \"\n"
     ]
    }
   ],
   "source": [
    "log_model = Logit.from_formula(''' risk ~ C(gender) + age + height + bust\n",
    "+bmi+whtr+bp_min+bp_max+pulse_count + C(pulse_count_judge) +C(judge_score)+\n",
    "C(bp_judge)''',data = g_test)\n",
    "log_result = log_model.fit()\n",
    "print(log_result.summary())\n",
    "\n",
    "# 판정은 0 아니면 1 따라서, 스케일은 진행하지 X"
   ]
  },
  {
   "cell_type": "code",
   "execution_count": 52,
   "metadata": {},
   "outputs": [
    {
     "name": "stdout",
     "output_type": "stream",
     "text": [
      "select variables :  Index(['gender', 'height', 'bp_judge', 'pulse_count_judge', 'whtr'], dtype='object')\n",
      "removed variable :  Index(['Unnamed: 0.1', 'age', 'bust', 'bp_min', 'bp_max', 'pulse_count',\n",
      "       'bt_chol', 'judge_score', 'bmi'],\n",
      "      dtype='object')\n"
     ]
    }
   ],
   "source": [
    "df_y = g_test['risk']\n",
    "model = LinearRegression()\n",
    "rfe = RFE(estimator = model, n_features_to_select = 5).fit(df_x,df_y)\n",
    "# df_x는 다중 공선성으로 제거 후 남은 x인자만 존재\n",
    "selected_cols = df_x.columns[rfe.support_]\n",
    "removed_cols = df_x.columns[~rfe.support_]\n",
    "\n",
    "print(\"select variables : \",selected_cols)\n",
    "print(\"removed variable : \",removed_cols)"
   ]
  },
  {
   "cell_type": "code",
   "execution_count": 53,
   "metadata": {},
   "outputs": [
    {
     "name": "stdout",
     "output_type": "stream",
     "text": [
      "Warning: Maximum number of iterations has been exceeded.\n",
      "         Current function value: 0.349876\n",
      "         Iterations: 35\n",
      "                           Logit Regression Results                           \n",
      "==============================================================================\n",
      "Dep. Variable:                   risk   No. Observations:                  989\n",
      "Model:                          Logit   Df Residuals:                      983\n",
      "Method:                           MLE   Df Model:                            5\n",
      "Date:                Tue, 16 Mar 2021   Pseudo R-squ.:                 0.02662\n",
      "Time:                        09:14:01   Log-Likelihood:                -346.03\n",
      "converged:                      False   LL-Null:                       -355.49\n",
      "Covariance Type:            nonrobust   LLR p-value:                  0.001983\n",
      "=============================================================================================\n",
      "                                coef    std err          z      P>|z|      [0.025      0.975]\n",
      "---------------------------------------------------------------------------------------------\n",
      "Intercept                    13.5631      3.932      3.449      0.001       5.856      21.270\n",
      "C(gender)[T.2]               -1.2565      0.343     -3.662      0.000      -1.929      -0.584\n",
      "C(pulse_count_judge)[T.1]    16.0484   1.07e+04      0.001      0.999    -2.1e+04     2.1e+04\n",
      "C(bp_judge)[T.1]              0.1990      0.280      0.711      0.477      -0.350       0.748\n",
      "height                       -0.0479      0.020     -2.351      0.019      -0.088      -0.008\n",
      "whtr                         -0.0614      0.024     -2.566      0.010      -0.108      -0.015\n",
      "=============================================================================================\n"
     ]
    },
    {
     "name": "stderr",
     "output_type": "stream",
     "text": [
      "/home/piai/anaconda3/lib/python3.8/site-packages/statsmodels/base/model.py:566: ConvergenceWarning: Maximum Likelihood optimization failed to converge. Check mle_retvals\n",
      "  warnings.warn(\"Maximum Likelihood optimization failed to \"\n"
     ]
    }
   ],
   "source": [
    "log_model = Logit.from_formula(''' risk ~ C(gender) + height\n",
    "+whtr+C(pulse_count_judge)+\n",
    "C(bp_judge)''',data = g_test)\n",
    "log_result = log_model.fit()\n",
    "print(log_result.summary())\n",
    "\n",
    "# 판정은 0 아니면 1 따라서, 스케일은 진행하지 X"
   ]
  },
  {
   "cell_type": "code",
   "execution_count": 54,
   "metadata": {},
   "outputs": [
    {
     "name": "stdout",
     "output_type": "stream",
     "text": [
      "Optimization terminated successfully.\n",
      "         Current function value: 0.350218\n",
      "         Iterations 7\n",
      "                           Logit Regression Results                           \n",
      "==============================================================================\n",
      "Dep. Variable:                   risk   No. Observations:                  989\n",
      "Model:                          Logit   Df Residuals:                      985\n",
      "Method:                           MLE   Df Model:                            3\n",
      "Date:                Tue, 16 Mar 2021   Pseudo R-squ.:                 0.02567\n",
      "Time:                        09:14:01   Log-Likelihood:                -346.37\n",
      "converged:                       True   LL-Null:                       -355.49\n",
      "Covariance Type:            nonrobust   LLR p-value:                 0.0003903\n",
      "==================================================================================\n",
      "                     coef    std err          z      P>|z|      [0.025      0.975]\n",
      "----------------------------------------------------------------------------------\n",
      "Intercept         13.7044      3.930      3.487      0.000       6.002      21.406\n",
      "C(gender)[T.2]    -1.2920      0.341     -3.790      0.000      -1.960      -0.624\n",
      "height            -0.0490      0.020     -2.409      0.016      -0.089      -0.009\n",
      "whtr              -0.0594      0.024     -2.511      0.012      -0.106      -0.013\n",
      "==================================================================================\n"
     ]
    }
   ],
   "source": [
    "log_model = Logit.from_formula(''' risk ~ C(gender) + height\n",
    "+whtr''',data = g_test)\n",
    "log_result = log_model.fit()\n",
    "print(log_result.summary())\n",
    "\n",
    "# 판정은 0 아니면 1 따라서, 스케일은 진행하지 X"
   ]
  },
  {
   "cell_type": "code",
   "execution_count": 55,
   "metadata": {},
   "outputs": [
    {
     "name": "stdout",
     "output_type": "stream",
     "text": [
      "Optimization terminated successfully.\n",
      "         Current function value: 0.345727\n",
      "         Iterations 7\n",
      "                           Logit Regression Results                           \n",
      "==============================================================================\n",
      "Dep. Variable:                   risk   No. Observations:                  989\n",
      "Model:                          Logit   Df Residuals:                      985\n",
      "Method:                           MLE   Df Model:                            3\n",
      "Date:                Tue, 16 Mar 2021   Pseudo R-squ.:                 0.03816\n",
      "Time:                        09:14:01   Log-Likelihood:                -341.92\n",
      "converged:                       True   LL-Null:                       -355.49\n",
      "Covariance Type:            nonrobust   LLR p-value:                 5.518e-06\n",
      "==================================================================================\n",
      "                     coef    std err          z      P>|z|      [0.025      0.975]\n",
      "----------------------------------------------------------------------------------\n",
      "Intercept         15.9665      3.973      4.019      0.000       8.180      23.753\n",
      "C(gender)[T.2]    -1.4217      0.344     -4.134      0.000      -2.096      -0.748\n",
      "age               -0.0425      0.012     -3.662      0.000      -0.065      -0.020\n",
      "height            -0.0670      0.022     -3.085      0.002      -0.110      -0.024\n",
      "==================================================================================\n"
     ]
    }
   ],
   "source": [
    "log_model = Logit.from_formula(''' risk ~ C(gender) + age + height \n",
    "''',data = g_test)\n",
    "log_result = log_model.fit()\n",
    "print(log_result.summary())\n",
    "\n",
    "# 로지스틱 2"
   ]
  },
  {
   "cell_type": "markdown",
   "metadata": {},
   "source": [
    "# Case 정리\n",
    "\n",
    "- 파라미터 설정 X (컨퓨전 분류 X)\n",
    "- scale 모델 사용 X (컨퓨전 분류 X)\n",
    "\n",
    "### 정확도 / 정밀도 / 재현도_GB모델\n",
    "\n",
    "- 검정 : 'age', 'gender', 0.869, 컨퓨전 x\n",
    "- 로지스틱 : 'gender','height','whtr', 0.828 / 0.866 / 0.95\n",
    "- 후진제거법 : 'gender', 'height', 'whtr', 'bp_judge', 'pulse_count_judge' 0.825 / 0.866 / recall 0.946\n",
    "- 로지스틱 2 : 'gender' , 'age' , 'height' 0.862 / 0.87 / 0.988\n",
    "\n",
    "### 정확도 / 정밀도 / 재현도_RF모델\n",
    "\n",
    "- 검정 : 'age', 'gender', 0.869, 컨퓨전 x\n",
    "- 로지스틱 : 'gender','height','whtr', 0.828 / 0.866 / 0.95\n",
    "- 후진제거법 : 'gender', 'height', 'whtr', 'bp_judge', 'pulse_count_judge' 0.828 / 0.865 / recall 0.946\n",
    "- 로지스틱 2 : 'gender' , 'age' , 'height' 0.862 / 0.87 / 0.988\n",
    "- 'gender','age','height','whtr','bmi' 0.862 / 0.871 / 0.992 -> 선택(정밀도 높은 모델)"
   ]
  },
  {
   "cell_type": "code",
   "execution_count": 56,
   "metadata": {},
   "outputs": [],
   "source": [
    "ensem_x = g_test[['gender','age','height','whtr','bmi']]\n",
    "ensem_y = g_test[['risk']]\n",
    "\n",
    "# ensem_x = pd.get_dummies(ensem_x)\n",
    "\n",
    "# scaler = StandardScaler()\n",
    "# en_sc = scaler.fit_transform(ensem_x)\n",
    "# ensem_x = pd.DataFrame(en_sc,columns=ensem_x.columns)\n",
    "\n",
    "# 데이터 분할 1 : 학습용과 시험용\n",
    "\n",
    "train_x, test_x, train_y, test_y = train_test_split(ensem_x,ensem_y,test_size=0.3,random_state = 1234)\n",
    "# 학습용 데이터를 밸리데이션과 학습용으로 분할함으로써 CV진행 준비\n",
    "train_x, val_x, train_y, val_y = train_test_split(train_x,train_y,test_size = 3/7, random_state = 1234)"
   ]
  },
  {
   "cell_type": "code",
   "execution_count": 57,
   "metadata": {},
   "outputs": [
    {
     "name": "stderr",
     "output_type": "stream",
     "text": [
      "<ipython-input-57-54b5de49640e>:2: DataConversionWarning: A column-vector y was passed when a 1d array was expected. Please change the shape of y to (n_samples,), for example using ravel().\n",
      "  gb_first.fit(train_x,train_y)\n"
     ]
    },
    {
     "name": "stdout",
     "output_type": "stream",
     "text": [
      "\n",
      "초기 모델의 train data의 설명력 : 1.000\n",
      "초기 모델의 validation data의 설명력 : 0.872\n",
      "초기 모델의 test data의 설명력 : 0.869\n"
     ]
    }
   ],
   "source": [
    "gb_first = RandomForestClassifier(random_state=1234)\n",
    "gb_first.fit(train_x,train_y)\n",
    "\n",
    "print()\n",
    "print('초기 모델의 train data의 설명력 : {:.3f}'.format(gb_first.score(train_x,train_y)))\n",
    "print('초기 모델의 validation data의 설명력 : {:.3f}'.format(gb_first.score(val_x,val_y)))\n",
    "print('초기 모델의 test data의 설명력 : {:.3f}'.format(gb_first.score(test_x,test_y)))"
   ]
  },
  {
   "cell_type": "code",
   "execution_count": 58,
   "metadata": {},
   "outputs": [
    {
     "name": "stdout",
     "output_type": "stream",
     "text": [
      "Accuracy:0.869\n",
      "\n",
      "Confusion matrix:\n",
      "[[  0  35]\n",
      " [  4 258]]\n"
     ]
    },
    {
     "name": "stderr",
     "output_type": "stream",
     "text": [
      "<ipython-input-58-3a8537d72896>:20: DataConversionWarning: A column-vector y was passed when a 1d array was expected. Please change the shape of y to (n_samples,), for example using ravel().\n",
      "  gb_model.fit(train_x,train_y)\n"
     ]
    },
    {
     "data": {
      "text/html": [
       "<div>\n",
       "<style scoped>\n",
       "    .dataframe tbody tr th:only-of-type {\n",
       "        vertical-align: middle;\n",
       "    }\n",
       "\n",
       "    .dataframe tbody tr th {\n",
       "        vertical-align: top;\n",
       "    }\n",
       "\n",
       "    .dataframe thead th {\n",
       "        text-align: right;\n",
       "    }\n",
       "</style>\n",
       "<table border=\"1\" class=\"dataframe\">\n",
       "  <thead>\n",
       "    <tr style=\"text-align: right;\">\n",
       "      <th></th>\n",
       "      <th>TrainAccuracy</th>\n",
       "      <th>TestAccuracy</th>\n",
       "      <th>F1Score</th>\n",
       "      <th>AUC</th>\n",
       "      <th>PrecisionScore</th>\n",
       "      <th>RecallScore</th>\n",
       "    </tr>\n",
       "  </thead>\n",
       "  <tbody>\n",
       "    <tr>\n",
       "      <th>GradientBoosting</th>\n",
       "      <td>1.0</td>\n",
       "      <td>0.869</td>\n",
       "      <td>0.93</td>\n",
       "      <td>0.492</td>\n",
       "      <td>0.881</td>\n",
       "      <td>0.985</td>\n",
       "    </tr>\n",
       "  </tbody>\n",
       "</table>\n",
       "</div>"
      ],
      "text/plain": [
       "                  TrainAccuracy  TestAccuracy  F1Score    AUC  PrecisionScore  \\\n",
       "GradientBoosting            1.0         0.869     0.93  0.492           0.881   \n",
       "\n",
       "                  RecallScore  \n",
       "GradientBoosting        0.985  "
      ]
     },
     "execution_count": 58,
     "metadata": {},
     "output_type": "execute_result"
    }
   ],
   "source": [
    "y_pred=gb_first.predict(test_x)\n",
    "print('Accuracy:{0:.3f}\\n'.format(gb_first.score(test_x,test_y)))\n",
    "print('Confusion matrix:\\n{}'.format(confusion_matrix(test_y,y_pred)))\n",
    "\n",
    "#분석 모델\n",
    "model=['GradientBoosting']\n",
    "#정확도 저장\n",
    "train_accuracy=[]; test_accuracy=[]\n",
    "#f1 score 저장\n",
    "model_f1_score=[]\n",
    "#auc score 저장\n",
    "model_auc=[]\n",
    "#precision score저장\n",
    "model_precision_score=[]\n",
    "#recall score 저장\n",
    "model_recall_score=[]\n",
    "\n",
    "#최종 모델\n",
    "gb_model=RandomForestClassifier(random_state=1234)\n",
    "gb_model.fit(train_x,train_y)\n",
    "# train 정확도\n",
    "train_accuracy.append(gb_model.score(train_x, train_y))\n",
    "# test 정확도\n",
    "test_accuracy.append(gb_model.score(test_x, test_y))\n",
    "#최종 모델을 이용한 분류 예측\n",
    "y_pred=gb_model.predict(test_x)\n",
    "#roc_curve(실제값,예측값) fpr=(FP)/(FP+TN):거짓 양성 비율, tpr=TP/(TP+FN):진짜 양성비율(재현율)\n",
    "fpr,tpr,thresholds=roc_curve(test_y,y_pred)\n",
    "roc_auc=auc(fpr,tpr)\n",
    "#auc 저장\n",
    "model_auc.append(roc_auc)\n",
    "\n",
    "#f1스코어\n",
    "model_f1_score.append(f1_score(test_y,y_pred))\n",
    "#precision 스코어\n",
    "model_precision_score.append(precision_score(test_y,y_pred))\n",
    "#recall 스코어\n",
    "model_recall_score.append(recall_score(test_y,y_pred))\n",
    "\n",
    "df_eval=pd.DataFrame(index=model)\n",
    "df_eval['TrainAccuracy']=train_accuracy\n",
    "df_eval['TestAccuracy']=test_accuracy\n",
    "df_eval['F1Score']=model_f1_score\n",
    "df_eval['AUC']=model_auc\n",
    "df_eval['PrecisionScore']=model_precision_score\n",
    "df_eval['RecallScore']=model_recall_score\n",
    "df_eval.round(3)"
   ]
  },
  {
   "cell_type": "markdown",
   "metadata": {},
   "source": [
    "정밀도 고려 : 최종 변수 선택 'gender','age','height','whtr','bmi'"
   ]
  },
  {
   "cell_type": "markdown",
   "metadata": {},
   "source": [
    "## 거절 고객 분류"
   ]
  },
  {
   "cell_type": "code",
   "execution_count": 59,
   "metadata": {},
   "outputs": [],
   "source": [
    "df_raw = pd.read_csv('pre_review_preprocessing.csv',encoding='euckr')\n",
    "#insu_pre_review\n",
    "df_test = df_raw[df_raw['judge']=='거절']\n",
    "df_test = df_test[df_test['review_cat'] != '혈액검사']\n",
    "df_reject = df_test[['gender','age','height','whtr','bmi']]\n",
    "\n",
    "# df_reject = pd.get_dummies(df_reject)\n",
    "# en_sc_2 = scaler.fit_transform(df_reject)\n",
    "# df_reject = pd.DataFrame(en_sc_2,columns=df_reject.columns)"
   ]
  },
  {
   "cell_type": "code",
   "execution_count": 60,
   "metadata": {},
   "outputs": [
    {
     "name": "stderr",
     "output_type": "stream",
     "text": [
      "<ipython-input-60-8feb989cba7a>:2: SettingWithCopyWarning: \n",
      "A value is trying to be set on a copy of a slice from a DataFrame.\n",
      "Try using .loc[row_indexer,col_indexer] = value instead\n",
      "\n",
      "See the caveats in the documentation: https://pandas.pydata.org/pandas-docs/stable/user_guide/indexing.html#returning-a-view-versus-a-copy\n",
      "  df_reject['risk'] = pred\n",
      "<ipython-input-60-8feb989cba7a>:3: SettingWithCopyWarning: \n",
      "A value is trying to be set on a copy of a slice from a DataFrame.\n",
      "Try using .loc[row_indexer,col_indexer] = value instead\n",
      "\n",
      "See the caveats in the documentation: https://pandas.pydata.org/pandas-docs/stable/user_guide/indexing.html#returning-a-view-versus-a-copy\n",
      "  df_reject['customer_id'] = df_test['customer_id']\n"
     ]
    }
   ],
   "source": [
    "pred = gb_first.predict(df_reject)\n",
    "df_reject['risk'] = pred\n",
    "df_reject['customer_id'] = df_test['customer_id']"
   ]
  },
  {
   "cell_type": "code",
   "execution_count": 61,
   "metadata": {},
   "outputs": [
    {
     "data": {
      "text/html": [
       "<div>\n",
       "<style scoped>\n",
       "    .dataframe tbody tr th:only-of-type {\n",
       "        vertical-align: middle;\n",
       "    }\n",
       "\n",
       "    .dataframe tbody tr th {\n",
       "        vertical-align: top;\n",
       "    }\n",
       "\n",
       "    .dataframe thead th {\n",
       "        text-align: right;\n",
       "    }\n",
       "</style>\n",
       "<table border=\"1\" class=\"dataframe\">\n",
       "  <thead>\n",
       "    <tr style=\"text-align: right;\">\n",
       "      <th></th>\n",
       "      <th>gender</th>\n",
       "      <th>age</th>\n",
       "      <th>height</th>\n",
       "      <th>whtr</th>\n",
       "      <th>bmi</th>\n",
       "      <th>customer_id</th>\n",
       "    </tr>\n",
       "    <tr>\n",
       "      <th>risk</th>\n",
       "      <th></th>\n",
       "      <th></th>\n",
       "      <th></th>\n",
       "      <th></th>\n",
       "      <th></th>\n",
       "      <th></th>\n",
       "    </tr>\n",
       "  </thead>\n",
       "  <tbody>\n",
       "    <tr>\n",
       "      <th>0.0</th>\n",
       "      <td>13</td>\n",
       "      <td>13</td>\n",
       "      <td>13</td>\n",
       "      <td>13</td>\n",
       "      <td>13</td>\n",
       "      <td>13</td>\n",
       "    </tr>\n",
       "    <tr>\n",
       "      <th>1.0</th>\n",
       "      <td>470</td>\n",
       "      <td>470</td>\n",
       "      <td>470</td>\n",
       "      <td>470</td>\n",
       "      <td>470</td>\n",
       "      <td>470</td>\n",
       "    </tr>\n",
       "  </tbody>\n",
       "</table>\n",
       "</div>"
      ],
      "text/plain": [
       "      gender  age  height  whtr  bmi  customer_id\n",
       "risk                                             \n",
       "0.0       13   13      13    13   13           13\n",
       "1.0      470  470     470   470  470          470"
      ]
     },
     "execution_count": 61,
     "metadata": {},
     "output_type": "execute_result"
    }
   ],
   "source": [
    "df_reject.groupby('risk').count()"
   ]
  },
  {
   "cell_type": "markdown",
   "metadata": {},
   "source": [
    "### 총 수익 고객 4명, 위험 고객 479명 -> 일반 검사 기준\n",
    "### 위험 고객은 2분류 이동, 저위험 고위험으로 분류\n",
    "\n",
    "- 최대한 정확도, 정밀도가 높은 변수 선정 -> 일반검사는 정보가 부족, 엄격하게!"
   ]
  },
  {
   "cell_type": "code",
   "execution_count": 62,
   "metadata": {},
   "outputs": [],
   "source": [
    "# 데이터 내보내기\n",
    "\n",
    "df_profit = df_reject[df_reject['risk'] == 0][['customer_id','risk']]\n",
    "df_danger = df_reject[df_reject['risk'] == 1][['customer_id','risk']]\n",
    "\n",
    "df_profit.to_csv('profit_reject_g.csv',encoding='euckr')\n",
    "df_danger.to_csv('danger_reject_g.csv',encoding='euckr')"
   ]
  },
  {
   "cell_type": "code",
   "execution_count": null,
   "metadata": {},
   "outputs": [],
   "source": []
  }
 ],
 "metadata": {
  "kernelspec": {
   "display_name": "Python 3",
   "language": "python",
   "name": "python3"
  },
  "language_info": {
   "codemirror_mode": {
    "name": "ipython",
    "version": 3
   },
   "file_extension": ".py",
   "mimetype": "text/x-python",
   "name": "python",
   "nbconvert_exporter": "python",
   "pygments_lexer": "ipython3",
   "version": "3.8.5"
  }
 },
 "nbformat": 4,
 "nbformat_minor": 4
}
